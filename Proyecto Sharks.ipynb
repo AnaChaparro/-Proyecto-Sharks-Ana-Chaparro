{
 "cells": [
  {
   "cell_type": "markdown",
   "id": "c8ffe5d6",
   "metadata": {},
   "source": [
    "# DATA CLEANING CSV DE REGISTROS DE ATAQUES DE TIBURONES."
   ]
  },
  {
   "cell_type": "code",
   "execution_count": 1,
   "id": "fa521d41",
   "metadata": {},
   "outputs": [
    {
     "name": "stdout",
     "output_type": "stream",
     "text": [
      "Requirement already satisfied: ipython in /Users/anachaparrohernandez/opt/anaconda3/lib/python3.9/site-packages (8.2.0)\n",
      "Requirement already satisfied: matplotlib-inline in /Users/anachaparrohernandez/opt/anaconda3/lib/python3.9/site-packages (from ipython) (0.1.2)\n",
      "Requirement already satisfied: jedi>=0.16 in /Users/anachaparrohernandez/opt/anaconda3/lib/python3.9/site-packages (from ipython) (0.18.1)\n",
      "Requirement already satisfied: prompt-toolkit!=3.0.0,!=3.0.1,<3.1.0,>=2.0.0 in /Users/anachaparrohernandez/opt/anaconda3/lib/python3.9/site-packages (from ipython) (3.0.20)\n",
      "Requirement already satisfied: pygments>=2.4.0 in /Users/anachaparrohernandez/opt/anaconda3/lib/python3.9/site-packages (from ipython) (2.11.2)\n",
      "Requirement already satisfied: traitlets>=5 in /Users/anachaparrohernandez/opt/anaconda3/lib/python3.9/site-packages (from ipython) (5.1.1)\n",
      "Requirement already satisfied: pexpect>4.3 in /Users/anachaparrohernandez/opt/anaconda3/lib/python3.9/site-packages (from ipython) (4.8.0)\n",
      "Requirement already satisfied: decorator in /Users/anachaparrohernandez/opt/anaconda3/lib/python3.9/site-packages (from ipython) (5.1.1)\n",
      "Requirement already satisfied: pickleshare in /Users/anachaparrohernandez/opt/anaconda3/lib/python3.9/site-packages (from ipython) (0.7.5)\n",
      "Requirement already satisfied: stack-data in /Users/anachaparrohernandez/opt/anaconda3/lib/python3.9/site-packages (from ipython) (0.2.0)\n",
      "Requirement already satisfied: appnope in /Users/anachaparrohernandez/opt/anaconda3/lib/python3.9/site-packages (from ipython) (0.1.2)\n",
      "Requirement already satisfied: backcall in /Users/anachaparrohernandez/opt/anaconda3/lib/python3.9/site-packages (from ipython) (0.2.0)\n",
      "Requirement already satisfied: setuptools>=18.5 in /Users/anachaparrohernandez/opt/anaconda3/lib/python3.9/site-packages (from ipython) (61.2.0)\n",
      "Requirement already satisfied: parso<0.9.0,>=0.8.0 in /Users/anachaparrohernandez/opt/anaconda3/lib/python3.9/site-packages (from jedi>=0.16->ipython) (0.8.3)\n",
      "Requirement already satisfied: ptyprocess>=0.5 in /Users/anachaparrohernandez/opt/anaconda3/lib/python3.9/site-packages (from pexpect>4.3->ipython) (0.7.0)\n",
      "Requirement already satisfied: wcwidth in /Users/anachaparrohernandez/opt/anaconda3/lib/python3.9/site-packages (from prompt-toolkit!=3.0.0,!=3.0.1,<3.1.0,>=2.0.0->ipython) (0.2.5)\n",
      "Requirement already satisfied: pure-eval in /Users/anachaparrohernandez/opt/anaconda3/lib/python3.9/site-packages (from stack-data->ipython) (0.2.2)\n",
      "Requirement already satisfied: asttokens in /Users/anachaparrohernandez/opt/anaconda3/lib/python3.9/site-packages (from stack-data->ipython) (2.0.5)\n",
      "Requirement already satisfied: executing in /Users/anachaparrohernandez/opt/anaconda3/lib/python3.9/site-packages (from stack-data->ipython) (0.8.3)\n",
      "Requirement already satisfied: six in /Users/anachaparrohernandez/opt/anaconda3/lib/python3.9/site-packages (from asttokens->stack-data->ipython) (1.16.0)\n",
      "Note: you may need to restart the kernel to use updated packages.\n",
      "Requirement already satisfied: seaborn in /Users/anachaparrohernandez/opt/anaconda3/lib/python3.9/site-packages (0.11.2)\n",
      "Requirement already satisfied: matplotlib>=2.2 in /Users/anachaparrohernandez/opt/anaconda3/lib/python3.9/site-packages (from seaborn) (3.5.1)\n",
      "Requirement already satisfied: numpy>=1.15 in /Users/anachaparrohernandez/opt/anaconda3/lib/python3.9/site-packages (from seaborn) (1.21.5)\n",
      "Requirement already satisfied: pandas>=0.23 in /Users/anachaparrohernandez/opt/anaconda3/lib/python3.9/site-packages (from seaborn) (1.4.2)\n",
      "Requirement already satisfied: scipy>=1.0 in /Users/anachaparrohernandez/opt/anaconda3/lib/python3.9/site-packages (from seaborn) (1.7.3)\n",
      "Requirement already satisfied: packaging>=20.0 in /Users/anachaparrohernandez/opt/anaconda3/lib/python3.9/site-packages (from matplotlib>=2.2->seaborn) (21.3)\n",
      "Requirement already satisfied: pyparsing>=2.2.1 in /Users/anachaparrohernandez/opt/anaconda3/lib/python3.9/site-packages (from matplotlib>=2.2->seaborn) (3.0.4)\n",
      "Requirement already satisfied: python-dateutil>=2.7 in /Users/anachaparrohernandez/opt/anaconda3/lib/python3.9/site-packages (from matplotlib>=2.2->seaborn) (2.8.2)\n",
      "Requirement already satisfied: cycler>=0.10 in /Users/anachaparrohernandez/opt/anaconda3/lib/python3.9/site-packages (from matplotlib>=2.2->seaborn) (0.11.0)\n",
      "Requirement already satisfied: kiwisolver>=1.0.1 in /Users/anachaparrohernandez/opt/anaconda3/lib/python3.9/site-packages (from matplotlib>=2.2->seaborn) (1.3.2)\n",
      "Requirement already satisfied: pillow>=6.2.0 in /Users/anachaparrohernandez/opt/anaconda3/lib/python3.9/site-packages (from matplotlib>=2.2->seaborn) (9.0.1)\n",
      "Requirement already satisfied: fonttools>=4.22.0 in /Users/anachaparrohernandez/opt/anaconda3/lib/python3.9/site-packages (from matplotlib>=2.2->seaborn) (4.25.0)\n",
      "Requirement already satisfied: pytz>=2020.1 in /Users/anachaparrohernandez/opt/anaconda3/lib/python3.9/site-packages (from pandas>=0.23->seaborn) (2021.3)\n",
      "Requirement already satisfied: six>=1.5 in /Users/anachaparrohernandez/opt/anaconda3/lib/python3.9/site-packages (from python-dateutil>=2.7->matplotlib>=2.2->seaborn) (1.16.0)\n",
      "Note: you may need to restart the kernel to use updated packages.\n"
     ]
    }
   ],
   "source": [
    "import pandas as pd\n",
    "import numpy as np\n",
    "import warnings\n",
    "warnings.filterwarnings('ignore')\n",
    "import csv\n",
    "import src.cleaning_functions as cf"
   ]
  },
  {
   "cell_type": "markdown",
   "id": "22e4695f",
   "metadata": {},
   "source": [
    "Se hace la importación del archivo csv."
   ]
  },
  {
   "cell_type": "code",
   "execution_count": 2,
   "id": "bd90c34d",
   "metadata": {},
   "outputs": [],
   "source": [
    "#El DataFrame se nomnbra attacks.\n",
    "\n",
    "attacks=pd.read_csv('attacks.csv',encoding='latin1')"
   ]
  },
  {
   "cell_type": "code",
   "execution_count": 3,
   "id": "e34d325d",
   "metadata": {},
   "outputs": [
    {
     "data": {
      "text/html": [
       "<div>\n",
       "<style scoped>\n",
       "    .dataframe tbody tr th:only-of-type {\n",
       "        vertical-align: middle;\n",
       "    }\n",
       "\n",
       "    .dataframe tbody tr th {\n",
       "        vertical-align: top;\n",
       "    }\n",
       "\n",
       "    .dataframe thead th {\n",
       "        text-align: right;\n",
       "    }\n",
       "</style>\n",
       "<table border=\"1\" class=\"dataframe\">\n",
       "  <thead>\n",
       "    <tr style=\"text-align: right;\">\n",
       "      <th></th>\n",
       "      <th>Case Number</th>\n",
       "      <th>Date</th>\n",
       "      <th>Year</th>\n",
       "      <th>Type</th>\n",
       "      <th>Country</th>\n",
       "      <th>Area</th>\n",
       "      <th>Location</th>\n",
       "      <th>Activity</th>\n",
       "      <th>Name</th>\n",
       "      <th>Sex</th>\n",
       "      <th>...</th>\n",
       "      <th>Species</th>\n",
       "      <th>Investigator or Source</th>\n",
       "      <th>pdf</th>\n",
       "      <th>href formula</th>\n",
       "      <th>href</th>\n",
       "      <th>Case Number.1</th>\n",
       "      <th>Case Number.2</th>\n",
       "      <th>original order</th>\n",
       "      <th>Unnamed: 22</th>\n",
       "      <th>Unnamed: 23</th>\n",
       "    </tr>\n",
       "  </thead>\n",
       "  <tbody>\n",
       "    <tr>\n",
       "      <th>0</th>\n",
       "      <td>2018.06.25</td>\n",
       "      <td>25-Jun-2018</td>\n",
       "      <td>2018.0</td>\n",
       "      <td>Boating</td>\n",
       "      <td>USA</td>\n",
       "      <td>California</td>\n",
       "      <td>Oceanside, San Diego County</td>\n",
       "      <td>Paddling</td>\n",
       "      <td>Julie Wolfe</td>\n",
       "      <td>F</td>\n",
       "      <td>...</td>\n",
       "      <td>White shark</td>\n",
       "      <td>R. Collier, GSAF</td>\n",
       "      <td>2018.06.25-Wolfe.pdf</td>\n",
       "      <td>http://sharkattackfile.net/spreadsheets/pdf_di...</td>\n",
       "      <td>http://sharkattackfile.net/spreadsheets/pdf_di...</td>\n",
       "      <td>2018.06.25</td>\n",
       "      <td>2018.06.25</td>\n",
       "      <td>6303.0</td>\n",
       "      <td>NaN</td>\n",
       "      <td>NaN</td>\n",
       "    </tr>\n",
       "    <tr>\n",
       "      <th>1</th>\n",
       "      <td>2018.06.18</td>\n",
       "      <td>18-Jun-2018</td>\n",
       "      <td>2018.0</td>\n",
       "      <td>Unprovoked</td>\n",
       "      <td>USA</td>\n",
       "      <td>Georgia</td>\n",
       "      <td>St. Simon Island, Glynn County</td>\n",
       "      <td>Standing</td>\n",
       "      <td>Adyson McNeely</td>\n",
       "      <td>F</td>\n",
       "      <td>...</td>\n",
       "      <td>NaN</td>\n",
       "      <td>K.McMurray, TrackingSharks.com</td>\n",
       "      <td>2018.06.18-McNeely.pdf</td>\n",
       "      <td>http://sharkattackfile.net/spreadsheets/pdf_di...</td>\n",
       "      <td>http://sharkattackfile.net/spreadsheets/pdf_di...</td>\n",
       "      <td>2018.06.18</td>\n",
       "      <td>2018.06.18</td>\n",
       "      <td>6302.0</td>\n",
       "      <td>NaN</td>\n",
       "      <td>NaN</td>\n",
       "    </tr>\n",
       "    <tr>\n",
       "      <th>2</th>\n",
       "      <td>2018.06.09</td>\n",
       "      <td>09-Jun-2018</td>\n",
       "      <td>2018.0</td>\n",
       "      <td>Invalid</td>\n",
       "      <td>USA</td>\n",
       "      <td>Hawaii</td>\n",
       "      <td>Habush, Oahu</td>\n",
       "      <td>Surfing</td>\n",
       "      <td>John Denges</td>\n",
       "      <td>M</td>\n",
       "      <td>...</td>\n",
       "      <td>NaN</td>\n",
       "      <td>K.McMurray, TrackingSharks.com</td>\n",
       "      <td>2018.06.09-Denges.pdf</td>\n",
       "      <td>http://sharkattackfile.net/spreadsheets/pdf_di...</td>\n",
       "      <td>http://sharkattackfile.net/spreadsheets/pdf_di...</td>\n",
       "      <td>2018.06.09</td>\n",
       "      <td>2018.06.09</td>\n",
       "      <td>6301.0</td>\n",
       "      <td>NaN</td>\n",
       "      <td>NaN</td>\n",
       "    </tr>\n",
       "    <tr>\n",
       "      <th>3</th>\n",
       "      <td>2018.06.08</td>\n",
       "      <td>08-Jun-2018</td>\n",
       "      <td>2018.0</td>\n",
       "      <td>Unprovoked</td>\n",
       "      <td>AUSTRALIA</td>\n",
       "      <td>New South Wales</td>\n",
       "      <td>Arrawarra Headland</td>\n",
       "      <td>Surfing</td>\n",
       "      <td>male</td>\n",
       "      <td>M</td>\n",
       "      <td>...</td>\n",
       "      <td>2 m shark</td>\n",
       "      <td>B. Myatt, GSAF</td>\n",
       "      <td>2018.06.08-Arrawarra.pdf</td>\n",
       "      <td>http://sharkattackfile.net/spreadsheets/pdf_di...</td>\n",
       "      <td>http://sharkattackfile.net/spreadsheets/pdf_di...</td>\n",
       "      <td>2018.06.08</td>\n",
       "      <td>2018.06.08</td>\n",
       "      <td>6300.0</td>\n",
       "      <td>NaN</td>\n",
       "      <td>NaN</td>\n",
       "    </tr>\n",
       "    <tr>\n",
       "      <th>4</th>\n",
       "      <td>2018.06.04</td>\n",
       "      <td>04-Jun-2018</td>\n",
       "      <td>2018.0</td>\n",
       "      <td>Provoked</td>\n",
       "      <td>MEXICO</td>\n",
       "      <td>Colima</td>\n",
       "      <td>La Ticla</td>\n",
       "      <td>Free diving</td>\n",
       "      <td>Gustavo Ramos</td>\n",
       "      <td>M</td>\n",
       "      <td>...</td>\n",
       "      <td>Tiger shark, 3m</td>\n",
       "      <td>A .Kipper</td>\n",
       "      <td>2018.06.04-Ramos.pdf</td>\n",
       "      <td>http://sharkattackfile.net/spreadsheets/pdf_di...</td>\n",
       "      <td>http://sharkattackfile.net/spreadsheets/pdf_di...</td>\n",
       "      <td>2018.06.04</td>\n",
       "      <td>2018.06.04</td>\n",
       "      <td>6299.0</td>\n",
       "      <td>NaN</td>\n",
       "      <td>NaN</td>\n",
       "    </tr>\n",
       "  </tbody>\n",
       "</table>\n",
       "<p>5 rows × 24 columns</p>\n",
       "</div>"
      ],
      "text/plain": [
       "  Case Number         Date    Year        Type    Country             Area  \\\n",
       "0  2018.06.25  25-Jun-2018  2018.0     Boating        USA       California   \n",
       "1  2018.06.18  18-Jun-2018  2018.0  Unprovoked        USA          Georgia   \n",
       "2  2018.06.09  09-Jun-2018  2018.0     Invalid        USA           Hawaii   \n",
       "3  2018.06.08  08-Jun-2018  2018.0  Unprovoked  AUSTRALIA  New South Wales   \n",
       "4  2018.06.04  04-Jun-2018  2018.0    Provoked     MEXICO           Colima   \n",
       "\n",
       "                         Location     Activity             Name Sex   ...  \\\n",
       "0     Oceanside, San Diego County     Paddling      Julie Wolfe    F  ...   \n",
       "1  St. Simon Island, Glynn County     Standing  Adyson McNeely     F  ...   \n",
       "2                    Habush, Oahu      Surfing      John Denges    M  ...   \n",
       "3              Arrawarra Headland      Surfing             male    M  ...   \n",
       "4                        La Ticla  Free diving   Gustavo Ramos     M  ...   \n",
       "\n",
       "          Species           Investigator or Source                       pdf  \\\n",
       "0      White shark                R. Collier, GSAF      2018.06.25-Wolfe.pdf   \n",
       "1              NaN  K.McMurray, TrackingSharks.com    2018.06.18-McNeely.pdf   \n",
       "2              NaN  K.McMurray, TrackingSharks.com     2018.06.09-Denges.pdf   \n",
       "3        2 m shark                  B. Myatt, GSAF  2018.06.08-Arrawarra.pdf   \n",
       "4  Tiger shark, 3m                       A .Kipper      2018.06.04-Ramos.pdf   \n",
       "\n",
       "                                        href formula  \\\n",
       "0  http://sharkattackfile.net/spreadsheets/pdf_di...   \n",
       "1  http://sharkattackfile.net/spreadsheets/pdf_di...   \n",
       "2  http://sharkattackfile.net/spreadsheets/pdf_di...   \n",
       "3  http://sharkattackfile.net/spreadsheets/pdf_di...   \n",
       "4  http://sharkattackfile.net/spreadsheets/pdf_di...   \n",
       "\n",
       "                                                href Case Number.1  \\\n",
       "0  http://sharkattackfile.net/spreadsheets/pdf_di...    2018.06.25   \n",
       "1  http://sharkattackfile.net/spreadsheets/pdf_di...    2018.06.18   \n",
       "2  http://sharkattackfile.net/spreadsheets/pdf_di...    2018.06.09   \n",
       "3  http://sharkattackfile.net/spreadsheets/pdf_di...    2018.06.08   \n",
       "4  http://sharkattackfile.net/spreadsheets/pdf_di...    2018.06.04   \n",
       "\n",
       "  Case Number.2 original order Unnamed: 22 Unnamed: 23  \n",
       "0    2018.06.25         6303.0         NaN         NaN  \n",
       "1    2018.06.18         6302.0         NaN         NaN  \n",
       "2    2018.06.09         6301.0         NaN         NaN  \n",
       "3    2018.06.08         6300.0         NaN         NaN  \n",
       "4    2018.06.04         6299.0         NaN         NaN  \n",
       "\n",
       "[5 rows x 24 columns]"
      ]
     },
     "execution_count": 3,
     "metadata": {},
     "output_type": "execute_result"
    }
   ],
   "source": [
    "attacks.head()"
   ]
  },
  {
   "cell_type": "code",
   "execution_count": 4,
   "id": "371d145d",
   "metadata": {},
   "outputs": [],
   "source": [
    "#Se crea una copia del original, para poder mantener la versión original:\n",
    "\n",
    "attacks_original=attacks.copy()"
   ]
  },
  {
   "cell_type": "code",
   "execution_count": 5,
   "id": "8e45c1fd",
   "metadata": {},
   "outputs": [],
   "source": [
    "dim_original=attacks.shape"
   ]
  },
  {
   "cell_type": "code",
   "execution_count": 6,
   "id": "799f3f4f",
   "metadata": {},
   "outputs": [
    {
     "data": {
      "text/plain": [
       "((25723, 24), (25723, 24))"
      ]
     },
     "execution_count": 6,
     "metadata": {},
     "output_type": "execute_result"
    }
   ],
   "source": [
    "#Se comprueban las medidas del original y la copia.\n",
    "\n",
    "attacks.shape, dim_original"
   ]
  },
  {
   "cell_type": "markdown",
   "id": "c77357ce",
   "metadata": {},
   "source": [
    "# Se establece una hipótesis para realizar un estudio.\n",
    "## - Verificar en que país se producen más ataques de tiburones.\n",
    "## - En que sexo se producen más ataques y en que rango de edad de cada sexo.\n",
    "## - Realizando qué actividad se producen más ataques.\n",
    "\n",
    "\n"
   ]
  },
  {
   "cell_type": "code",
   "execution_count": 7,
   "id": "0fd08320",
   "metadata": {},
   "outputs": [
    {
     "data": {
      "text/plain": [
       "Index(['Case Number', 'Date', 'Year', 'Type', 'Country', 'Area', 'Location',\n",
       "       'Activity', 'Name', 'Sex ', 'Age', 'Injury', 'Fatal (Y/N)', 'Time',\n",
       "       'Species ', 'Investigator or Source', 'pdf', 'href formula', 'href',\n",
       "       'Case Number.1', 'Case Number.2', 'original order', 'Unnamed: 22',\n",
       "       'Unnamed: 23'],\n",
       "      dtype='object')"
      ]
     },
     "execution_count": 7,
     "metadata": {},
     "output_type": "execute_result"
    }
   ],
   "source": [
    "#Se verifica las columnas de las que se dispone.\n",
    "\n",
    "attacks.columns"
   ]
  },
  {
   "cell_type": "code",
   "execution_count": 8,
   "id": "2b1d4506",
   "metadata": {},
   "outputs": [
    {
     "name": "stdout",
     "output_type": "stream",
     "text": [
      "<class 'pandas.core.frame.DataFrame'>\n",
      "RangeIndex: 25723 entries, 0 to 25722\n",
      "Data columns (total 24 columns):\n",
      " #   Column                  Non-Null Count  Dtype  \n",
      "---  ------                  --------------  -----  \n",
      " 0   Case Number             8702 non-null   object \n",
      " 1   Date                    6302 non-null   object \n",
      " 2   Year                    6300 non-null   float64\n",
      " 3   Type                    6298 non-null   object \n",
      " 4   Country                 6252 non-null   object \n",
      " 5   Area                    5847 non-null   object \n",
      " 6   Location                5762 non-null   object \n",
      " 7   Activity                5758 non-null   object \n",
      " 8   Name                    6092 non-null   object \n",
      " 9   Sex                     5737 non-null   object \n",
      " 10  Age                     3471 non-null   object \n",
      " 11  Injury                  6274 non-null   object \n",
      " 12  Fatal (Y/N)             5763 non-null   object \n",
      " 13  Time                    2948 non-null   object \n",
      " 14  Species                 3464 non-null   object \n",
      " 15  Investigator or Source  6285 non-null   object \n",
      " 16  pdf                     6302 non-null   object \n",
      " 17  href formula            6301 non-null   object \n",
      " 18  href                    6302 non-null   object \n",
      " 19  Case Number.1           6302 non-null   object \n",
      " 20  Case Number.2           6302 non-null   object \n",
      " 21  original order          6309 non-null   float64\n",
      " 22  Unnamed: 22             1 non-null      object \n",
      " 23  Unnamed: 23             2 non-null      object \n",
      "dtypes: float64(2), object(22)\n",
      "memory usage: 22.8 MB\n"
     ]
    }
   ],
   "source": [
    "attacks.info(memory_usage='deep')"
   ]
  },
  {
   "cell_type": "code",
   "execution_count": 9,
   "id": "5c053655",
   "metadata": {},
   "outputs": [
    {
     "data": {
      "text/html": [
       "<div>\n",
       "<style scoped>\n",
       "    .dataframe tbody tr th:only-of-type {\n",
       "        vertical-align: middle;\n",
       "    }\n",
       "\n",
       "    .dataframe tbody tr th {\n",
       "        vertical-align: top;\n",
       "    }\n",
       "\n",
       "    .dataframe thead th {\n",
       "        text-align: right;\n",
       "    }\n",
       "</style>\n",
       "<table border=\"1\" class=\"dataframe\">\n",
       "  <thead>\n",
       "    <tr style=\"text-align: right;\">\n",
       "      <th></th>\n",
       "      <th>case_number</th>\n",
       "      <th>date</th>\n",
       "      <th>year</th>\n",
       "      <th>type</th>\n",
       "      <th>country</th>\n",
       "      <th>area</th>\n",
       "      <th>location</th>\n",
       "      <th>activity</th>\n",
       "      <th>name</th>\n",
       "      <th>sex_</th>\n",
       "      <th>...</th>\n",
       "      <th>species_</th>\n",
       "      <th>investigator_or_source</th>\n",
       "      <th>pdf</th>\n",
       "      <th>href_formula</th>\n",
       "      <th>href</th>\n",
       "      <th>case_number1</th>\n",
       "      <th>case_number2</th>\n",
       "      <th>original_order</th>\n",
       "      <th>unnamed_22</th>\n",
       "      <th>unnamed_23</th>\n",
       "    </tr>\n",
       "  </thead>\n",
       "  <tbody>\n",
       "    <tr>\n",
       "      <th>0</th>\n",
       "      <td>2018.06.25</td>\n",
       "      <td>25-Jun-2018</td>\n",
       "      <td>2018.0</td>\n",
       "      <td>Boating</td>\n",
       "      <td>USA</td>\n",
       "      <td>California</td>\n",
       "      <td>Oceanside, San Diego County</td>\n",
       "      <td>Paddling</td>\n",
       "      <td>Julie Wolfe</td>\n",
       "      <td>F</td>\n",
       "      <td>...</td>\n",
       "      <td>White shark</td>\n",
       "      <td>R. Collier, GSAF</td>\n",
       "      <td>2018.06.25-Wolfe.pdf</td>\n",
       "      <td>http://sharkattackfile.net/spreadsheets/pdf_di...</td>\n",
       "      <td>http://sharkattackfile.net/spreadsheets/pdf_di...</td>\n",
       "      <td>2018.06.25</td>\n",
       "      <td>2018.06.25</td>\n",
       "      <td>6303.0</td>\n",
       "      <td>NaN</td>\n",
       "      <td>NaN</td>\n",
       "    </tr>\n",
       "    <tr>\n",
       "      <th>1</th>\n",
       "      <td>2018.06.18</td>\n",
       "      <td>18-Jun-2018</td>\n",
       "      <td>2018.0</td>\n",
       "      <td>Unprovoked</td>\n",
       "      <td>USA</td>\n",
       "      <td>Georgia</td>\n",
       "      <td>St. Simon Island, Glynn County</td>\n",
       "      <td>Standing</td>\n",
       "      <td>Adyson McNeely</td>\n",
       "      <td>F</td>\n",
       "      <td>...</td>\n",
       "      <td>NaN</td>\n",
       "      <td>K.McMurray, TrackingSharks.com</td>\n",
       "      <td>2018.06.18-McNeely.pdf</td>\n",
       "      <td>http://sharkattackfile.net/spreadsheets/pdf_di...</td>\n",
       "      <td>http://sharkattackfile.net/spreadsheets/pdf_di...</td>\n",
       "      <td>2018.06.18</td>\n",
       "      <td>2018.06.18</td>\n",
       "      <td>6302.0</td>\n",
       "      <td>NaN</td>\n",
       "      <td>NaN</td>\n",
       "    </tr>\n",
       "    <tr>\n",
       "      <th>2</th>\n",
       "      <td>2018.06.09</td>\n",
       "      <td>09-Jun-2018</td>\n",
       "      <td>2018.0</td>\n",
       "      <td>Invalid</td>\n",
       "      <td>USA</td>\n",
       "      <td>Hawaii</td>\n",
       "      <td>Habush, Oahu</td>\n",
       "      <td>Surfing</td>\n",
       "      <td>John Denges</td>\n",
       "      <td>M</td>\n",
       "      <td>...</td>\n",
       "      <td>NaN</td>\n",
       "      <td>K.McMurray, TrackingSharks.com</td>\n",
       "      <td>2018.06.09-Denges.pdf</td>\n",
       "      <td>http://sharkattackfile.net/spreadsheets/pdf_di...</td>\n",
       "      <td>http://sharkattackfile.net/spreadsheets/pdf_di...</td>\n",
       "      <td>2018.06.09</td>\n",
       "      <td>2018.06.09</td>\n",
       "      <td>6301.0</td>\n",
       "      <td>NaN</td>\n",
       "      <td>NaN</td>\n",
       "    </tr>\n",
       "    <tr>\n",
       "      <th>3</th>\n",
       "      <td>2018.06.08</td>\n",
       "      <td>08-Jun-2018</td>\n",
       "      <td>2018.0</td>\n",
       "      <td>Unprovoked</td>\n",
       "      <td>AUSTRALIA</td>\n",
       "      <td>New South Wales</td>\n",
       "      <td>Arrawarra Headland</td>\n",
       "      <td>Surfing</td>\n",
       "      <td>male</td>\n",
       "      <td>M</td>\n",
       "      <td>...</td>\n",
       "      <td>2 m shark</td>\n",
       "      <td>B. Myatt, GSAF</td>\n",
       "      <td>2018.06.08-Arrawarra.pdf</td>\n",
       "      <td>http://sharkattackfile.net/spreadsheets/pdf_di...</td>\n",
       "      <td>http://sharkattackfile.net/spreadsheets/pdf_di...</td>\n",
       "      <td>2018.06.08</td>\n",
       "      <td>2018.06.08</td>\n",
       "      <td>6300.0</td>\n",
       "      <td>NaN</td>\n",
       "      <td>NaN</td>\n",
       "    </tr>\n",
       "    <tr>\n",
       "      <th>4</th>\n",
       "      <td>2018.06.04</td>\n",
       "      <td>04-Jun-2018</td>\n",
       "      <td>2018.0</td>\n",
       "      <td>Provoked</td>\n",
       "      <td>MEXICO</td>\n",
       "      <td>Colima</td>\n",
       "      <td>La Ticla</td>\n",
       "      <td>Free diving</td>\n",
       "      <td>Gustavo Ramos</td>\n",
       "      <td>M</td>\n",
       "      <td>...</td>\n",
       "      <td>Tiger shark, 3m</td>\n",
       "      <td>A .Kipper</td>\n",
       "      <td>2018.06.04-Ramos.pdf</td>\n",
       "      <td>http://sharkattackfile.net/spreadsheets/pdf_di...</td>\n",
       "      <td>http://sharkattackfile.net/spreadsheets/pdf_di...</td>\n",
       "      <td>2018.06.04</td>\n",
       "      <td>2018.06.04</td>\n",
       "      <td>6299.0</td>\n",
       "      <td>NaN</td>\n",
       "      <td>NaN</td>\n",
       "    </tr>\n",
       "  </tbody>\n",
       "</table>\n",
       "<p>5 rows × 24 columns</p>\n",
       "</div>"
      ],
      "text/plain": [
       "  case_number         date    year        type    country             area  \\\n",
       "0  2018.06.25  25-Jun-2018  2018.0     Boating        USA       California   \n",
       "1  2018.06.18  18-Jun-2018  2018.0  Unprovoked        USA          Georgia   \n",
       "2  2018.06.09  09-Jun-2018  2018.0     Invalid        USA           Hawaii   \n",
       "3  2018.06.08  08-Jun-2018  2018.0  Unprovoked  AUSTRALIA  New South Wales   \n",
       "4  2018.06.04  04-Jun-2018  2018.0    Provoked     MEXICO           Colima   \n",
       "\n",
       "                         location     activity             name sex_  ...  \\\n",
       "0     Oceanside, San Diego County     Paddling      Julie Wolfe    F  ...   \n",
       "1  St. Simon Island, Glynn County     Standing  Adyson McNeely     F  ...   \n",
       "2                    Habush, Oahu      Surfing      John Denges    M  ...   \n",
       "3              Arrawarra Headland      Surfing             male    M  ...   \n",
       "4                        La Ticla  Free diving   Gustavo Ramos     M  ...   \n",
       "\n",
       "          species_          investigator_or_source                       pdf  \\\n",
       "0      White shark                R. Collier, GSAF      2018.06.25-Wolfe.pdf   \n",
       "1              NaN  K.McMurray, TrackingSharks.com    2018.06.18-McNeely.pdf   \n",
       "2              NaN  K.McMurray, TrackingSharks.com     2018.06.09-Denges.pdf   \n",
       "3        2 m shark                  B. Myatt, GSAF  2018.06.08-Arrawarra.pdf   \n",
       "4  Tiger shark, 3m                       A .Kipper      2018.06.04-Ramos.pdf   \n",
       "\n",
       "                                        href_formula  \\\n",
       "0  http://sharkattackfile.net/spreadsheets/pdf_di...   \n",
       "1  http://sharkattackfile.net/spreadsheets/pdf_di...   \n",
       "2  http://sharkattackfile.net/spreadsheets/pdf_di...   \n",
       "3  http://sharkattackfile.net/spreadsheets/pdf_di...   \n",
       "4  http://sharkattackfile.net/spreadsheets/pdf_di...   \n",
       "\n",
       "                                                href case_number1  \\\n",
       "0  http://sharkattackfile.net/spreadsheets/pdf_di...   2018.06.25   \n",
       "1  http://sharkattackfile.net/spreadsheets/pdf_di...   2018.06.18   \n",
       "2  http://sharkattackfile.net/spreadsheets/pdf_di...   2018.06.09   \n",
       "3  http://sharkattackfile.net/spreadsheets/pdf_di...   2018.06.08   \n",
       "4  http://sharkattackfile.net/spreadsheets/pdf_di...   2018.06.04   \n",
       "\n",
       "  case_number2 original_order unnamed_22 unnamed_23  \n",
       "0   2018.06.25         6303.0        NaN        NaN  \n",
       "1   2018.06.18         6302.0        NaN        NaN  \n",
       "2   2018.06.09         6301.0        NaN        NaN  \n",
       "3   2018.06.08         6300.0        NaN        NaN  \n",
       "4   2018.06.04         6299.0        NaN        NaN  \n",
       "\n",
       "[5 rows x 24 columns]"
      ]
     },
     "execution_count": 9,
     "metadata": {},
     "output_type": "execute_result"
    }
   ],
   "source": [
    "#Se quitan los espacios a los nombres de las columnas, y poder trabajar con mayor facilidad.\n",
    "\n",
    "attacks.columns=[c.lower().replace(' ', '_').replace(':','').replace('.','') for c in attacks.columns]\n",
    "attacks.head()"
   ]
  },
  {
   "cell_type": "markdown",
   "id": "398483b0",
   "metadata": {},
   "source": [
    "## Limpieza de columnas con alto porcentaje de valores nulos (NaN).\n",
    "Se verifica los datos nulos o ausentes que hay en cada columna, ya que hay que eliminar este tipo de datos en función de la necesidad de cada columna para evitar que den problemas posteriormente."
   ]
  },
  {
   "cell_type": "code",
   "execution_count": 10,
   "id": "6252cd54",
   "metadata": {},
   "outputs": [
    {
     "data": {
      "text/plain": [
       "case_number               17021\n",
       "date                      19421\n",
       "year                      19423\n",
       "type                      19425\n",
       "country                   19471\n",
       "area                      19876\n",
       "location                  19961\n",
       "activity                  19965\n",
       "name                      19631\n",
       "sex_                      19986\n",
       "age                       22252\n",
       "injury                    19449\n",
       "fatal_(y/n)               19960\n",
       "time                      22775\n",
       "species_                  22259\n",
       "investigator_or_source    19438\n",
       "pdf                       19421\n",
       "href_formula              19422\n",
       "href                      19421\n",
       "case_number1              19421\n",
       "case_number2              19421\n",
       "original_order            19414\n",
       "unnamed_22                25722\n",
       "unnamed_23                25721\n",
       "dtype: int64"
      ]
     },
     "execution_count": 10,
     "metadata": {},
     "output_type": "execute_result"
    }
   ],
   "source": [
    "#Se va a comprobar cuantos valores nulos tienen las columnas.\n",
    "nan_colums=attacks.isna().sum()\n",
    "nan_colums"
   ]
  },
  {
   "cell_type": "code",
   "execution_count": 11,
   "id": "7be8ddc9",
   "metadata": {},
   "outputs": [
    {
     "data": {
      "text/plain": [
       "array(['18h00', '14h00  -15h00', '07h45', nan, 'Late afternoon', '17h00',\n",
       "       '14h00', 'Morning', '15h00', '08h15', '11h00', '10h30', '10h40',\n",
       "       '16h50', '07h00', '09h30', 'Afternoon', '21h50', '09h40', '08h00',\n",
       "       '17h35', '15h30', '07h30', '19h00, Dusk', 'Night', '16h00',\n",
       "       '15h01', '12h00', '13h45', '23h30', '09h00', '14h30', '18h30',\n",
       "       '12h30', '16h30', '18h45', '06h00', '10h00', '10h44', '13h19',\n",
       "       'Midday', '13h30', '10h45', '11h20', '11h45', '19h30', '08h30',\n",
       "       '15h45', 'Shortly before 12h00', '17h34', '17h10', '11h15',\n",
       "       '08h50', '17h45', '13h00', '10h20', '13h20', '02h00', '09h50',\n",
       "       '11h30', '17h30', '9h00', '10h43', 'After noon', '15h15', '15h40',\n",
       "       '19h05', '1300', '14h30 / 15h30', '22h00', '16h20', '14h34',\n",
       "       '15h25', '14h55', '17h46', 'Morning ', '15h49', '19h00',\n",
       "       'Midnight', '09h30 / 10h00', '10h15', '18h15', '04h00', '14h50',\n",
       "       '13h50', '19h20', '10h25', '10h45-11h15', '16h45', '15h52',\n",
       "       '06h15', '14h40', '19h45', '10h10', '08h45', 'Evening', '12h10',\n",
       "       '18h05', '11h41', '12h25', '17h51', '16h12', '12h45', '10h50',\n",
       "       '14h15', '09h45', '06h45', '05h00', '03h30',\n",
       "       'Sometime between 06h00 & 08hoo', '06h30', '17h20', '20h00',\n",
       "       '16h40', '16h18', '11h10', 'Early afternoon', '17h50',\n",
       "       '07h00 - 08h00', '18h15-18h30', '17h01', '09h57', '08h20', '17h58',\n",
       "       '20h30', '15h19', '10h55', '15h55', '23h00', '12h40', '13h55',\n",
       "       '16h05', '14h10', '15h20', '12h50', '14h45', '13h40', '13h24',\n",
       "       '09h00 - 09h30', '0830', '11h40', '08h10', '15h56', '14h20',\n",
       "       'Just before noon', '07h56', '1600', '17h17', '16h35', '09h05',\n",
       "       '07h15', '07h20', '19h28', '12h38', '05h50', '15h50', '11h05',\n",
       "       'Early morning', 'Dawn', '05h45', '13h25', '12h20', '13h26',\n",
       "       '09h11', '12h15', '13h15', '18h20', '15h35', 'AM', '13h51', 'A.M.',\n",
       "       '08h05', '19h15', '10h35', '15h44', 'Dusk', '21h00', 'Lunchtime',\n",
       "       '15j45', '09h35', '10h27', '10h16', '0500', 'Before 07h00',\n",
       "       '09h20', '10h00 -- 11h00', '12h05', '14h21', '18h50', '15h53',\n",
       "       '\"Just before 11h00\"', '11h115', '13h42', '20h15', '12h39',\n",
       "       '07h05', 'Sunset', '  ', '13h05', '11h50', '\"Evening\"',\n",
       "       'Just before sundown', '17h55', '22h30', '17h15', '16h10',\n",
       "       '11h30 ', '06h10', '16h15', 'Between 05h00 and 08h00', '07h08',\n",
       "       '17h00 or 17h40', '03h00', '>08h00', '--', '12h02', '12h55',\n",
       "       '16h14', '17h11', '00h30', '14h37', '10h07', '13h53', '11h55',\n",
       "       '13h23', 'Just after 12h00', '02h30', '08h40', '11h56', '14h35',\n",
       "       ' ', 'Early Morning', '07h50', 'Shortly after midnight', '14h25',\n",
       "       '13h345', '\\xa0 ', '06h47', '09h00 -10h00', '20h45 (Sunset)',\n",
       "       'Late morning', 'P.M.', '18h40', '13h14', '13h06',\n",
       "       'Shortly before 13h00', '12h34', '11h53', '8:04 pm', '12h46',\n",
       "       '12h48', '17h42', '12h35', 'Possibly same incident as 2000.08.21',\n",
       "       'After Dusk', '11h57', 'Noon', '17h40', '11h25', '18h25', '10h28',\n",
       "       '09h15', '14h16', '09h55', '2 hours after Opperman', '15h05',\n",
       "       '09h30 ', 'Mid afternoon', 'Mid morning', '11h48', '11h00 / 11h30',\n",
       "       '07h19', '13h37', '11h06', '\"Night\"', '18h30?', '11h58', '11h51',\n",
       "       '18h12', '07h10', '07h40', '12h33',\n",
       "       '30 minutes after 1992.07.08.a', '>06h45', '15h06', '12h54',\n",
       "       'Between 06h00 & 07h20', '16h55', '05h40', '<07h30', '21h30',\n",
       "       '17h00 Sunset', 'Nightfall', 'X', '08h57', '18h30 (Sunset)',\n",
       "       '06j00', '08h35', '10h22', '02h45', 'Prior to 10h37', 'Daybreak',\n",
       "       '18h10', '>12h00', 'Mid-morning', '08h55', '16h30 or 18h00',\n",
       "       'Just before dawn', ' 14h00', 'Daytime', '06h50', '01h00', 'Dark',\n",
       "       '10h00 / 11h00', '\"After lunch\"', '07h32', '15h00 or 15h45',\n",
       "       '>17h00', '19h00 / 20h00', '12h45 / 13h45', '14h00 - 15h00',\n",
       "       'night', '03h45 - 04h00', '13h10', '09h30 / 15h30',\n",
       "       '08h00 / 09h30', '19h35', '12h00 to 14h00', '13h35', 'Late night',\n",
       "       '01h32', '10h30 or 13h30', '16h23', '15h00j', 'Midday.',\n",
       "       '\"After dark\"', '10h00 or 14h00', '19h10', '16h25',\n",
       "       '2 hrs before sunset', '18h15 to 21h30', '1500',\n",
       "       '\"shortly before dusk\"', '>17h30', '>14h30',\n",
       "       'Between 11h00 & 12h00', 'After 04h00',\n",
       "       '11h01 -time of ship sinking', 'Ship aban-doned at 03h10', '19h55',\n",
       "       'After dusk',\n",
       "       'FATAL  (Wire netting installed at local beaches after this incident.)',\n",
       "       '01h30', 'After midnight', 'Late afternon', '05h30', '08h58',\n",
       "       '\"Early evening\"', 'Late Afternoon', '   ', 'Before daybreak',\n",
       "       'dusk', 'Before 10h30', '06h00 -- 07h00', '01h50', '17h00-18h00',\n",
       "       '19h00-20h00'], dtype=object)"
      ]
     },
     "execution_count": 11,
     "metadata": {},
     "output_type": "execute_result"
    }
   ],
   "source": [
    "#Se escoge una de las variables con nulos, en este caso la que más nulos tiene, para comprobar el dato que me esta dando.\n",
    "attacks.time.unique()"
   ]
  },
  {
   "cell_type": "code",
   "execution_count": 12,
   "id": "14488c85",
   "metadata": {},
   "outputs": [
    {
     "data": {
      "text/plain": [
       "array([nan, 'Teramo', 'change filename'], dtype=object)"
      ]
     },
     "execution_count": 12,
     "metadata": {},
     "output_type": "execute_result"
    }
   ],
   "source": [
    "attacks.unnamed_23.unique()"
   ]
  },
  {
   "cell_type": "markdown",
   "id": "31eaa14a",
   "metadata": {},
   "source": [
    "Se comprueba cuales son las columnas con mas de 23.000 nulos."
   ]
  },
  {
   "cell_type": "code",
   "execution_count": 13,
   "id": "0295b04d",
   "metadata": {},
   "outputs": [
    {
     "data": {
      "text/plain": [
       "Index(['unnamed_22', 'unnamed_23'], dtype='object')"
      ]
     },
     "execution_count": 13,
     "metadata": {},
     "output_type": "execute_result"
    }
   ],
   "source": [
    "nan_colums[nan_colums>2.3e4].index"
   ]
  },
  {
   "cell_type": "markdown",
   "id": "be69c6da",
   "metadata": {},
   "source": [
    "Se eliminan las columnas que tienen la mayor parte de valores nulos, porque entendemos que no nos aportan ningún valor importante."
   ]
  },
  {
   "cell_type": "code",
   "execution_count": 14,
   "id": "78924fd2",
   "metadata": {},
   "outputs": [],
   "source": [
    "attacks.drop(columns=nan_colums[nan_colums>2.3e4].index, inplace=True)"
   ]
  },
  {
   "cell_type": "code",
   "execution_count": 15,
   "id": "02f54f49",
   "metadata": {},
   "outputs": [
    {
     "data": {
      "text/plain": [
       "((25723, 22), (25723, 24))"
      ]
     },
     "execution_count": 15,
     "metadata": {},
     "output_type": "execute_result"
    }
   ],
   "source": [
    "#Comprobamos que que la dimensión cambia ya que se han se han eliminado dos columnas.\n",
    "\n",
    "attacks.shape, dim_original"
   ]
  },
  {
   "cell_type": "code",
   "execution_count": 16,
   "id": "0ae1c39a",
   "metadata": {},
   "outputs": [
    {
     "data": {
      "text/plain": [
       "False"
      ]
     },
     "execution_count": 16,
     "metadata": {},
     "output_type": "execute_result"
    }
   ],
   "source": [
    "#Comprobamos si alguna de las filas esta duplicada.\n",
    "\n",
    "attacks.drop_duplicates().shape==attacks.shape "
   ]
  },
  {
   "cell_type": "markdown",
   "id": "c98a2fd0",
   "metadata": {},
   "source": [
    "Se verifica que al devolver un False, significa que al menos una de las filas está duplicada. "
   ]
  },
  {
   "cell_type": "code",
   "execution_count": 17,
   "id": "cc6ba6ba",
   "metadata": {},
   "outputs": [],
   "source": [
    "#No interesan filas duplicadas por tanto se eliminan de la siguiente manera:\n",
    "\n",
    "attacks.drop_duplicates(inplace=True)"
   ]
  },
  {
   "cell_type": "code",
   "execution_count": 18,
   "id": "ac357334",
   "metadata": {},
   "outputs": [
    {
     "data": {
      "text/plain": [
       "((6312, 22), (25723, 24))"
      ]
     },
     "execution_count": 18,
     "metadata": {},
     "output_type": "execute_result"
    }
   ],
   "source": [
    "#Comprobamos que se han eliminado muchas filas, al verificar el cambio de las dimensiones.\n",
    "\n",
    "attacks.shape, dim_original"
   ]
  },
  {
   "cell_type": "markdown",
   "id": "1b7412cd",
   "metadata": {},
   "source": [
    "Se crea otra copia para guardar los cambios hasta este punto:"
   ]
  },
  {
   "cell_type": "code",
   "execution_count": 19,
   "id": "4544088e",
   "metadata": {},
   "outputs": [],
   "source": [
    "attacks_limpieza1=attacks.copy()"
   ]
  },
  {
   "cell_type": "code",
   "execution_count": 20,
   "id": "99428c4a",
   "metadata": {},
   "outputs": [],
   "source": [
    "import re"
   ]
  },
  {
   "cell_type": "markdown",
   "id": "27e9a328",
   "metadata": {},
   "source": [
    "## Limpieza de duplicados.\n",
    "Se verifica que las columnas case_number1 y case_number presentan un alto porcentaje de valores duplicados."
   ]
  },
  {
   "cell_type": "code",
   "execution_count": 21,
   "id": "1940c439",
   "metadata": {
    "scrolled": true
   },
   "outputs": [
    {
     "data": {
      "text/plain": [
       "1920.00.00.b      2\n",
       "1915.07.06.a.R    2\n",
       "2009.12.18        2\n",
       "2014.08.02        2\n",
       "1952.08.04        2\n",
       "                 ..\n",
       "1999.09.10        1\n",
       "1999.09.16        1\n",
       "1999.09.18        1\n",
       "1999.09.24        1\n",
       "ND.0001           1\n",
       "Name: case_number1, Length: 6285, dtype: int64"
      ]
     },
     "execution_count": 21,
     "metadata": {},
     "output_type": "execute_result"
    }
   ],
   "source": [
    "attacks.case_number1.value_counts()"
   ]
  },
  {
   "cell_type": "code",
   "execution_count": 22,
   "id": "1f4753b4",
   "metadata": {},
   "outputs": [
    {
     "data": {
      "text/plain": [
       "0         True\n",
       "1         True\n",
       "2         True\n",
       "3         True\n",
       "4         True\n",
       "         ...  \n",
       "6307     False\n",
       "6308     False\n",
       "6309     False\n",
       "8702     False\n",
       "25722    False\n",
       "Length: 6312, dtype: bool"
      ]
     },
     "execution_count": 22,
     "metadata": {},
     "output_type": "execute_result"
    }
   ],
   "source": [
    "attacks.drop_duplicates().case_number1==attacks.case_number2 "
   ]
  },
  {
   "cell_type": "code",
   "execution_count": 23,
   "id": "1c2f8aed",
   "metadata": {},
   "outputs": [
    {
     "data": {
      "text/plain": [
       "True     6282\n",
       "False      30\n",
       "dtype: int64"
      ]
     },
     "execution_count": 23,
     "metadata": {},
     "output_type": "execute_result"
    }
   ],
   "source": [
    "(attacks.drop_duplicates().case_number1==attacks.case_number2).value_counts()"
   ]
  },
  {
   "cell_type": "code",
   "execution_count": 24,
   "id": "f2ffe95c",
   "metadata": {},
   "outputs": [
    {
     "data": {
      "text/html": [
       "<div>\n",
       "<style scoped>\n",
       "    .dataframe tbody tr th:only-of-type {\n",
       "        vertical-align: middle;\n",
       "    }\n",
       "\n",
       "    .dataframe tbody tr th {\n",
       "        vertical-align: top;\n",
       "    }\n",
       "\n",
       "    .dataframe thead th {\n",
       "        text-align: right;\n",
       "    }\n",
       "</style>\n",
       "<table border=\"1\" class=\"dataframe\">\n",
       "  <thead>\n",
       "    <tr style=\"text-align: right;\">\n",
       "      <th></th>\n",
       "      <th>case_number</th>\n",
       "      <th>date</th>\n",
       "      <th>year</th>\n",
       "      <th>type</th>\n",
       "      <th>country</th>\n",
       "      <th>area</th>\n",
       "      <th>location</th>\n",
       "      <th>activity</th>\n",
       "      <th>name</th>\n",
       "      <th>sex_</th>\n",
       "      <th>...</th>\n",
       "      <th>fatal_(y/n)</th>\n",
       "      <th>time</th>\n",
       "      <th>species_</th>\n",
       "      <th>investigator_or_source</th>\n",
       "      <th>pdf</th>\n",
       "      <th>href_formula</th>\n",
       "      <th>href</th>\n",
       "      <th>case_number1</th>\n",
       "      <th>case_number2</th>\n",
       "      <th>original_order</th>\n",
       "    </tr>\n",
       "  </thead>\n",
       "  <tbody>\n",
       "    <tr>\n",
       "      <th>6301</th>\n",
       "      <td>ND.0001</td>\n",
       "      <td>1845-1853</td>\n",
       "      <td>0.0</td>\n",
       "      <td>Unprovoked</td>\n",
       "      <td>CEYLON (SRI LANKA)</td>\n",
       "      <td>Eastern Province</td>\n",
       "      <td>Below the English fort, Trincomalee</td>\n",
       "      <td>Swimming</td>\n",
       "      <td>male</td>\n",
       "      <td>M</td>\n",
       "      <td>...</td>\n",
       "      <td>Y</td>\n",
       "      <td>NaN</td>\n",
       "      <td>NaN</td>\n",
       "      <td>S.W. Baker</td>\n",
       "      <td>ND-0001-Ceylon.pdf</td>\n",
       "      <td>http://sharkattackfile.net/spreadsheets/pdf_di...</td>\n",
       "      <td>http://sharkattackfile.net/spreadsheets/pdf_di...</td>\n",
       "      <td>ND.0001</td>\n",
       "      <td>ND.0001</td>\n",
       "      <td>2.0</td>\n",
       "    </tr>\n",
       "    <tr>\n",
       "      <th>6302</th>\n",
       "      <td>0</td>\n",
       "      <td>NaN</td>\n",
       "      <td>NaN</td>\n",
       "      <td>NaN</td>\n",
       "      <td>NaN</td>\n",
       "      <td>NaN</td>\n",
       "      <td>NaN</td>\n",
       "      <td>NaN</td>\n",
       "      <td>NaN</td>\n",
       "      <td>NaN</td>\n",
       "      <td>...</td>\n",
       "      <td>NaN</td>\n",
       "      <td>NaN</td>\n",
       "      <td>NaN</td>\n",
       "      <td>NaN</td>\n",
       "      <td>NaN</td>\n",
       "      <td>NaN</td>\n",
       "      <td>NaN</td>\n",
       "      <td>NaN</td>\n",
       "      <td>NaN</td>\n",
       "      <td>6304.0</td>\n",
       "    </tr>\n",
       "    <tr>\n",
       "      <th>6303</th>\n",
       "      <td>0</td>\n",
       "      <td>NaN</td>\n",
       "      <td>NaN</td>\n",
       "      <td>NaN</td>\n",
       "      <td>NaN</td>\n",
       "      <td>NaN</td>\n",
       "      <td>NaN</td>\n",
       "      <td>NaN</td>\n",
       "      <td>NaN</td>\n",
       "      <td>NaN</td>\n",
       "      <td>...</td>\n",
       "      <td>NaN</td>\n",
       "      <td>NaN</td>\n",
       "      <td>NaN</td>\n",
       "      <td>NaN</td>\n",
       "      <td>NaN</td>\n",
       "      <td>NaN</td>\n",
       "      <td>NaN</td>\n",
       "      <td>NaN</td>\n",
       "      <td>NaN</td>\n",
       "      <td>6305.0</td>\n",
       "    </tr>\n",
       "    <tr>\n",
       "      <th>6304</th>\n",
       "      <td>0</td>\n",
       "      <td>NaN</td>\n",
       "      <td>NaN</td>\n",
       "      <td>NaN</td>\n",
       "      <td>NaN</td>\n",
       "      <td>NaN</td>\n",
       "      <td>NaN</td>\n",
       "      <td>NaN</td>\n",
       "      <td>NaN</td>\n",
       "      <td>NaN</td>\n",
       "      <td>...</td>\n",
       "      <td>NaN</td>\n",
       "      <td>NaN</td>\n",
       "      <td>NaN</td>\n",
       "      <td>NaN</td>\n",
       "      <td>NaN</td>\n",
       "      <td>NaN</td>\n",
       "      <td>NaN</td>\n",
       "      <td>NaN</td>\n",
       "      <td>NaN</td>\n",
       "      <td>6306.0</td>\n",
       "    </tr>\n",
       "    <tr>\n",
       "      <th>6305</th>\n",
       "      <td>0</td>\n",
       "      <td>NaN</td>\n",
       "      <td>NaN</td>\n",
       "      <td>NaN</td>\n",
       "      <td>NaN</td>\n",
       "      <td>NaN</td>\n",
       "      <td>NaN</td>\n",
       "      <td>NaN</td>\n",
       "      <td>NaN</td>\n",
       "      <td>NaN</td>\n",
       "      <td>...</td>\n",
       "      <td>NaN</td>\n",
       "      <td>NaN</td>\n",
       "      <td>NaN</td>\n",
       "      <td>NaN</td>\n",
       "      <td>NaN</td>\n",
       "      <td>NaN</td>\n",
       "      <td>NaN</td>\n",
       "      <td>NaN</td>\n",
       "      <td>NaN</td>\n",
       "      <td>6307.0</td>\n",
       "    </tr>\n",
       "    <tr>\n",
       "      <th>6306</th>\n",
       "      <td>0</td>\n",
       "      <td>NaN</td>\n",
       "      <td>NaN</td>\n",
       "      <td>NaN</td>\n",
       "      <td>NaN</td>\n",
       "      <td>NaN</td>\n",
       "      <td>NaN</td>\n",
       "      <td>NaN</td>\n",
       "      <td>NaN</td>\n",
       "      <td>NaN</td>\n",
       "      <td>...</td>\n",
       "      <td>NaN</td>\n",
       "      <td>NaN</td>\n",
       "      <td>NaN</td>\n",
       "      <td>NaN</td>\n",
       "      <td>NaN</td>\n",
       "      <td>NaN</td>\n",
       "      <td>NaN</td>\n",
       "      <td>NaN</td>\n",
       "      <td>NaN</td>\n",
       "      <td>6308.0</td>\n",
       "    </tr>\n",
       "    <tr>\n",
       "      <th>6307</th>\n",
       "      <td>0</td>\n",
       "      <td>NaN</td>\n",
       "      <td>NaN</td>\n",
       "      <td>NaN</td>\n",
       "      <td>NaN</td>\n",
       "      <td>NaN</td>\n",
       "      <td>NaN</td>\n",
       "      <td>NaN</td>\n",
       "      <td>NaN</td>\n",
       "      <td>NaN</td>\n",
       "      <td>...</td>\n",
       "      <td>NaN</td>\n",
       "      <td>NaN</td>\n",
       "      <td>NaN</td>\n",
       "      <td>NaN</td>\n",
       "      <td>NaN</td>\n",
       "      <td>NaN</td>\n",
       "      <td>NaN</td>\n",
       "      <td>NaN</td>\n",
       "      <td>NaN</td>\n",
       "      <td>6309.0</td>\n",
       "    </tr>\n",
       "    <tr>\n",
       "      <th>6308</th>\n",
       "      <td>0</td>\n",
       "      <td>NaN</td>\n",
       "      <td>NaN</td>\n",
       "      <td>NaN</td>\n",
       "      <td>NaN</td>\n",
       "      <td>NaN</td>\n",
       "      <td>NaN</td>\n",
       "      <td>NaN</td>\n",
       "      <td>NaN</td>\n",
       "      <td>NaN</td>\n",
       "      <td>...</td>\n",
       "      <td>NaN</td>\n",
       "      <td>NaN</td>\n",
       "      <td>NaN</td>\n",
       "      <td>NaN</td>\n",
       "      <td>NaN</td>\n",
       "      <td>NaN</td>\n",
       "      <td>NaN</td>\n",
       "      <td>NaN</td>\n",
       "      <td>NaN</td>\n",
       "      <td>6310.0</td>\n",
       "    </tr>\n",
       "    <tr>\n",
       "      <th>6309</th>\n",
       "      <td>0</td>\n",
       "      <td>NaN</td>\n",
       "      <td>NaN</td>\n",
       "      <td>NaN</td>\n",
       "      <td>NaN</td>\n",
       "      <td>NaN</td>\n",
       "      <td>NaN</td>\n",
       "      <td>NaN</td>\n",
       "      <td>NaN</td>\n",
       "      <td>NaN</td>\n",
       "      <td>...</td>\n",
       "      <td>NaN</td>\n",
       "      <td>NaN</td>\n",
       "      <td>NaN</td>\n",
       "      <td>NaN</td>\n",
       "      <td>NaN</td>\n",
       "      <td>NaN</td>\n",
       "      <td>NaN</td>\n",
       "      <td>NaN</td>\n",
       "      <td>NaN</td>\n",
       "      <td>NaN</td>\n",
       "    </tr>\n",
       "    <tr>\n",
       "      <th>8702</th>\n",
       "      <td>NaN</td>\n",
       "      <td>NaN</td>\n",
       "      <td>NaN</td>\n",
       "      <td>NaN</td>\n",
       "      <td>NaN</td>\n",
       "      <td>NaN</td>\n",
       "      <td>NaN</td>\n",
       "      <td>NaN</td>\n",
       "      <td>NaN</td>\n",
       "      <td>NaN</td>\n",
       "      <td>...</td>\n",
       "      <td>NaN</td>\n",
       "      <td>NaN</td>\n",
       "      <td>NaN</td>\n",
       "      <td>NaN</td>\n",
       "      <td>NaN</td>\n",
       "      <td>NaN</td>\n",
       "      <td>NaN</td>\n",
       "      <td>NaN</td>\n",
       "      <td>NaN</td>\n",
       "      <td>NaN</td>\n",
       "    </tr>\n",
       "    <tr>\n",
       "      <th>25722</th>\n",
       "      <td>xx</td>\n",
       "      <td>NaN</td>\n",
       "      <td>NaN</td>\n",
       "      <td>NaN</td>\n",
       "      <td>NaN</td>\n",
       "      <td>NaN</td>\n",
       "      <td>NaN</td>\n",
       "      <td>NaN</td>\n",
       "      <td>NaN</td>\n",
       "      <td>NaN</td>\n",
       "      <td>...</td>\n",
       "      <td>NaN</td>\n",
       "      <td>NaN</td>\n",
       "      <td>NaN</td>\n",
       "      <td>NaN</td>\n",
       "      <td>NaN</td>\n",
       "      <td>NaN</td>\n",
       "      <td>NaN</td>\n",
       "      <td>NaN</td>\n",
       "      <td>NaN</td>\n",
       "      <td>NaN</td>\n",
       "    </tr>\n",
       "  </tbody>\n",
       "</table>\n",
       "<p>11 rows × 22 columns</p>\n",
       "</div>"
      ],
      "text/plain": [
       "      case_number       date  year        type             country  \\\n",
       "6301      ND.0001  1845-1853   0.0  Unprovoked  CEYLON (SRI LANKA)   \n",
       "6302            0        NaN   NaN         NaN                 NaN   \n",
       "6303            0        NaN   NaN         NaN                 NaN   \n",
       "6304            0        NaN   NaN         NaN                 NaN   \n",
       "6305            0        NaN   NaN         NaN                 NaN   \n",
       "6306            0        NaN   NaN         NaN                 NaN   \n",
       "6307            0        NaN   NaN         NaN                 NaN   \n",
       "6308            0        NaN   NaN         NaN                 NaN   \n",
       "6309            0        NaN   NaN         NaN                 NaN   \n",
       "8702          NaN        NaN   NaN         NaN                 NaN   \n",
       "25722          xx        NaN   NaN         NaN                 NaN   \n",
       "\n",
       "                   area                             location  activity  name  \\\n",
       "6301   Eastern Province  Below the English fort, Trincomalee  Swimming  male   \n",
       "6302                NaN                                  NaN       NaN   NaN   \n",
       "6303                NaN                                  NaN       NaN   NaN   \n",
       "6304                NaN                                  NaN       NaN   NaN   \n",
       "6305                NaN                                  NaN       NaN   NaN   \n",
       "6306                NaN                                  NaN       NaN   NaN   \n",
       "6307                NaN                                  NaN       NaN   NaN   \n",
       "6308                NaN                                  NaN       NaN   NaN   \n",
       "6309                NaN                                  NaN       NaN   NaN   \n",
       "8702                NaN                                  NaN       NaN   NaN   \n",
       "25722               NaN                                  NaN       NaN   NaN   \n",
       "\n",
       "      sex_  ... fatal_(y/n) time species_ investigator_or_source  \\\n",
       "6301     M  ...           Y  NaN      NaN             S.W. Baker   \n",
       "6302   NaN  ...         NaN  NaN      NaN                    NaN   \n",
       "6303   NaN  ...         NaN  NaN      NaN                    NaN   \n",
       "6304   NaN  ...         NaN  NaN      NaN                    NaN   \n",
       "6305   NaN  ...         NaN  NaN      NaN                    NaN   \n",
       "6306   NaN  ...         NaN  NaN      NaN                    NaN   \n",
       "6307   NaN  ...         NaN  NaN      NaN                    NaN   \n",
       "6308   NaN  ...         NaN  NaN      NaN                    NaN   \n",
       "6309   NaN  ...         NaN  NaN      NaN                    NaN   \n",
       "8702   NaN  ...         NaN  NaN      NaN                    NaN   \n",
       "25722  NaN  ...         NaN  NaN      NaN                    NaN   \n",
       "\n",
       "                      pdf                                       href_formula  \\\n",
       "6301   ND-0001-Ceylon.pdf  http://sharkattackfile.net/spreadsheets/pdf_di...   \n",
       "6302                  NaN                                                NaN   \n",
       "6303                  NaN                                                NaN   \n",
       "6304                  NaN                                                NaN   \n",
       "6305                  NaN                                                NaN   \n",
       "6306                  NaN                                                NaN   \n",
       "6307                  NaN                                                NaN   \n",
       "6308                  NaN                                                NaN   \n",
       "6309                  NaN                                                NaN   \n",
       "8702                  NaN                                                NaN   \n",
       "25722                 NaN                                                NaN   \n",
       "\n",
       "                                                    href case_number1  \\\n",
       "6301   http://sharkattackfile.net/spreadsheets/pdf_di...      ND.0001   \n",
       "6302                                                 NaN          NaN   \n",
       "6303                                                 NaN          NaN   \n",
       "6304                                                 NaN          NaN   \n",
       "6305                                                 NaN          NaN   \n",
       "6306                                                 NaN          NaN   \n",
       "6307                                                 NaN          NaN   \n",
       "6308                                                 NaN          NaN   \n",
       "6309                                                 NaN          NaN   \n",
       "8702                                                 NaN          NaN   \n",
       "25722                                                NaN          NaN   \n",
       "\n",
       "      case_number2 original_order  \n",
       "6301       ND.0001            2.0  \n",
       "6302           NaN         6304.0  \n",
       "6303           NaN         6305.0  \n",
       "6304           NaN         6306.0  \n",
       "6305           NaN         6307.0  \n",
       "6306           NaN         6308.0  \n",
       "6307           NaN         6309.0  \n",
       "6308           NaN         6310.0  \n",
       "6309           NaN            NaN  \n",
       "8702           NaN            NaN  \n",
       "25722          NaN            NaN  \n",
       "\n",
       "[11 rows x 22 columns]"
      ]
     },
     "execution_count": 24,
     "metadata": {},
     "output_type": "execute_result"
    }
   ],
   "source": [
    "#Se verifica que las ultimas filas de la tabla presentan valores nulos en casi todas las columnas por lo que se eliminan dichas filas:\n",
    "\n",
    "attacks.tail(11)"
   ]
  },
  {
   "cell_type": "code",
   "execution_count": 25,
   "id": "cb1c727f",
   "metadata": {},
   "outputs": [],
   "source": [
    "attacks.drop(attacks.tail(10).index, inplace = True)"
   ]
  },
  {
   "cell_type": "code",
   "execution_count": 26,
   "id": "06f02a2f",
   "metadata": {},
   "outputs": [
    {
     "data": {
      "text/html": [
       "<div>\n",
       "<style scoped>\n",
       "    .dataframe tbody tr th:only-of-type {\n",
       "        vertical-align: middle;\n",
       "    }\n",
       "\n",
       "    .dataframe tbody tr th {\n",
       "        vertical-align: top;\n",
       "    }\n",
       "\n",
       "    .dataframe thead th {\n",
       "        text-align: right;\n",
       "    }\n",
       "</style>\n",
       "<table border=\"1\" class=\"dataframe\">\n",
       "  <thead>\n",
       "    <tr style=\"text-align: right;\">\n",
       "      <th></th>\n",
       "      <th>case_number</th>\n",
       "      <th>date</th>\n",
       "      <th>year</th>\n",
       "      <th>type</th>\n",
       "      <th>country</th>\n",
       "      <th>area</th>\n",
       "      <th>location</th>\n",
       "      <th>activity</th>\n",
       "      <th>name</th>\n",
       "      <th>sex_</th>\n",
       "      <th>...</th>\n",
       "      <th>fatal_(y/n)</th>\n",
       "      <th>time</th>\n",
       "      <th>species_</th>\n",
       "      <th>investigator_or_source</th>\n",
       "      <th>pdf</th>\n",
       "      <th>href_formula</th>\n",
       "      <th>href</th>\n",
       "      <th>case_number1</th>\n",
       "      <th>case_number2</th>\n",
       "      <th>original_order</th>\n",
       "    </tr>\n",
       "  </thead>\n",
       "  <tbody>\n",
       "    <tr>\n",
       "      <th>6291</th>\n",
       "      <td>ND.0011</td>\n",
       "      <td>Before 1911</td>\n",
       "      <td>0.0</td>\n",
       "      <td>Unprovoked</td>\n",
       "      <td>ASIA?</td>\n",
       "      <td>NaN</td>\n",
       "      <td>NaN</td>\n",
       "      <td>Swimming</td>\n",
       "      <td>Mr. Masury</td>\n",
       "      <td>M</td>\n",
       "      <td>...</td>\n",
       "      <td>N</td>\n",
       "      <td>NaN</td>\n",
       "      <td>NaN</td>\n",
       "      <td>Ref. J. T. Dubois in N.Y. Sun, 3/19/1911</td>\n",
       "      <td>ND-0011-Masury.pdf</td>\n",
       "      <td>http://sharkattackfile.net/spreadsheets/pdf_di...</td>\n",
       "      <td>http://sharkattackfile.net/spreadsheets/pdf_di...</td>\n",
       "      <td>ND.0011</td>\n",
       "      <td>ND.0011</td>\n",
       "      <td>12.0</td>\n",
       "    </tr>\n",
       "    <tr>\n",
       "      <th>6292</th>\n",
       "      <td>ND.0010</td>\n",
       "      <td>Circa 1862</td>\n",
       "      <td>0.0</td>\n",
       "      <td>Unprovoked</td>\n",
       "      <td>USA</td>\n",
       "      <td>Hawaii</td>\n",
       "      <td>Puna</td>\n",
       "      <td>NaN</td>\n",
       "      <td>A \"chiefess\"</td>\n",
       "      <td>F</td>\n",
       "      <td>...</td>\n",
       "      <td>N</td>\n",
       "      <td>NaN</td>\n",
       "      <td>NaN</td>\n",
       "      <td>Captain W. Young</td>\n",
       "      <td>ND-0010-Puna Hawaii.pdf</td>\n",
       "      <td>http://sharkattackfile.net/spreadsheets/pdf_di...</td>\n",
       "      <td>http://sharkattackfile.net/spreadsheets/pdf_di...</td>\n",
       "      <td>ND.0010</td>\n",
       "      <td>ND.0010</td>\n",
       "      <td>11.0</td>\n",
       "    </tr>\n",
       "    <tr>\n",
       "      <th>6293</th>\n",
       "      <td>ND.0009</td>\n",
       "      <td>Before 1906</td>\n",
       "      <td>0.0</td>\n",
       "      <td>Unprovoked</td>\n",
       "      <td>AUSTRALIA</td>\n",
       "      <td>NaN</td>\n",
       "      <td>NaN</td>\n",
       "      <td>Fishing</td>\n",
       "      <td>boy</td>\n",
       "      <td>M</td>\n",
       "      <td>...</td>\n",
       "      <td>Y</td>\n",
       "      <td>NaN</td>\n",
       "      <td>Blue pointer</td>\n",
       "      <td>NY Sun, 9/9/1906, referring to account by Loui...</td>\n",
       "      <td>ND-0009-boy-Australia.pdf</td>\n",
       "      <td>http://sharkattackfile.net/spreadsheets/pdf_di...</td>\n",
       "      <td>http://sharkattackfile.net/spreadsheets/pdf_di...</td>\n",
       "      <td>ND.0009</td>\n",
       "      <td>ND.0009</td>\n",
       "      <td>10.0</td>\n",
       "    </tr>\n",
       "    <tr>\n",
       "      <th>6294</th>\n",
       "      <td>ND.0008</td>\n",
       "      <td>Before 1906</td>\n",
       "      <td>0.0</td>\n",
       "      <td>Unprovoked</td>\n",
       "      <td>AUSTRALIA</td>\n",
       "      <td>NaN</td>\n",
       "      <td>NaN</td>\n",
       "      <td>Fishing</td>\n",
       "      <td>fisherman</td>\n",
       "      <td>M</td>\n",
       "      <td>...</td>\n",
       "      <td>Y</td>\n",
       "      <td>NaN</td>\n",
       "      <td>Blue pointer</td>\n",
       "      <td>NY Sun, 9/9/1906, referring to account by Loui...</td>\n",
       "      <td>ND-0008-Fisherman2-Australia.pdf</td>\n",
       "      <td>http://sharkattackfile.net/spreadsheets/pdf_di...</td>\n",
       "      <td>http://sharkattackfile.net/spreadsheets/pdf_di...</td>\n",
       "      <td>ND.0008</td>\n",
       "      <td>ND.0008</td>\n",
       "      <td>9.0</td>\n",
       "    </tr>\n",
       "    <tr>\n",
       "      <th>6295</th>\n",
       "      <td>ND.0007</td>\n",
       "      <td>Before 1906</td>\n",
       "      <td>0.0</td>\n",
       "      <td>Unprovoked</td>\n",
       "      <td>AUSTRALIA</td>\n",
       "      <td>NaN</td>\n",
       "      <td>NaN</td>\n",
       "      <td>Fishing</td>\n",
       "      <td>fisherman</td>\n",
       "      <td>M</td>\n",
       "      <td>...</td>\n",
       "      <td>Y</td>\n",
       "      <td>NaN</td>\n",
       "      <td>Blue pointers</td>\n",
       "      <td>NY Sun, 9/9/1906, referring to account by Loui...</td>\n",
       "      <td>ND-0007 - Fisherman-Australia.pdf</td>\n",
       "      <td>http://sharkattackfile.net/spreadsheets/pdf_di...</td>\n",
       "      <td>http://sharkattackfile.net/spreadsheets/pdf_di...</td>\n",
       "      <td>ND.0007</td>\n",
       "      <td>ND.0007</td>\n",
       "      <td>8.0</td>\n",
       "    </tr>\n",
       "    <tr>\n",
       "      <th>6296</th>\n",
       "      <td>ND.0006</td>\n",
       "      <td>Before 1906</td>\n",
       "      <td>0.0</td>\n",
       "      <td>Unprovoked</td>\n",
       "      <td>AUSTRALIA</td>\n",
       "      <td>New South Wales</td>\n",
       "      <td></td>\n",
       "      <td>Swimming</td>\n",
       "      <td>Arab boy</td>\n",
       "      <td>M</td>\n",
       "      <td>...</td>\n",
       "      <td>Y</td>\n",
       "      <td>NaN</td>\n",
       "      <td>Said to involve a grey nurse shark that leapt ...</td>\n",
       "      <td>L. Becke in New York Sun, 9/9/1906; L. Schultz...</td>\n",
       "      <td>ND-0006-ArabBoy-Prymount.pdf</td>\n",
       "      <td>http://sharkattackfile.net/spreadsheets/pdf_di...</td>\n",
       "      <td>http://sharkattackfile.net/spreadsheets/pdf_di...</td>\n",
       "      <td>ND.0006</td>\n",
       "      <td>ND.0006</td>\n",
       "      <td>7.0</td>\n",
       "    </tr>\n",
       "    <tr>\n",
       "      <th>6297</th>\n",
       "      <td>ND.0005</td>\n",
       "      <td>Before 1903</td>\n",
       "      <td>0.0</td>\n",
       "      <td>Unprovoked</td>\n",
       "      <td>AUSTRALIA</td>\n",
       "      <td>Western Australia</td>\n",
       "      <td>Roebuck Bay</td>\n",
       "      <td>Diving</td>\n",
       "      <td>male</td>\n",
       "      <td>M</td>\n",
       "      <td>...</td>\n",
       "      <td>Y</td>\n",
       "      <td>NaN</td>\n",
       "      <td>NaN</td>\n",
       "      <td>H. Taunton; N. Bartlett,  p. 234</td>\n",
       "      <td>ND-0005-RoebuckBay.pdf</td>\n",
       "      <td>http://sharkattackfile.net/spreadsheets/pdf_di...</td>\n",
       "      <td>http://sharkattackfile.net/spreadsheets/pdf_di...</td>\n",
       "      <td>ND.0005</td>\n",
       "      <td>ND.0005</td>\n",
       "      <td>6.0</td>\n",
       "    </tr>\n",
       "    <tr>\n",
       "      <th>6298</th>\n",
       "      <td>ND.0004</td>\n",
       "      <td>Before 1903</td>\n",
       "      <td>0.0</td>\n",
       "      <td>Unprovoked</td>\n",
       "      <td>AUSTRALIA</td>\n",
       "      <td>Western Australia</td>\n",
       "      <td>NaN</td>\n",
       "      <td>Pearl diving</td>\n",
       "      <td>Ahmun</td>\n",
       "      <td>M</td>\n",
       "      <td>...</td>\n",
       "      <td>Y</td>\n",
       "      <td>NaN</td>\n",
       "      <td>NaN</td>\n",
       "      <td>H. Taunton; N. Bartlett,  pp. 233-234</td>\n",
       "      <td>ND-0004-Ahmun.pdf</td>\n",
       "      <td>http://sharkattackfile.net/spreadsheets/pdf_di...</td>\n",
       "      <td>http://sharkattackfile.net/spreadsheets/pdf_di...</td>\n",
       "      <td>ND.0004</td>\n",
       "      <td>ND.0004</td>\n",
       "      <td>5.0</td>\n",
       "    </tr>\n",
       "    <tr>\n",
       "      <th>6299</th>\n",
       "      <td>ND.0003</td>\n",
       "      <td>1900-1905</td>\n",
       "      <td>0.0</td>\n",
       "      <td>Unprovoked</td>\n",
       "      <td>USA</td>\n",
       "      <td>North Carolina</td>\n",
       "      <td>Ocracoke Inlet</td>\n",
       "      <td>Swimming</td>\n",
       "      <td>Coast Guard personnel</td>\n",
       "      <td>M</td>\n",
       "      <td>...</td>\n",
       "      <td>Y</td>\n",
       "      <td>NaN</td>\n",
       "      <td>NaN</td>\n",
       "      <td>F. Schwartz, p.23; C. Creswell, GSAF</td>\n",
       "      <td>ND-0003-Ocracoke_1900-1905.pdf</td>\n",
       "      <td>http://sharkattackfile.net/spreadsheets/pdf_di...</td>\n",
       "      <td>http://sharkattackfile.net/spreadsheets/pdf_di...</td>\n",
       "      <td>ND.0003</td>\n",
       "      <td>ND.0003</td>\n",
       "      <td>4.0</td>\n",
       "    </tr>\n",
       "    <tr>\n",
       "      <th>6300</th>\n",
       "      <td>ND.0002</td>\n",
       "      <td>1883-1889</td>\n",
       "      <td>0.0</td>\n",
       "      <td>Unprovoked</td>\n",
       "      <td>PANAMA</td>\n",
       "      <td>NaN</td>\n",
       "      <td>Panama Bay 8ºN, 79ºW</td>\n",
       "      <td>NaN</td>\n",
       "      <td>Jules Patterson</td>\n",
       "      <td>M</td>\n",
       "      <td>...</td>\n",
       "      <td>Y</td>\n",
       "      <td>NaN</td>\n",
       "      <td>NaN</td>\n",
       "      <td>The Sun, 10/20/1938</td>\n",
       "      <td>ND-0002-JulesPatterson.pdf</td>\n",
       "      <td>http://sharkattackfile.net/spreadsheets/pdf_di...</td>\n",
       "      <td>http://sharkattackfile.net/spreadsheets/pdf_di...</td>\n",
       "      <td>ND.0002</td>\n",
       "      <td>ND.0002</td>\n",
       "      <td>3.0</td>\n",
       "    </tr>\n",
       "    <tr>\n",
       "      <th>6301</th>\n",
       "      <td>ND.0001</td>\n",
       "      <td>1845-1853</td>\n",
       "      <td>0.0</td>\n",
       "      <td>Unprovoked</td>\n",
       "      <td>CEYLON (SRI LANKA)</td>\n",
       "      <td>Eastern Province</td>\n",
       "      <td>Below the English fort, Trincomalee</td>\n",
       "      <td>Swimming</td>\n",
       "      <td>male</td>\n",
       "      <td>M</td>\n",
       "      <td>...</td>\n",
       "      <td>Y</td>\n",
       "      <td>NaN</td>\n",
       "      <td>NaN</td>\n",
       "      <td>S.W. Baker</td>\n",
       "      <td>ND-0001-Ceylon.pdf</td>\n",
       "      <td>http://sharkattackfile.net/spreadsheets/pdf_di...</td>\n",
       "      <td>http://sharkattackfile.net/spreadsheets/pdf_di...</td>\n",
       "      <td>ND.0001</td>\n",
       "      <td>ND.0001</td>\n",
       "      <td>2.0</td>\n",
       "    </tr>\n",
       "  </tbody>\n",
       "</table>\n",
       "<p>11 rows × 22 columns</p>\n",
       "</div>"
      ],
      "text/plain": [
       "     case_number         date  year        type             country  \\\n",
       "6291     ND.0011  Before 1911   0.0  Unprovoked               ASIA?   \n",
       "6292     ND.0010   Circa 1862   0.0  Unprovoked                 USA   \n",
       "6293     ND.0009  Before 1906   0.0  Unprovoked           AUSTRALIA   \n",
       "6294     ND.0008  Before 1906   0.0  Unprovoked           AUSTRALIA   \n",
       "6295     ND.0007  Before 1906   0.0  Unprovoked           AUSTRALIA   \n",
       "6296     ND.0006  Before 1906   0.0  Unprovoked           AUSTRALIA   \n",
       "6297     ND.0005  Before 1903   0.0  Unprovoked           AUSTRALIA   \n",
       "6298     ND.0004  Before 1903   0.0  Unprovoked           AUSTRALIA   \n",
       "6299     ND.0003    1900-1905   0.0  Unprovoked                 USA   \n",
       "6300     ND.0002    1883-1889   0.0  Unprovoked              PANAMA   \n",
       "6301     ND.0001    1845-1853   0.0  Unprovoked  CEYLON (SRI LANKA)   \n",
       "\n",
       "                   area                             location      activity  \\\n",
       "6291                NaN                                  NaN      Swimming   \n",
       "6292             Hawaii                                 Puna           NaN   \n",
       "6293                NaN                                  NaN       Fishing   \n",
       "6294                NaN                                  NaN       Fishing   \n",
       "6295                NaN                                  NaN       Fishing   \n",
       "6296    New South Wales                                           Swimming   \n",
       "6297  Western Australia                          Roebuck Bay        Diving   \n",
       "6298  Western Australia                                  NaN  Pearl diving   \n",
       "6299     North Carolina                       Ocracoke Inlet      Swimming   \n",
       "6300                NaN                 Panama Bay 8ºN, 79ºW           NaN   \n",
       "6301   Eastern Province  Below the English fort, Trincomalee      Swimming   \n",
       "\n",
       "                       name sex_  ... fatal_(y/n) time  \\\n",
       "6291             Mr. Masury    M  ...           N  NaN   \n",
       "6292           A \"chiefess\"    F  ...           N  NaN   \n",
       "6293                    boy    M  ...           Y  NaN   \n",
       "6294              fisherman    M  ...           Y  NaN   \n",
       "6295              fisherman    M  ...           Y  NaN   \n",
       "6296               Arab boy    M  ...           Y  NaN   \n",
       "6297                   male    M  ...           Y  NaN   \n",
       "6298                  Ahmun    M  ...           Y  NaN   \n",
       "6299  Coast Guard personnel    M  ...           Y  NaN   \n",
       "6300        Jules Patterson    M  ...           Y  NaN   \n",
       "6301                   male    M  ...           Y  NaN   \n",
       "\n",
       "                                               species_  \\\n",
       "6291                                                NaN   \n",
       "6292                                                NaN   \n",
       "6293                                       Blue pointer   \n",
       "6294                                       Blue pointer   \n",
       "6295                                      Blue pointers   \n",
       "6296  Said to involve a grey nurse shark that leapt ...   \n",
       "6297                                                NaN   \n",
       "6298                                                NaN   \n",
       "6299                                                NaN   \n",
       "6300                                                NaN   \n",
       "6301                                                NaN   \n",
       "\n",
       "                                 investigator_or_source  \\\n",
       "6291          Ref. J. T. Dubois in N.Y. Sun, 3/19/1911    \n",
       "6292                                   Captain W. Young   \n",
       "6293  NY Sun, 9/9/1906, referring to account by Loui...   \n",
       "6294  NY Sun, 9/9/1906, referring to account by Loui...   \n",
       "6295  NY Sun, 9/9/1906, referring to account by Loui...   \n",
       "6296  L. Becke in New York Sun, 9/9/1906; L. Schultz...   \n",
       "6297                   H. Taunton; N. Bartlett,  p. 234   \n",
       "6298              H. Taunton; N. Bartlett,  pp. 233-234   \n",
       "6299               F. Schwartz, p.23; C. Creswell, GSAF   \n",
       "6300                                The Sun, 10/20/1938   \n",
       "6301                                         S.W. Baker   \n",
       "\n",
       "                                    pdf  \\\n",
       "6291                 ND-0011-Masury.pdf   \n",
       "6292            ND-0010-Puna Hawaii.pdf   \n",
       "6293          ND-0009-boy-Australia.pdf   \n",
       "6294   ND-0008-Fisherman2-Australia.pdf   \n",
       "6295  ND-0007 - Fisherman-Australia.pdf   \n",
       "6296       ND-0006-ArabBoy-Prymount.pdf   \n",
       "6297             ND-0005-RoebuckBay.pdf   \n",
       "6298                  ND-0004-Ahmun.pdf   \n",
       "6299     ND-0003-Ocracoke_1900-1905.pdf   \n",
       "6300         ND-0002-JulesPatterson.pdf   \n",
       "6301                 ND-0001-Ceylon.pdf   \n",
       "\n",
       "                                           href_formula  \\\n",
       "6291  http://sharkattackfile.net/spreadsheets/pdf_di...   \n",
       "6292  http://sharkattackfile.net/spreadsheets/pdf_di...   \n",
       "6293  http://sharkattackfile.net/spreadsheets/pdf_di...   \n",
       "6294  http://sharkattackfile.net/spreadsheets/pdf_di...   \n",
       "6295  http://sharkattackfile.net/spreadsheets/pdf_di...   \n",
       "6296  http://sharkattackfile.net/spreadsheets/pdf_di...   \n",
       "6297  http://sharkattackfile.net/spreadsheets/pdf_di...   \n",
       "6298  http://sharkattackfile.net/spreadsheets/pdf_di...   \n",
       "6299  http://sharkattackfile.net/spreadsheets/pdf_di...   \n",
       "6300  http://sharkattackfile.net/spreadsheets/pdf_di...   \n",
       "6301  http://sharkattackfile.net/spreadsheets/pdf_di...   \n",
       "\n",
       "                                                   href case_number1  \\\n",
       "6291  http://sharkattackfile.net/spreadsheets/pdf_di...      ND.0011   \n",
       "6292  http://sharkattackfile.net/spreadsheets/pdf_di...      ND.0010   \n",
       "6293  http://sharkattackfile.net/spreadsheets/pdf_di...      ND.0009   \n",
       "6294  http://sharkattackfile.net/spreadsheets/pdf_di...      ND.0008   \n",
       "6295  http://sharkattackfile.net/spreadsheets/pdf_di...      ND.0007   \n",
       "6296  http://sharkattackfile.net/spreadsheets/pdf_di...      ND.0006   \n",
       "6297  http://sharkattackfile.net/spreadsheets/pdf_di...      ND.0005   \n",
       "6298  http://sharkattackfile.net/spreadsheets/pdf_di...      ND.0004   \n",
       "6299  http://sharkattackfile.net/spreadsheets/pdf_di...      ND.0003   \n",
       "6300  http://sharkattackfile.net/spreadsheets/pdf_di...      ND.0002   \n",
       "6301  http://sharkattackfile.net/spreadsheets/pdf_di...      ND.0001   \n",
       "\n",
       "     case_number2 original_order  \n",
       "6291      ND.0011           12.0  \n",
       "6292      ND.0010           11.0  \n",
       "6293      ND.0009           10.0  \n",
       "6294      ND.0008            9.0  \n",
       "6295      ND.0007            8.0  \n",
       "6296      ND.0006            7.0  \n",
       "6297      ND.0005            6.0  \n",
       "6298      ND.0004            5.0  \n",
       "6299      ND.0003            4.0  \n",
       "6300      ND.0002            3.0  \n",
       "6301      ND.0001            2.0  \n",
       "\n",
       "[11 rows x 22 columns]"
      ]
     },
     "execution_count": 26,
     "metadata": {},
     "output_type": "execute_result"
    }
   ],
   "source": [
    "attacks.tail(11)"
   ]
  },
  {
   "cell_type": "code",
   "execution_count": 27,
   "id": "5f3b0ef7",
   "metadata": {},
   "outputs": [
    {
     "data": {
      "text/plain": [
       "True     6282\n",
       "False      20\n",
       "dtype: int64"
      ]
     },
     "execution_count": 27,
     "metadata": {},
     "output_type": "execute_result"
    }
   ],
   "source": [
    "(attacks.drop_duplicates().case_number1==attacks.case_number2).value_counts()"
   ]
  },
  {
   "cell_type": "code",
   "execution_count": 28,
   "id": "0e777488",
   "metadata": {},
   "outputs": [
    {
     "name": "stdout",
     "output_type": "stream",
     "text": [
      "False\n"
     ]
    }
   ],
   "source": [
    "print(attacks['case_number1'].equals(attacks['case_number2']))"
   ]
  },
  {
   "cell_type": "code",
   "execution_count": 29,
   "id": "d1128305",
   "metadata": {},
   "outputs": [],
   "source": [
    "attacks = attacks.drop(columns=['case_number2'])"
   ]
  },
  {
   "cell_type": "code",
   "execution_count": 30,
   "id": "b11d31f0",
   "metadata": {},
   "outputs": [
    {
     "data": {
      "text/html": [
       "<div>\n",
       "<style scoped>\n",
       "    .dataframe tbody tr th:only-of-type {\n",
       "        vertical-align: middle;\n",
       "    }\n",
       "\n",
       "    .dataframe tbody tr th {\n",
       "        vertical-align: top;\n",
       "    }\n",
       "\n",
       "    .dataframe thead th {\n",
       "        text-align: right;\n",
       "    }\n",
       "</style>\n",
       "<table border=\"1\" class=\"dataframe\">\n",
       "  <thead>\n",
       "    <tr style=\"text-align: right;\">\n",
       "      <th></th>\n",
       "      <th>case_number</th>\n",
       "      <th>date</th>\n",
       "      <th>year</th>\n",
       "      <th>type</th>\n",
       "      <th>country</th>\n",
       "      <th>area</th>\n",
       "      <th>location</th>\n",
       "      <th>activity</th>\n",
       "      <th>name</th>\n",
       "      <th>sex_</th>\n",
       "      <th>...</th>\n",
       "      <th>injury</th>\n",
       "      <th>fatal_(y/n)</th>\n",
       "      <th>time</th>\n",
       "      <th>species_</th>\n",
       "      <th>investigator_or_source</th>\n",
       "      <th>pdf</th>\n",
       "      <th>href_formula</th>\n",
       "      <th>href</th>\n",
       "      <th>case_number1</th>\n",
       "      <th>original_order</th>\n",
       "    </tr>\n",
       "  </thead>\n",
       "  <tbody>\n",
       "    <tr>\n",
       "      <th>0</th>\n",
       "      <td>2018.06.25</td>\n",
       "      <td>25-Jun-2018</td>\n",
       "      <td>2018.0</td>\n",
       "      <td>Boating</td>\n",
       "      <td>USA</td>\n",
       "      <td>California</td>\n",
       "      <td>Oceanside, San Diego County</td>\n",
       "      <td>Paddling</td>\n",
       "      <td>Julie Wolfe</td>\n",
       "      <td>F</td>\n",
       "      <td>...</td>\n",
       "      <td>No injury to occupant, outrigger canoe and pad...</td>\n",
       "      <td>N</td>\n",
       "      <td>18h00</td>\n",
       "      <td>White shark</td>\n",
       "      <td>R. Collier, GSAF</td>\n",
       "      <td>2018.06.25-Wolfe.pdf</td>\n",
       "      <td>http://sharkattackfile.net/spreadsheets/pdf_di...</td>\n",
       "      <td>http://sharkattackfile.net/spreadsheets/pdf_di...</td>\n",
       "      <td>2018.06.25</td>\n",
       "      <td>6303.0</td>\n",
       "    </tr>\n",
       "    <tr>\n",
       "      <th>1</th>\n",
       "      <td>2018.06.18</td>\n",
       "      <td>18-Jun-2018</td>\n",
       "      <td>2018.0</td>\n",
       "      <td>Unprovoked</td>\n",
       "      <td>USA</td>\n",
       "      <td>Georgia</td>\n",
       "      <td>St. Simon Island, Glynn County</td>\n",
       "      <td>Standing</td>\n",
       "      <td>Adyson McNeely</td>\n",
       "      <td>F</td>\n",
       "      <td>...</td>\n",
       "      <td>Minor injury to left thigh</td>\n",
       "      <td>N</td>\n",
       "      <td>14h00  -15h00</td>\n",
       "      <td>NaN</td>\n",
       "      <td>K.McMurray, TrackingSharks.com</td>\n",
       "      <td>2018.06.18-McNeely.pdf</td>\n",
       "      <td>http://sharkattackfile.net/spreadsheets/pdf_di...</td>\n",
       "      <td>http://sharkattackfile.net/spreadsheets/pdf_di...</td>\n",
       "      <td>2018.06.18</td>\n",
       "      <td>6302.0</td>\n",
       "    </tr>\n",
       "    <tr>\n",
       "      <th>2</th>\n",
       "      <td>2018.06.09</td>\n",
       "      <td>09-Jun-2018</td>\n",
       "      <td>2018.0</td>\n",
       "      <td>Invalid</td>\n",
       "      <td>USA</td>\n",
       "      <td>Hawaii</td>\n",
       "      <td>Habush, Oahu</td>\n",
       "      <td>Surfing</td>\n",
       "      <td>John Denges</td>\n",
       "      <td>M</td>\n",
       "      <td>...</td>\n",
       "      <td>Injury to left lower leg from surfboard skeg</td>\n",
       "      <td>N</td>\n",
       "      <td>07h45</td>\n",
       "      <td>NaN</td>\n",
       "      <td>K.McMurray, TrackingSharks.com</td>\n",
       "      <td>2018.06.09-Denges.pdf</td>\n",
       "      <td>http://sharkattackfile.net/spreadsheets/pdf_di...</td>\n",
       "      <td>http://sharkattackfile.net/spreadsheets/pdf_di...</td>\n",
       "      <td>2018.06.09</td>\n",
       "      <td>6301.0</td>\n",
       "    </tr>\n",
       "    <tr>\n",
       "      <th>3</th>\n",
       "      <td>2018.06.08</td>\n",
       "      <td>08-Jun-2018</td>\n",
       "      <td>2018.0</td>\n",
       "      <td>Unprovoked</td>\n",
       "      <td>AUSTRALIA</td>\n",
       "      <td>New South Wales</td>\n",
       "      <td>Arrawarra Headland</td>\n",
       "      <td>Surfing</td>\n",
       "      <td>male</td>\n",
       "      <td>M</td>\n",
       "      <td>...</td>\n",
       "      <td>Minor injury to lower leg</td>\n",
       "      <td>N</td>\n",
       "      <td>NaN</td>\n",
       "      <td>2 m shark</td>\n",
       "      <td>B. Myatt, GSAF</td>\n",
       "      <td>2018.06.08-Arrawarra.pdf</td>\n",
       "      <td>http://sharkattackfile.net/spreadsheets/pdf_di...</td>\n",
       "      <td>http://sharkattackfile.net/spreadsheets/pdf_di...</td>\n",
       "      <td>2018.06.08</td>\n",
       "      <td>6300.0</td>\n",
       "    </tr>\n",
       "    <tr>\n",
       "      <th>4</th>\n",
       "      <td>2018.06.04</td>\n",
       "      <td>04-Jun-2018</td>\n",
       "      <td>2018.0</td>\n",
       "      <td>Provoked</td>\n",
       "      <td>MEXICO</td>\n",
       "      <td>Colima</td>\n",
       "      <td>La Ticla</td>\n",
       "      <td>Free diving</td>\n",
       "      <td>Gustavo Ramos</td>\n",
       "      <td>M</td>\n",
       "      <td>...</td>\n",
       "      <td>Lacerations to leg &amp; hand shark PROVOKED INCIDENT</td>\n",
       "      <td>N</td>\n",
       "      <td>NaN</td>\n",
       "      <td>Tiger shark, 3m</td>\n",
       "      <td>A .Kipper</td>\n",
       "      <td>2018.06.04-Ramos.pdf</td>\n",
       "      <td>http://sharkattackfile.net/spreadsheets/pdf_di...</td>\n",
       "      <td>http://sharkattackfile.net/spreadsheets/pdf_di...</td>\n",
       "      <td>2018.06.04</td>\n",
       "      <td>6299.0</td>\n",
       "    </tr>\n",
       "  </tbody>\n",
       "</table>\n",
       "<p>5 rows × 21 columns</p>\n",
       "</div>"
      ],
      "text/plain": [
       "  case_number         date    year        type    country             area  \\\n",
       "0  2018.06.25  25-Jun-2018  2018.0     Boating        USA       California   \n",
       "1  2018.06.18  18-Jun-2018  2018.0  Unprovoked        USA          Georgia   \n",
       "2  2018.06.09  09-Jun-2018  2018.0     Invalid        USA           Hawaii   \n",
       "3  2018.06.08  08-Jun-2018  2018.0  Unprovoked  AUSTRALIA  New South Wales   \n",
       "4  2018.06.04  04-Jun-2018  2018.0    Provoked     MEXICO           Colima   \n",
       "\n",
       "                         location     activity             name sex_  ...  \\\n",
       "0     Oceanside, San Diego County     Paddling      Julie Wolfe    F  ...   \n",
       "1  St. Simon Island, Glynn County     Standing  Adyson McNeely     F  ...   \n",
       "2                    Habush, Oahu      Surfing      John Denges    M  ...   \n",
       "3              Arrawarra Headland      Surfing             male    M  ...   \n",
       "4                        La Ticla  Free diving   Gustavo Ramos     M  ...   \n",
       "\n",
       "                                              injury fatal_(y/n)  \\\n",
       "0  No injury to occupant, outrigger canoe and pad...           N   \n",
       "1                         Minor injury to left thigh           N   \n",
       "2       Injury to left lower leg from surfboard skeg           N   \n",
       "3                          Minor injury to lower leg           N   \n",
       "4  Lacerations to leg & hand shark PROVOKED INCIDENT           N   \n",
       "\n",
       "            time         species_          investigator_or_source  \\\n",
       "0          18h00      White shark                R. Collier, GSAF   \n",
       "1  14h00  -15h00              NaN  K.McMurray, TrackingSharks.com   \n",
       "2          07h45              NaN  K.McMurray, TrackingSharks.com   \n",
       "3            NaN        2 m shark                  B. Myatt, GSAF   \n",
       "4            NaN  Tiger shark, 3m                       A .Kipper   \n",
       "\n",
       "                        pdf  \\\n",
       "0      2018.06.25-Wolfe.pdf   \n",
       "1    2018.06.18-McNeely.pdf   \n",
       "2     2018.06.09-Denges.pdf   \n",
       "3  2018.06.08-Arrawarra.pdf   \n",
       "4      2018.06.04-Ramos.pdf   \n",
       "\n",
       "                                        href_formula  \\\n",
       "0  http://sharkattackfile.net/spreadsheets/pdf_di...   \n",
       "1  http://sharkattackfile.net/spreadsheets/pdf_di...   \n",
       "2  http://sharkattackfile.net/spreadsheets/pdf_di...   \n",
       "3  http://sharkattackfile.net/spreadsheets/pdf_di...   \n",
       "4  http://sharkattackfile.net/spreadsheets/pdf_di...   \n",
       "\n",
       "                                                href case_number1  \\\n",
       "0  http://sharkattackfile.net/spreadsheets/pdf_di...   2018.06.25   \n",
       "1  http://sharkattackfile.net/spreadsheets/pdf_di...   2018.06.18   \n",
       "2  http://sharkattackfile.net/spreadsheets/pdf_di...   2018.06.09   \n",
       "3  http://sharkattackfile.net/spreadsheets/pdf_di...   2018.06.08   \n",
       "4  http://sharkattackfile.net/spreadsheets/pdf_di...   2018.06.04   \n",
       "\n",
       "  original_order  \n",
       "0         6303.0  \n",
       "1         6302.0  \n",
       "2         6301.0  \n",
       "3         6300.0  \n",
       "4         6299.0  \n",
       "\n",
       "[5 rows x 21 columns]"
      ]
     },
     "execution_count": 30,
     "metadata": {},
     "output_type": "execute_result"
    }
   ],
   "source": [
    "attacks.head()"
   ]
  },
  {
   "cell_type": "code",
   "execution_count": 31,
   "id": "90c5d69c",
   "metadata": {},
   "outputs": [
    {
     "data": {
      "text/plain": [
       "True     6278\n",
       "False      24\n",
       "dtype: int64"
      ]
     },
     "execution_count": 31,
     "metadata": {},
     "output_type": "execute_result"
    }
   ],
   "source": [
    "(attacks.drop_duplicates().case_number1==attacks.case_number).value_counts()"
   ]
  },
  {
   "cell_type": "code",
   "execution_count": 32,
   "id": "b829971a",
   "metadata": {},
   "outputs": [],
   "source": [
    " #Para comprobar en que filas están los valores que no son iguales a la comlumna que se está comparando, se hace mediante el índice."
   ]
  },
  {
   "cell_type": "code",
   "execution_count": 33,
   "id": "f28b8d8a",
   "metadata": {},
   "outputs": [],
   "source": [
    "attacks = attacks.drop(columns=['case_number1'])\n"
   ]
  },
  {
   "cell_type": "markdown",
   "id": "b550918a",
   "metadata": {},
   "source": [
    "Se comprueba que las columnas case_number, case_number1 y case_number2 son practicamente indénticas, con 6300 valores iguales frente a unos 20 direntes.\n",
    "Por este motivo, se decide eliminar case_number1 y case_number2."
   ]
  },
  {
   "cell_type": "code",
   "execution_count": 34,
   "id": "dbdf6986",
   "metadata": {},
   "outputs": [
    {
     "data": {
      "text/plain": [
       "((6302, 20), (25723, 24))"
      ]
     },
     "execution_count": 34,
     "metadata": {},
     "output_type": "execute_result"
    }
   ],
   "source": [
    "attacks.shape, dim_original"
   ]
  },
  {
   "cell_type": "code",
   "execution_count": 35,
   "id": "032927df",
   "metadata": {},
   "outputs": [
    {
     "data": {
      "text/plain": [
       "True     6242\n",
       "False      60\n",
       "dtype: int64"
      ]
     },
     "execution_count": 35,
     "metadata": {},
     "output_type": "execute_result"
    }
   ],
   "source": [
    "#Comprobamos que las columnas href_formula y href tienes una proporción grande.\n",
    "(attacks.drop_duplicates().href_formula==attacks.href).value_counts()"
   ]
  },
  {
   "cell_type": "code",
   "execution_count": 36,
   "id": "740600d4",
   "metadata": {},
   "outputs": [],
   "source": [
    "#Se decide eliminar href al ser muy similar a href_formula.\n",
    "attacks = attacks.drop(columns=['href'])"
   ]
  },
  {
   "cell_type": "code",
   "execution_count": 37,
   "id": "f9ce8058",
   "metadata": {},
   "outputs": [
    {
     "data": {
      "text/plain": [
       "(6302, 19)"
      ]
     },
     "execution_count": 37,
     "metadata": {},
     "output_type": "execute_result"
    }
   ],
   "source": [
    "attacks.shape"
   ]
  },
  {
   "cell_type": "markdown",
   "id": "2dbed0e3",
   "metadata": {},
   "source": [
    "## Limpieza columna a columna de valores nulos y unificación de formatos."
   ]
  },
  {
   "cell_type": "code",
   "execution_count": 38,
   "id": "4dd7b74a",
   "metadata": {},
   "outputs": [
    {
     "data": {
      "text/plain": [
       "case_number                  1\n",
       "date                         0\n",
       "year                         2\n",
       "type                         4\n",
       "country                     50\n",
       "area                       455\n",
       "location                   540\n",
       "activity                   544\n",
       "name                       210\n",
       "sex_                       565\n",
       "age                       2831\n",
       "injury                      28\n",
       "fatal_(y/n)                539\n",
       "time                      3354\n",
       "species_                  2838\n",
       "investigator_or_source      17\n",
       "pdf                          0\n",
       "href_formula                 1\n",
       "original_order               0\n",
       "dtype: int64"
      ]
     },
     "execution_count": 38,
     "metadata": {},
     "output_type": "execute_result"
    }
   ],
   "source": [
    "#Se comprueba el número de valores nulos en cada columna.\n",
    "\n",
    "nan_colums1=attacks.isna().sum()\n",
    "nan_colums1"
   ]
  },
  {
   "cell_type": "markdown",
   "id": "2c03090d",
   "metadata": {},
   "source": [
    "Se comprueba que las columnas case_number y date no son exactamente iguales, que la diferencia se encuentra basicamente en el formato."
   ]
  },
  {
   "cell_type": "markdown",
   "id": "c51c97e5",
   "metadata": {},
   "source": [
    "### 1. Columas case_number y date."
   ]
  },
  {
   "cell_type": "code",
   "execution_count": 39,
   "id": "b44780f6",
   "metadata": {},
   "outputs": [
    {
     "data": {
      "text/plain": [
       "False"
      ]
     },
     "execution_count": 39,
     "metadata": {},
     "output_type": "execute_result"
    }
   ],
   "source": [
    "attacks['case_number'].equals(attacks['date'])"
   ]
  },
  {
   "cell_type": "code",
   "execution_count": 40,
   "id": "0f3abe58",
   "metadata": {},
   "outputs": [],
   "source": [
    "#Al observar que la columna date presenta una mayor variedad de formatos del datos expresado, se toma la decisioón de mantener la columna de case_number, que expresa la fecha en la que ha ocurrido el ataque."
   ]
  },
  {
   "cell_type": "code",
   "execution_count": 41,
   "id": "70a27bba",
   "metadata": {},
   "outputs": [],
   "source": [
    "attacks = attacks.drop(columns=['date'])"
   ]
  },
  {
   "cell_type": "code",
   "execution_count": 42,
   "id": "5e1c8f28",
   "metadata": {},
   "outputs": [],
   "source": [
    "#Para unificar la expresión de los valores de case_number que dan una información de la fecha primero se van a eliminar las letras adheridas a la fecha, que no nos ofrecen ninguna información relevante. "
   ]
  },
  {
   "cell_type": "code",
   "execution_count": 43,
   "id": "44963666",
   "metadata": {},
   "outputs": [
    {
     "data": {
      "text/plain": [
       "dtype('O')"
      ]
     },
     "execution_count": 43,
     "metadata": {},
     "output_type": "execute_result"
    }
   ],
   "source": [
    "#Eliminación de letras:\n",
    "\n",
    "attacks['case_number'].dtype"
   ]
  },
  {
   "cell_type": "code",
   "execution_count": 44,
   "id": "90d06a88",
   "metadata": {},
   "outputs": [],
   "source": [
    "#Se crea una función para convertir todas las fechas de case_number al mismo formato en el archivo cleaning_functions. "
   ]
  },
  {
   "cell_type": "code",
   "execution_count": 45,
   "id": "3bd85c8a",
   "metadata": {},
   "outputs": [
    {
     "name": "stdout",
     "output_type": "stream",
     "text": [
      "<class 'pandas.core.frame.DataFrame'>\n",
      "Int64Index: 6302 entries, 0 to 6301\n",
      "Data columns (total 18 columns):\n",
      " #   Column                  Non-Null Count  Dtype  \n",
      "---  ------                  --------------  -----  \n",
      " 0   case_number             6301 non-null   object \n",
      " 1   year                    6300 non-null   float64\n",
      " 2   type                    6298 non-null   object \n",
      " 3   country                 6252 non-null   object \n",
      " 4   area                    5847 non-null   object \n",
      " 5   location                5762 non-null   object \n",
      " 6   activity                5758 non-null   object \n",
      " 7   name                    6092 non-null   object \n",
      " 8   sex_                    5737 non-null   object \n",
      " 9   age                     3471 non-null   object \n",
      " 10  injury                  6274 non-null   object \n",
      " 11  fatal_(y/n)             5763 non-null   object \n",
      " 12  time                    2948 non-null   object \n",
      " 13  species_                3464 non-null   object \n",
      " 14  investigator_or_source  6285 non-null   object \n",
      " 15  pdf                     6302 non-null   object \n",
      " 16  href_formula            6301 non-null   object \n",
      " 17  original_order          6302 non-null   float64\n",
      "dtypes: float64(2), object(16)\n",
      "memory usage: 7.0 MB\n"
     ]
    }
   ],
   "source": [
    "attacks.info(memory_usage='deep')"
   ]
  },
  {
   "cell_type": "code",
   "execution_count": 46,
   "id": "b2c7460f",
   "metadata": {},
   "outputs": [],
   "source": [
    "attacks['case_number'] = attacks['case_number'].astype('str')"
   ]
  },
  {
   "cell_type": "code",
   "execution_count": 47,
   "id": "a93bed37",
   "metadata": {},
   "outputs": [],
   "source": [
    "#Se aplica la función a la comulna indicada:\n",
    "\n",
    "attacks.case_number=attacks.case_number.apply(cf.limpiar_fecha)"
   ]
  },
  {
   "cell_type": "code",
   "execution_count": 48,
   "id": "79061cde",
   "metadata": {},
   "outputs": [
    {
     "data": {
      "text/html": [
       "<div>\n",
       "<style scoped>\n",
       "    .dataframe tbody tr th:only-of-type {\n",
       "        vertical-align: middle;\n",
       "    }\n",
       "\n",
       "    .dataframe tbody tr th {\n",
       "        vertical-align: top;\n",
       "    }\n",
       "\n",
       "    .dataframe thead th {\n",
       "        text-align: right;\n",
       "    }\n",
       "</style>\n",
       "<table border=\"1\" class=\"dataframe\">\n",
       "  <thead>\n",
       "    <tr style=\"text-align: right;\">\n",
       "      <th></th>\n",
       "      <th>case_number</th>\n",
       "      <th>year</th>\n",
       "      <th>type</th>\n",
       "      <th>country</th>\n",
       "      <th>area</th>\n",
       "      <th>location</th>\n",
       "      <th>activity</th>\n",
       "      <th>name</th>\n",
       "      <th>sex_</th>\n",
       "      <th>age</th>\n",
       "      <th>injury</th>\n",
       "      <th>fatal_(y/n)</th>\n",
       "      <th>time</th>\n",
       "      <th>species_</th>\n",
       "      <th>investigator_or_source</th>\n",
       "      <th>pdf</th>\n",
       "      <th>href_formula</th>\n",
       "      <th>original_order</th>\n",
       "    </tr>\n",
       "  </thead>\n",
       "  <tbody>\n",
       "    <tr>\n",
       "      <th>6297</th>\n",
       "      <td>ND.0005</td>\n",
       "      <td>0.0</td>\n",
       "      <td>Unprovoked</td>\n",
       "      <td>AUSTRALIA</td>\n",
       "      <td>Western Australia</td>\n",
       "      <td>Roebuck Bay</td>\n",
       "      <td>Diving</td>\n",
       "      <td>male</td>\n",
       "      <td>M</td>\n",
       "      <td>NaN</td>\n",
       "      <td>FATAL</td>\n",
       "      <td>Y</td>\n",
       "      <td>NaN</td>\n",
       "      <td>NaN</td>\n",
       "      <td>H. Taunton; N. Bartlett,  p. 234</td>\n",
       "      <td>ND-0005-RoebuckBay.pdf</td>\n",
       "      <td>http://sharkattackfile.net/spreadsheets/pdf_di...</td>\n",
       "      <td>6.0</td>\n",
       "    </tr>\n",
       "    <tr>\n",
       "      <th>6298</th>\n",
       "      <td>ND.0004</td>\n",
       "      <td>0.0</td>\n",
       "      <td>Unprovoked</td>\n",
       "      <td>AUSTRALIA</td>\n",
       "      <td>Western Australia</td>\n",
       "      <td>NaN</td>\n",
       "      <td>Pearl diving</td>\n",
       "      <td>Ahmun</td>\n",
       "      <td>M</td>\n",
       "      <td>NaN</td>\n",
       "      <td>FATAL</td>\n",
       "      <td>Y</td>\n",
       "      <td>NaN</td>\n",
       "      <td>NaN</td>\n",
       "      <td>H. Taunton; N. Bartlett,  pp. 233-234</td>\n",
       "      <td>ND-0004-Ahmun.pdf</td>\n",
       "      <td>http://sharkattackfile.net/spreadsheets/pdf_di...</td>\n",
       "      <td>5.0</td>\n",
       "    </tr>\n",
       "    <tr>\n",
       "      <th>6299</th>\n",
       "      <td>ND.0003</td>\n",
       "      <td>0.0</td>\n",
       "      <td>Unprovoked</td>\n",
       "      <td>USA</td>\n",
       "      <td>North Carolina</td>\n",
       "      <td>Ocracoke Inlet</td>\n",
       "      <td>Swimming</td>\n",
       "      <td>Coast Guard personnel</td>\n",
       "      <td>M</td>\n",
       "      <td>NaN</td>\n",
       "      <td>FATAL</td>\n",
       "      <td>Y</td>\n",
       "      <td>NaN</td>\n",
       "      <td>NaN</td>\n",
       "      <td>F. Schwartz, p.23; C. Creswell, GSAF</td>\n",
       "      <td>ND-0003-Ocracoke_1900-1905.pdf</td>\n",
       "      <td>http://sharkattackfile.net/spreadsheets/pdf_di...</td>\n",
       "      <td>4.0</td>\n",
       "    </tr>\n",
       "    <tr>\n",
       "      <th>6300</th>\n",
       "      <td>ND.0002</td>\n",
       "      <td>0.0</td>\n",
       "      <td>Unprovoked</td>\n",
       "      <td>PANAMA</td>\n",
       "      <td>NaN</td>\n",
       "      <td>Panama Bay 8ºN, 79ºW</td>\n",
       "      <td>NaN</td>\n",
       "      <td>Jules Patterson</td>\n",
       "      <td>M</td>\n",
       "      <td>NaN</td>\n",
       "      <td>FATAL</td>\n",
       "      <td>Y</td>\n",
       "      <td>NaN</td>\n",
       "      <td>NaN</td>\n",
       "      <td>The Sun, 10/20/1938</td>\n",
       "      <td>ND-0002-JulesPatterson.pdf</td>\n",
       "      <td>http://sharkattackfile.net/spreadsheets/pdf_di...</td>\n",
       "      <td>3.0</td>\n",
       "    </tr>\n",
       "    <tr>\n",
       "      <th>6301</th>\n",
       "      <td>ND.0001</td>\n",
       "      <td>0.0</td>\n",
       "      <td>Unprovoked</td>\n",
       "      <td>CEYLON (SRI LANKA)</td>\n",
       "      <td>Eastern Province</td>\n",
       "      <td>Below the English fort, Trincomalee</td>\n",
       "      <td>Swimming</td>\n",
       "      <td>male</td>\n",
       "      <td>M</td>\n",
       "      <td>15</td>\n",
       "      <td>FATAL. \"Shark bit him in half, carrying away t...</td>\n",
       "      <td>Y</td>\n",
       "      <td>NaN</td>\n",
       "      <td>NaN</td>\n",
       "      <td>S.W. Baker</td>\n",
       "      <td>ND-0001-Ceylon.pdf</td>\n",
       "      <td>http://sharkattackfile.net/spreadsheets/pdf_di...</td>\n",
       "      <td>2.0</td>\n",
       "    </tr>\n",
       "  </tbody>\n",
       "</table>\n",
       "</div>"
      ],
      "text/plain": [
       "     case_number  year        type             country               area  \\\n",
       "6297     ND.0005   0.0  Unprovoked           AUSTRALIA  Western Australia   \n",
       "6298     ND.0004   0.0  Unprovoked           AUSTRALIA  Western Australia   \n",
       "6299     ND.0003   0.0  Unprovoked                 USA     North Carolina   \n",
       "6300     ND.0002   0.0  Unprovoked              PANAMA                NaN   \n",
       "6301     ND.0001   0.0  Unprovoked  CEYLON (SRI LANKA)   Eastern Province   \n",
       "\n",
       "                                 location      activity  \\\n",
       "6297                          Roebuck Bay        Diving   \n",
       "6298                                  NaN  Pearl diving   \n",
       "6299                       Ocracoke Inlet      Swimming   \n",
       "6300                 Panama Bay 8ºN, 79ºW           NaN   \n",
       "6301  Below the English fort, Trincomalee      Swimming   \n",
       "\n",
       "                       name sex_  age  \\\n",
       "6297                   male    M  NaN   \n",
       "6298                  Ahmun    M  NaN   \n",
       "6299  Coast Guard personnel    M  NaN   \n",
       "6300        Jules Patterson    M  NaN   \n",
       "6301                   male    M   15   \n",
       "\n",
       "                                                 injury fatal_(y/n) time  \\\n",
       "6297                                              FATAL           Y  NaN   \n",
       "6298                                              FATAL           Y  NaN   \n",
       "6299                                              FATAL           Y  NaN   \n",
       "6300                                              FATAL           Y  NaN   \n",
       "6301  FATAL. \"Shark bit him in half, carrying away t...           Y  NaN   \n",
       "\n",
       "     species_                 investigator_or_source  \\\n",
       "6297      NaN       H. Taunton; N. Bartlett,  p. 234   \n",
       "6298      NaN  H. Taunton; N. Bartlett,  pp. 233-234   \n",
       "6299      NaN   F. Schwartz, p.23; C. Creswell, GSAF   \n",
       "6300      NaN                    The Sun, 10/20/1938   \n",
       "6301      NaN                             S.W. Baker   \n",
       "\n",
       "                                 pdf  \\\n",
       "6297          ND-0005-RoebuckBay.pdf   \n",
       "6298               ND-0004-Ahmun.pdf   \n",
       "6299  ND-0003-Ocracoke_1900-1905.pdf   \n",
       "6300      ND-0002-JulesPatterson.pdf   \n",
       "6301              ND-0001-Ceylon.pdf   \n",
       "\n",
       "                                           href_formula  original_order  \n",
       "6297  http://sharkattackfile.net/spreadsheets/pdf_di...             6.0  \n",
       "6298  http://sharkattackfile.net/spreadsheets/pdf_di...             5.0  \n",
       "6299  http://sharkattackfile.net/spreadsheets/pdf_di...             4.0  \n",
       "6300  http://sharkattackfile.net/spreadsheets/pdf_di...             3.0  \n",
       "6301  http://sharkattackfile.net/spreadsheets/pdf_di...             2.0  "
      ]
     },
     "execution_count": 48,
     "metadata": {},
     "output_type": "execute_result"
    }
   ],
   "source": [
    "#Compramos que el formato de la fecha es igual para toda la columna:\n",
    "attacks.tail()"
   ]
  },
  {
   "cell_type": "code",
   "execution_count": 49,
   "id": "359b5a78",
   "metadata": {},
   "outputs": [
    {
     "data": {
      "text/plain": [
       "Int64Index([], dtype='int64')"
      ]
     },
     "execution_count": 49,
     "metadata": {},
     "output_type": "execute_result"
    }
   ],
   "source": [
    "mal_index=attacks.case_number[attacks.case_number.isna()].index\n",
    "mal_index"
   ]
  },
  {
   "cell_type": "code",
   "execution_count": 50,
   "id": "ffd7c7ad",
   "metadata": {},
   "outputs": [],
   "source": [
    "#Se verifica que hay un dato nulo en la columna, y se toma la deción de sustituir el nulo por el valor superior.\n",
    "attacks['case_number']=attacks['case_number'].ffill()"
   ]
  },
  {
   "cell_type": "code",
   "execution_count": 51,
   "id": "9d36bd31",
   "metadata": {},
   "outputs": [
    {
     "data": {
      "text/html": [
       "<div>\n",
       "<style scoped>\n",
       "    .dataframe tbody tr th:only-of-type {\n",
       "        vertical-align: middle;\n",
       "    }\n",
       "\n",
       "    .dataframe tbody tr th {\n",
       "        vertical-align: top;\n",
       "    }\n",
       "\n",
       "    .dataframe thead th {\n",
       "        text-align: right;\n",
       "    }\n",
       "</style>\n",
       "<table border=\"1\" class=\"dataframe\">\n",
       "  <thead>\n",
       "    <tr style=\"text-align: right;\">\n",
       "      <th></th>\n",
       "      <th>case_number</th>\n",
       "      <th>year</th>\n",
       "      <th>type</th>\n",
       "      <th>country</th>\n",
       "      <th>area</th>\n",
       "      <th>location</th>\n",
       "      <th>activity</th>\n",
       "      <th>name</th>\n",
       "      <th>sex_</th>\n",
       "      <th>age</th>\n",
       "      <th>injury</th>\n",
       "      <th>fatal_(y/n)</th>\n",
       "      <th>time</th>\n",
       "      <th>species_</th>\n",
       "      <th>investigator_or_source</th>\n",
       "      <th>pdf</th>\n",
       "      <th>href_formula</th>\n",
       "      <th>original_order</th>\n",
       "    </tr>\n",
       "  </thead>\n",
       "  <tbody>\n",
       "    <tr>\n",
       "      <th>5487</th>\n",
       "      <td>1905.09.29</td>\n",
       "      <td>1905.0</td>\n",
       "      <td>Unprovoked</td>\n",
       "      <td>AUSTRALIA</td>\n",
       "      <td>New South Wales</td>\n",
       "      <td>Waverly, Sydney</td>\n",
       "      <td>Swimming</td>\n",
       "      <td>Jame Crotty</td>\n",
       "      <td>M</td>\n",
       "      <td>NaN</td>\n",
       "      <td>FATAL. Shark involvement suspected but not con...</td>\n",
       "      <td>Y</td>\n",
       "      <td>NaN</td>\n",
       "      <td>NaN</td>\n",
       "      <td>The Argus, 9/30/1905</td>\n",
       "      <td>1905.09.29-Crotty.pdf</td>\n",
       "      <td>http://sharkattackfile.net/spreadsheets/pdf_di...</td>\n",
       "      <td>816.0</td>\n",
       "    </tr>\n",
       "    <tr>\n",
       "      <th>5488</th>\n",
       "      <td>nan</td>\n",
       "      <td>1905.0</td>\n",
       "      <td>Provoked</td>\n",
       "      <td>USA</td>\n",
       "      <td>Florida</td>\n",
       "      <td>Fort Pierce, St Lucie County</td>\n",
       "      <td>Fishing</td>\n",
       "      <td>David Curry</td>\n",
       "      <td>M</td>\n",
       "      <td>NaN</td>\n",
       "      <td>Lacerations to leg from hooked shark PROVOKED ...</td>\n",
       "      <td>N</td>\n",
       "      <td>NaN</td>\n",
       "      <td>NaN</td>\n",
       "      <td>Muncie Evening Press, 8/6/1913</td>\n",
       "      <td>1905.09.06.R-Curry.pdf</td>\n",
       "      <td>http://sharkattackfile.net/spreadsheets/pdf_di...</td>\n",
       "      <td>815.0</td>\n",
       "    </tr>\n",
       "  </tbody>\n",
       "</table>\n",
       "</div>"
      ],
      "text/plain": [
       "     case_number    year        type    country             area  \\\n",
       "5487  1905.09.29  1905.0  Unprovoked  AUSTRALIA  New South Wales   \n",
       "5488         nan  1905.0    Provoked        USA          Florida   \n",
       "\n",
       "                          location  activity         name sex_  age  \\\n",
       "5487               Waverly, Sydney  Swimming  Jame Crotty    M  NaN   \n",
       "5488  Fort Pierce, St Lucie County   Fishing  David Curry    M  NaN   \n",
       "\n",
       "                                                 injury fatal_(y/n) time  \\\n",
       "5487  FATAL. Shark involvement suspected but not con...           Y  NaN   \n",
       "5488  Lacerations to leg from hooked shark PROVOKED ...           N  NaN   \n",
       "\n",
       "     species_          investigator_or_source                     pdf  \\\n",
       "5487      NaN            The Argus, 9/30/1905   1905.09.29-Crotty.pdf   \n",
       "5488      NaN  Muncie Evening Press, 8/6/1913  1905.09.06.R-Curry.pdf   \n",
       "\n",
       "                                           href_formula  original_order  \n",
       "5487  http://sharkattackfile.net/spreadsheets/pdf_di...           816.0  \n",
       "5488  http://sharkattackfile.net/spreadsheets/pdf_di...           815.0  "
      ]
     },
     "execution_count": 51,
     "metadata": {},
     "output_type": "execute_result"
    }
   ],
   "source": [
    "#Verifico que le dato se ha cambiado.\n",
    "attacks.iloc[5487:5489] "
   ]
  },
  {
   "cell_type": "code",
   "execution_count": 52,
   "id": "88b3ed03",
   "metadata": {},
   "outputs": [
    {
     "data": {
      "text/plain": [
       "['2018.06.25',\n",
       " '2018.06.18',\n",
       " '2018.06.09',\n",
       " '2018.06.08',\n",
       " '2018.06.04',\n",
       " '2018.06.03']"
      ]
     },
     "execution_count": 52,
     "metadata": {},
     "output_type": "execute_result"
    }
   ],
   "source": [
    "malas_fechas=attacks['case_number'].tolist()\n",
    "\n",
    "\n",
    "malas_fechas[:6]"
   ]
  },
  {
   "cell_type": "code",
   "execution_count": 53,
   "id": "c08640f7",
   "metadata": {},
   "outputs": [
    {
     "data": {
      "text/plain": [
       "748"
      ]
     },
     "execution_count": 53,
     "metadata": {},
     "output_type": "execute_result"
    }
   ],
   "source": [
    "#Se hace para comprobar cuántas fechas tienen como día 00 ya que este valor no permite pasar a time.type:\n",
    "\n",
    "cf.contar_fechas(malas_fechas)\n"
   ]
  },
  {
   "cell_type": "code",
   "execution_count": 54,
   "id": "86cc914c",
   "metadata": {},
   "outputs": [],
   "source": [
    "#Se modifican las fechas de case_number que no tienen el formato año.mes.día ya que las últimas filas del DF no tienen un valor desconocido.\n",
    "\n",
    "attacks.case_number=attacks.case_number.apply(cf.quitar_fechas)  "
   ]
  },
  {
   "cell_type": "code",
   "execution_count": 55,
   "id": "b39744d4",
   "metadata": {},
   "outputs": [
    {
     "data": {
      "text/plain": [
       "Int64Index([187, 6079], dtype='int64')"
      ]
     },
     "execution_count": 55,
     "metadata": {},
     "output_type": "execute_result"
    }
   ],
   "source": [
    "mal_index2=attacks.year[attacks.year.isna()].index\n",
    "mal_index2"
   ]
  },
  {
   "cell_type": "code",
   "execution_count": 56,
   "id": "92e8b476",
   "metadata": {},
   "outputs": [],
   "source": [
    "attacks['year']=attacks['year'].ffill()"
   ]
  },
  {
   "cell_type": "code",
   "execution_count": 57,
   "id": "f6720684",
   "metadata": {},
   "outputs": [
    {
     "name": "stdout",
     "output_type": "stream",
     "text": [
      "<class 'pandas.core.frame.DataFrame'>\n",
      "Int64Index: 6302 entries, 0 to 6301\n",
      "Data columns (total 18 columns):\n",
      " #   Column                  Non-Null Count  Dtype  \n",
      "---  ------                  --------------  -----  \n",
      " 0   case_number             6302 non-null   object \n",
      " 1   year                    6302 non-null   float64\n",
      " 2   type                    6298 non-null   object \n",
      " 3   country                 6252 non-null   object \n",
      " 4   area                    5847 non-null   object \n",
      " 5   location                5762 non-null   object \n",
      " 6   activity                5758 non-null   object \n",
      " 7   name                    6092 non-null   object \n",
      " 8   sex_                    5737 non-null   object \n",
      " 9   age                     3471 non-null   object \n",
      " 10  injury                  6274 non-null   object \n",
      " 11  fatal_(y/n)             5763 non-null   object \n",
      " 12  time                    2948 non-null   object \n",
      " 13  species_                3464 non-null   object \n",
      " 14  investigator_or_source  6285 non-null   object \n",
      " 15  pdf                     6302 non-null   object \n",
      " 16  href_formula            6301 non-null   object \n",
      " 17  original_order          6302 non-null   float64\n",
      "dtypes: float64(2), object(16)\n",
      "memory usage: 7.0 MB\n"
     ]
    }
   ],
   "source": [
    "attacks.info(memory_usage='deep')"
   ]
  },
  {
   "cell_type": "code",
   "execution_count": 58,
   "id": "336e3cf9",
   "metadata": {},
   "outputs": [],
   "source": [
    "#Se convierte la columna de year en int para que el año quede como un entero.\n",
    "\n",
    "attacks['year'] = attacks['year'].astype('int')"
   ]
  },
  {
   "cell_type": "code",
   "execution_count": 59,
   "id": "f96e384f",
   "metadata": {},
   "outputs": [],
   "source": [
    "#Para rellenar los valores de año que son igual a cero.\n",
    "\n",
    "attacks.year=attacks.year.apply(cf.cambiar_year)"
   ]
  },
  {
   "cell_type": "markdown",
   "id": "19c5b787",
   "metadata": {},
   "source": [
    "### 2. Columna type."
   ]
  },
  {
   "cell_type": "code",
   "execution_count": 60,
   "id": "d92c9cea",
   "metadata": {},
   "outputs": [
    {
     "data": {
      "text/plain": [
       "array(['Boating', 'Unprovoked', 'Invalid', 'Provoked', 'Questionable',\n",
       "       'Sea Disaster', nan, 'Boat', 'Boatomg'], dtype=object)"
      ]
     },
     "execution_count": 60,
     "metadata": {},
     "output_type": "execute_result"
    }
   ],
   "source": [
    "#Ahora se continíua con la columna Type. Primero se verifican los datos únicos.\n",
    "\n",
    "attacks.type.unique()"
   ]
  },
  {
   "cell_type": "code",
   "execution_count": 61,
   "id": "2fe0e721",
   "metadata": {},
   "outputs": [],
   "source": [
    "#Como se desconoce como fue en los valores nulos, se sustituyen los mismos por 'unknown'."
   ]
  },
  {
   "cell_type": "code",
   "execution_count": 62,
   "id": "c4dae58a",
   "metadata": {},
   "outputs": [],
   "source": [
    "attacks=attacks.rename(columns={'type': 'type_attack'})"
   ]
  },
  {
   "cell_type": "code",
   "execution_count": 63,
   "id": "d2883190",
   "metadata": {},
   "outputs": [
    {
     "data": {
      "text/plain": [
       "Int64Index([85, 382, 4867, 5705], dtype='int64')"
      ]
     },
     "execution_count": 63,
     "metadata": {},
     "output_type": "execute_result"
    }
   ],
   "source": [
    "mal_index5=attacks.type_attack[attacks.type_attack.isna()].index\n",
    "mal_index5"
   ]
  },
  {
   "cell_type": "code",
   "execution_count": 64,
   "id": "83b22149",
   "metadata": {},
   "outputs": [],
   "source": [
    "attacks.type_attack.fillna(value='unknown', inplace=True)"
   ]
  },
  {
   "cell_type": "markdown",
   "id": "0a4e8828",
   "metadata": {},
   "source": [
    "### 3. Columna country."
   ]
  },
  {
   "cell_type": "code",
   "execution_count": 65,
   "id": "effdfcc0",
   "metadata": {},
   "outputs": [],
   "source": [
    "attacks['country'] = attacks['country'].astype('str')"
   ]
  },
  {
   "cell_type": "code",
   "execution_count": 66,
   "id": "2ad2e411",
   "metadata": {},
   "outputs": [],
   "source": [
    "#Se rellenan los valores nulos con 'unknown'.\n",
    "\n",
    "attacks_isnull = attacks.fillna({'country': 'unknown'})"
   ]
  },
  {
   "cell_type": "code",
   "execution_count": 67,
   "id": "76967371",
   "metadata": {},
   "outputs": [
    {
     "data": {
      "text/plain": [
       "array(['USA', 'AUSTRALIA', 'MEXICO', 'BRAZIL', 'ENGLAND'], dtype=object)"
      ]
     },
     "execution_count": 67,
     "metadata": {},
     "output_type": "execute_result"
    }
   ],
   "source": [
    "#Se comprueban valores únicos.\n",
    "\n",
    "attacks.country.unique()[0:5]"
   ]
  },
  {
   "cell_type": "code",
   "execution_count": 68,
   "id": "f8082214",
   "metadata": {},
   "outputs": [
    {
     "data": {
      "text/plain": [
       "213"
      ]
     },
     "execution_count": 68,
     "metadata": {},
     "output_type": "execute_result"
    }
   ],
   "source": [
    "len(attacks.country.unique())"
   ]
  },
  {
   "cell_type": "code",
   "execution_count": 69,
   "id": "dff7aca5",
   "metadata": {},
   "outputs": [],
   "source": [
    "paises=attacks['country'].tolist()"
   ]
  },
  {
   "cell_type": "code",
   "execution_count": 70,
   "id": "c4fd7d5c",
   "metadata": {},
   "outputs": [],
   "source": [
    "#Se pone el nombre de todos los paises en mayúscula.\n",
    "\n",
    "attacks['country']=attacks['country'].str.upper()"
   ]
  },
  {
   "cell_type": "code",
   "execution_count": 71,
   "id": "efc2adef",
   "metadata": {},
   "outputs": [],
   "source": [
    "#Se quitan caracteres especiales aplicando la función limpiar_country.\n",
    "\n",
    "attacks.country=attacks.country.apply(cf.limpiar_country)"
   ]
  },
  {
   "cell_type": "code",
   "execution_count": 72,
   "id": "110e3a15",
   "metadata": {},
   "outputs": [
    {
     "data": {
      "text/plain": [
       "199"
      ]
     },
     "execution_count": 72,
     "metadata": {},
     "output_type": "execute_result"
    }
   ],
   "source": [
    "len(attacks.country.unique())"
   ]
  },
  {
   "cell_type": "markdown",
   "id": "2413c2a4",
   "metadata": {},
   "source": [
    "### 4. Columna area."
   ]
  },
  {
   "cell_type": "code",
   "execution_count": 73,
   "id": "c7bb5d8e",
   "metadata": {},
   "outputs": [
    {
     "data": {
      "text/plain": [
       "array(['California', 'Georgia', 'Hawaii', 'New South Wales', 'Colima',\n",
       "       'Pernambuco', 'Florida', 'Queensland', 'South Carolina',\n",
       "       'Cornwall'], dtype=object)"
      ]
     },
     "execution_count": 73,
     "metadata": {},
     "output_type": "execute_result"
    }
   ],
   "source": [
    "#Se comprueban valores únicos.\n",
    "\n",
    "attacks.area.unique()[0:10]"
   ]
  },
  {
   "cell_type": "code",
   "execution_count": 74,
   "id": "906c1ca7",
   "metadata": {},
   "outputs": [],
   "source": [
    "#Se rellenan valores nulos.\n",
    "\n",
    "attacks.area.fillna(value='unknown', inplace=True)"
   ]
  },
  {
   "cell_type": "markdown",
   "id": "366405e2",
   "metadata": {},
   "source": [
    "Se toma la decisión de no modificar nigún valor más en la columna area, ya que no es determinante para nuestra hipótesis porque se va a tener en cuenta un grado mayor que es el país."
   ]
  },
  {
   "cell_type": "markdown",
   "id": "1a6bf423",
   "metadata": {},
   "source": [
    "### 5. Columna location."
   ]
  },
  {
   "cell_type": "code",
   "execution_count": 75,
   "id": "c67a2840",
   "metadata": {},
   "outputs": [
    {
     "data": {
      "text/plain": [
       "case_number                  0\n",
       "year                         0\n",
       "type_attack                  0\n",
       "country                      0\n",
       "area                         0\n",
       "location                   540\n",
       "activity                   544\n",
       "name                       210\n",
       "sex_                       565\n",
       "age                       2831\n",
       "injury                      28\n",
       "fatal_(y/n)                539\n",
       "time                      3354\n",
       "species_                  2838\n",
       "investigator_or_source      17\n",
       "pdf                          0\n",
       "href_formula                 1\n",
       "original_order               0\n",
       "dtype: int64"
      ]
     },
     "execution_count": 75,
     "metadata": {},
     "output_type": "execute_result"
    }
   ],
   "source": [
    "attacks.isna().sum()"
   ]
  },
  {
   "cell_type": "code",
   "execution_count": 76,
   "id": "691dd470",
   "metadata": {},
   "outputs": [],
   "source": [
    "#Se rellenan valores nulos con 'unknown'.\n",
    "\n",
    "attacks.location.fillna(value='unknown', inplace=True)"
   ]
  },
  {
   "cell_type": "markdown",
   "id": "7115201c",
   "metadata": {},
   "source": [
    "Se decide no modificar tampoco ningún dato de la columna."
   ]
  },
  {
   "cell_type": "markdown",
   "id": "da455a25",
   "metadata": {},
   "source": [
    "### 6. Columna activity."
   ]
  },
  {
   "cell_type": "code",
   "execution_count": 77,
   "id": "7e1c8470",
   "metadata": {},
   "outputs": [],
   "source": [
    "#Se rellenan valores nulos con 'unknown'.\n",
    "\n",
    "attacks.activity.fillna(value='unknown', inplace=True)"
   ]
  },
  {
   "cell_type": "code",
   "execution_count": 78,
   "id": "ed624007",
   "metadata": {},
   "outputs": [],
   "source": [
    "#Se crea una función para reducir en número de actividades usando regex.\n",
    "\n",
    "attacks.activity=attacks.activity.apply(cf.limpiar_activity)"
   ]
  },
  {
   "cell_type": "code",
   "execution_count": 79,
   "id": "37180bb6",
   "metadata": {},
   "outputs": [
    {
     "data": {
      "text/plain": [
       "17"
      ]
     },
     "execution_count": 79,
     "metadata": {},
     "output_type": "execute_result"
    }
   ],
   "source": [
    "len(attacks.activity.unique())"
   ]
  },
  {
   "cell_type": "markdown",
   "id": "05bb2e75",
   "metadata": {},
   "source": [
    "### 7. Columna name."
   ]
  },
  {
   "cell_type": "code",
   "execution_count": 80,
   "id": "5c51eecb",
   "metadata": {},
   "outputs": [],
   "source": [
    "#Se rellenan valores nulos con 'unknown'.\n",
    "\n",
    "attacks.name.fillna(value='unknown', inplace=True)"
   ]
  },
  {
   "cell_type": "code",
   "execution_count": 81,
   "id": "e379bef4",
   "metadata": {},
   "outputs": [
    {
     "data": {
      "text/plain": [
       "5230"
      ]
     },
     "execution_count": 81,
     "metadata": {},
     "output_type": "execute_result"
    }
   ],
   "source": [
    "len(attacks.name.unique())"
   ]
  },
  {
   "cell_type": "code",
   "execution_count": 82,
   "id": "60bf1aa1",
   "metadata": {},
   "outputs": [],
   "source": [
    "#Se crea una función para limpiar los valores diferentes a lo que podrían ser nombres.\n",
    "\n",
    "attacks.name=attacks.name.apply(cf.change_name)"
   ]
  },
  {
   "cell_type": "code",
   "execution_count": 83,
   "id": "7fa15b04",
   "metadata": {},
   "outputs": [
    {
     "data": {
      "text/plain": [
       "0                 Julie Wolfe\n",
       "1             Adyson McNeely \n",
       "2                 John Denges\n",
       "3                     unknown\n",
       "4              Gustavo Ramos \n",
       "                ...          \n",
       "6297                  unknown\n",
       "6298                    Ahmun\n",
       "6299    Coast Guard personnel\n",
       "6300          Jules Patterson\n",
       "6301                  unknown\n",
       "Name: name, Length: 6302, dtype: object"
      ]
     },
     "execution_count": 83,
     "metadata": {},
     "output_type": "execute_result"
    }
   ],
   "source": [
    "attacks.name"
   ]
  },
  {
   "cell_type": "markdown",
   "id": "913523ca",
   "metadata": {},
   "source": [
    "#### Se realiza una copia de lo limpiado hasta ahora por seguridad."
   ]
  },
  {
   "cell_type": "code",
   "execution_count": 84,
   "id": "465df4da",
   "metadata": {},
   "outputs": [],
   "source": [
    "attacks_limpieza2=attacks.copy()"
   ]
  },
  {
   "cell_type": "markdown",
   "id": "9b15bdab",
   "metadata": {},
   "source": [
    "### 8. Columna sex_."
   ]
  },
  {
   "cell_type": "code",
   "execution_count": 85,
   "id": "ffd77e74",
   "metadata": {},
   "outputs": [
    {
     "data": {
      "text/plain": [
       "array(['F', 'M', nan, 'M ', 'lli', 'N', '.'], dtype=object)"
      ]
     },
     "execution_count": 85,
     "metadata": {},
     "output_type": "execute_result"
    }
   ],
   "source": [
    "#Se verifican datos únicos.\n",
    "\n",
    "attacks.sex_.unique()"
   ]
  },
  {
   "cell_type": "code",
   "execution_count": 86,
   "id": "0dda266f",
   "metadata": {},
   "outputs": [],
   "source": [
    "#Se rellenan valores nulos con 'unknown'.\n",
    "\n",
    "\n",
    "attacks.sex_.fillna(value='unknown', inplace=True)"
   ]
  },
  {
   "cell_type": "code",
   "execution_count": 87,
   "id": "383a4d0a",
   "metadata": {},
   "outputs": [],
   "source": [
    "#Se unifica mediante una función el sexo a male o female o desconocido.\n",
    "\n",
    "attacks.sex_=attacks.sex_.apply(cf.unificar_sex)\n"
   ]
  },
  {
   "cell_type": "markdown",
   "id": "8c73bc94",
   "metadata": {},
   "source": [
    "### 9. Columna age."
   ]
  },
  {
   "cell_type": "code",
   "execution_count": 88,
   "id": "3b764dae",
   "metadata": {},
   "outputs": [],
   "source": [
    "attacks['age'] = attacks['age'].astype('str')"
   ]
  },
  {
   "cell_type": "code",
   "execution_count": 89,
   "id": "dc88d936",
   "metadata": {},
   "outputs": [],
   "source": [
    "#Se crea una función para unificar tipo de dtos y completar valores usando la media.\n",
    "\n",
    "attacks.age=attacks.age.apply(cf.mean_age)"
   ]
  },
  {
   "cell_type": "code",
   "execution_count": 90,
   "id": "f5700b9e",
   "metadata": {},
   "outputs": [
    {
     "data": {
      "text/plain": [
       "array([57. , 11. , 48. ,  nan, 18. , 52. , 15. , 12. , 32. , 10. , 21. ,\n",
       "       34. , 30. , 60. , 33. , 29. , 54. , 41. , 37. , 56. , 19. , 25. ,\n",
       "       69. , 38. , 55. , 35. , 46. , 45. , 14. , 40. , 28. , 20. , 24. ,\n",
       "       26. , 49. , 22. ,  7. , 31. , 17. , 13. , 42. ,  3. ,  8. , 50. ,\n",
       "       16. , 82. , 73. , 68. , 51. , 39. , 58. , 15.5, 47. , 61. , 65. ,\n",
       "       36. , 66. , 43. ,  9. , 72. , 59. ,  6. , 27. , 64. , 23. , 71. ,\n",
       "       44. , 62. , 63. , 70. , 53. , 77. , 74. ,  5. , 86. , 12.5, 84. ,\n",
       "       75. , 21.5, 87. , 67. , 23.5, 10.5, 24.5,  1. , 26.5, 38.6, 28.5,\n",
       "       29.5,  2.5, 81. , 18.5,  7.5, 78. , 16.5,  9.5,  2. , 13.5])"
      ]
     },
     "execution_count": 90,
     "metadata": {},
     "output_type": "execute_result"
    }
   ],
   "source": [
    "attacks.age.unique()"
   ]
  },
  {
   "cell_type": "code",
   "execution_count": 91,
   "id": "43bcf2ca",
   "metadata": {},
   "outputs": [],
   "source": [
    "attacks['age'] = attacks['age'].astype('float')"
   ]
  },
  {
   "cell_type": "code",
   "execution_count": 92,
   "id": "965b2615",
   "metadata": {},
   "outputs": [],
   "source": [
    "#Se rellenan valores nulos con 'unknown'.\n",
    "\n",
    "\n",
    "attacks.age.fillna(value='unknown', inplace=True)"
   ]
  },
  {
   "cell_type": "code",
   "execution_count": 93,
   "id": "46e63833",
   "metadata": {},
   "outputs": [
    {
     "data": {
      "text/html": [
       "<div>\n",
       "<style scoped>\n",
       "    .dataframe tbody tr th:only-of-type {\n",
       "        vertical-align: middle;\n",
       "    }\n",
       "\n",
       "    .dataframe tbody tr th {\n",
       "        vertical-align: top;\n",
       "    }\n",
       "\n",
       "    .dataframe thead th {\n",
       "        text-align: right;\n",
       "    }\n",
       "</style>\n",
       "<table border=\"1\" class=\"dataframe\">\n",
       "  <thead>\n",
       "    <tr style=\"text-align: right;\">\n",
       "      <th></th>\n",
       "      <th>case_number</th>\n",
       "      <th>year</th>\n",
       "      <th>type_attack</th>\n",
       "      <th>country</th>\n",
       "      <th>area</th>\n",
       "      <th>location</th>\n",
       "      <th>activity</th>\n",
       "      <th>name</th>\n",
       "      <th>sex_</th>\n",
       "      <th>age</th>\n",
       "      <th>injury</th>\n",
       "      <th>fatal_(y/n)</th>\n",
       "      <th>time</th>\n",
       "      <th>species_</th>\n",
       "      <th>investigator_or_source</th>\n",
       "      <th>pdf</th>\n",
       "      <th>href_formula</th>\n",
       "      <th>original_order</th>\n",
       "    </tr>\n",
       "  </thead>\n",
       "  <tbody>\n",
       "    <tr>\n",
       "      <th>0</th>\n",
       "      <td>2018.06.25</td>\n",
       "      <td>2018</td>\n",
       "      <td>Boating</td>\n",
       "      <td>USA</td>\n",
       "      <td>California</td>\n",
       "      <td>Oceanside, San Diego County</td>\n",
       "      <td>Paddling</td>\n",
       "      <td>Julie Wolfe</td>\n",
       "      <td>F</td>\n",
       "      <td>57.0</td>\n",
       "      <td>No injury to occupant, outrigger canoe and pad...</td>\n",
       "      <td>N</td>\n",
       "      <td>18h00</td>\n",
       "      <td>White shark</td>\n",
       "      <td>R. Collier, GSAF</td>\n",
       "      <td>2018.06.25-Wolfe.pdf</td>\n",
       "      <td>http://sharkattackfile.net/spreadsheets/pdf_di...</td>\n",
       "      <td>6303.0</td>\n",
       "    </tr>\n",
       "    <tr>\n",
       "      <th>1</th>\n",
       "      <td>2018.06.18</td>\n",
       "      <td>2018</td>\n",
       "      <td>Unprovoked</td>\n",
       "      <td>USA</td>\n",
       "      <td>Georgia</td>\n",
       "      <td>St. Simon Island, Glynn County</td>\n",
       "      <td>Standing in water</td>\n",
       "      <td>Adyson McNeely</td>\n",
       "      <td>F</td>\n",
       "      <td>11.0</td>\n",
       "      <td>Minor injury to left thigh</td>\n",
       "      <td>N</td>\n",
       "      <td>14h00  -15h00</td>\n",
       "      <td>NaN</td>\n",
       "      <td>K.McMurray, TrackingSharks.com</td>\n",
       "      <td>2018.06.18-McNeely.pdf</td>\n",
       "      <td>http://sharkattackfile.net/spreadsheets/pdf_di...</td>\n",
       "      <td>6302.0</td>\n",
       "    </tr>\n",
       "    <tr>\n",
       "      <th>2</th>\n",
       "      <td>2018.06.09</td>\n",
       "      <td>2018</td>\n",
       "      <td>Invalid</td>\n",
       "      <td>USA</td>\n",
       "      <td>Hawaii</td>\n",
       "      <td>Habush, Oahu</td>\n",
       "      <td>other</td>\n",
       "      <td>John Denges</td>\n",
       "      <td>M</td>\n",
       "      <td>48.0</td>\n",
       "      <td>Injury to left lower leg from surfboard skeg</td>\n",
       "      <td>N</td>\n",
       "      <td>07h45</td>\n",
       "      <td>NaN</td>\n",
       "      <td>K.McMurray, TrackingSharks.com</td>\n",
       "      <td>2018.06.09-Denges.pdf</td>\n",
       "      <td>http://sharkattackfile.net/spreadsheets/pdf_di...</td>\n",
       "      <td>6301.0</td>\n",
       "    </tr>\n",
       "    <tr>\n",
       "      <th>3</th>\n",
       "      <td>2018.06.08</td>\n",
       "      <td>2018</td>\n",
       "      <td>Unprovoked</td>\n",
       "      <td>AUSTRALIA</td>\n",
       "      <td>New South Wales</td>\n",
       "      <td>Arrawarra Headland</td>\n",
       "      <td>other</td>\n",
       "      <td>unknown</td>\n",
       "      <td>M</td>\n",
       "      <td>unknown</td>\n",
       "      <td>Minor injury to lower leg</td>\n",
       "      <td>N</td>\n",
       "      <td>NaN</td>\n",
       "      <td>2 m shark</td>\n",
       "      <td>B. Myatt, GSAF</td>\n",
       "      <td>2018.06.08-Arrawarra.pdf</td>\n",
       "      <td>http://sharkattackfile.net/spreadsheets/pdf_di...</td>\n",
       "      <td>6300.0</td>\n",
       "    </tr>\n",
       "    <tr>\n",
       "      <th>4</th>\n",
       "      <td>2018.06.04</td>\n",
       "      <td>2018</td>\n",
       "      <td>Provoked</td>\n",
       "      <td>MEXICO</td>\n",
       "      <td>Colima</td>\n",
       "      <td>La Ticla</td>\n",
       "      <td>Diving</td>\n",
       "      <td>Gustavo Ramos</td>\n",
       "      <td>M</td>\n",
       "      <td>unknown</td>\n",
       "      <td>Lacerations to leg &amp; hand shark PROVOKED INCIDENT</td>\n",
       "      <td>N</td>\n",
       "      <td>NaN</td>\n",
       "      <td>Tiger shark, 3m</td>\n",
       "      <td>A .Kipper</td>\n",
       "      <td>2018.06.04-Ramos.pdf</td>\n",
       "      <td>http://sharkattackfile.net/spreadsheets/pdf_di...</td>\n",
       "      <td>6299.0</td>\n",
       "    </tr>\n",
       "  </tbody>\n",
       "</table>\n",
       "</div>"
      ],
      "text/plain": [
       "  case_number  year type_attack    country             area  \\\n",
       "0  2018.06.25  2018     Boating        USA       California   \n",
       "1  2018.06.18  2018  Unprovoked        USA          Georgia   \n",
       "2  2018.06.09  2018     Invalid        USA           Hawaii   \n",
       "3  2018.06.08  2018  Unprovoked  AUSTRALIA  New South Wales   \n",
       "4  2018.06.04  2018    Provoked     MEXICO           Colima   \n",
       "\n",
       "                         location           activity             name sex_  \\\n",
       "0     Oceanside, San Diego County           Paddling      Julie Wolfe    F   \n",
       "1  St. Simon Island, Glynn County  Standing in water  Adyson McNeely     F   \n",
       "2                    Habush, Oahu              other      John Denges    M   \n",
       "3              Arrawarra Headland              other          unknown    M   \n",
       "4                        La Ticla             Diving   Gustavo Ramos     M   \n",
       "\n",
       "       age                                             injury fatal_(y/n)  \\\n",
       "0     57.0  No injury to occupant, outrigger canoe and pad...           N   \n",
       "1     11.0                         Minor injury to left thigh           N   \n",
       "2     48.0       Injury to left lower leg from surfboard skeg           N   \n",
       "3  unknown                          Minor injury to lower leg           N   \n",
       "4  unknown  Lacerations to leg & hand shark PROVOKED INCIDENT           N   \n",
       "\n",
       "            time         species_          investigator_or_source  \\\n",
       "0          18h00      White shark                R. Collier, GSAF   \n",
       "1  14h00  -15h00              NaN  K.McMurray, TrackingSharks.com   \n",
       "2          07h45              NaN  K.McMurray, TrackingSharks.com   \n",
       "3            NaN        2 m shark                  B. Myatt, GSAF   \n",
       "4            NaN  Tiger shark, 3m                       A .Kipper   \n",
       "\n",
       "                        pdf  \\\n",
       "0      2018.06.25-Wolfe.pdf   \n",
       "1    2018.06.18-McNeely.pdf   \n",
       "2     2018.06.09-Denges.pdf   \n",
       "3  2018.06.08-Arrawarra.pdf   \n",
       "4      2018.06.04-Ramos.pdf   \n",
       "\n",
       "                                        href_formula  original_order  \n",
       "0  http://sharkattackfile.net/spreadsheets/pdf_di...          6303.0  \n",
       "1  http://sharkattackfile.net/spreadsheets/pdf_di...          6302.0  \n",
       "2  http://sharkattackfile.net/spreadsheets/pdf_di...          6301.0  \n",
       "3  http://sharkattackfile.net/spreadsheets/pdf_di...          6300.0  \n",
       "4  http://sharkattackfile.net/spreadsheets/pdf_di...          6299.0  "
      ]
     },
     "execution_count": 93,
     "metadata": {},
     "output_type": "execute_result"
    }
   ],
   "source": [
    "attacks.head()"
   ]
  },
  {
   "cell_type": "code",
   "execution_count": 94,
   "id": "c1b13195",
   "metadata": {
    "scrolled": true
   },
   "outputs": [
    {
     "data": {
      "text/plain": [
       "injury                      28\n",
       "fatal_(y/n)                539\n",
       "time                      3354\n",
       "species_                  2838\n",
       "investigator_or_source      17\n",
       "href_formula                 1\n",
       "dtype: int64"
      ]
     },
     "execution_count": 94,
     "metadata": {},
     "output_type": "execute_result"
    }
   ],
   "source": [
    "#Se comprueba que columnas quedan con nulos:\n",
    "\n",
    "nan_cols=attacks.isna().sum()\n",
    "\n",
    "nan_cols[nan_cols>0]"
   ]
  },
  {
   "cell_type": "markdown",
   "id": "70517d1b",
   "metadata": {},
   "source": [
    "### 10. Columna injury."
   ]
  },
  {
   "cell_type": "code",
   "execution_count": 95,
   "id": "01e69c8b",
   "metadata": {},
   "outputs": [],
   "source": [
    "#Se rellenan valores nulos con 'unknown'.\n",
    "\n",
    "\n",
    "attacks.injury.fillna(value='unknown', inplace=True)"
   ]
  },
  {
   "cell_type": "markdown",
   "id": "f0ed1304",
   "metadata": {},
   "source": [
    "### 11. Columna fatal.¶"
   ]
  },
  {
   "cell_type": "code",
   "execution_count": 96,
   "id": "0f9f21d9",
   "metadata": {},
   "outputs": [],
   "source": [
    "#Se renombra la columna para poder trabajar bien con ella.\n",
    "\n",
    "attacks=attacks.rename(columns={'fatal_(y/n)': 'Fatal'})"
   ]
  },
  {
   "cell_type": "code",
   "execution_count": 97,
   "id": "456f323c",
   "metadata": {},
   "outputs": [
    {
     "data": {
      "text/plain": [
       "array(['N', 'Y', nan, 'M', 'UNKNOWN', '2017', ' N', 'N ', 'y'],\n",
       "      dtype=object)"
      ]
     },
     "execution_count": 97,
     "metadata": {},
     "output_type": "execute_result"
    }
   ],
   "source": [
    "attacks.Fatal.unique()"
   ]
  },
  {
   "cell_type": "code",
   "execution_count": 98,
   "id": "09bba3d3",
   "metadata": {},
   "outputs": [],
   "source": [
    "#Se crea una función para unificar el tipo de daño en Y, N y N/A.\n",
    "\n",
    "attacks.Fatal=attacks.Fatal.apply(cf.unificar_fatal)"
   ]
  },
  {
   "cell_type": "code",
   "execution_count": 99,
   "id": "d8dafde4",
   "metadata": {},
   "outputs": [
    {
     "data": {
      "text/plain": [
       "array(['N', 'Y', 'N/A'], dtype=object)"
      ]
     },
     "execution_count": 99,
     "metadata": {},
     "output_type": "execute_result"
    }
   ],
   "source": [
    "attacks.Fatal.unique()"
   ]
  },
  {
   "cell_type": "markdown",
   "id": "94faf249",
   "metadata": {},
   "source": [
    "### 12. Columna time."
   ]
  },
  {
   "cell_type": "code",
   "execution_count": 100,
   "id": "a5160fc7",
   "metadata": {},
   "outputs": [],
   "source": [
    "#Se rellenan valores nulos con 'unknown'.\n",
    "\n",
    "\n",
    "attacks.time.fillna(value='unknown', inplace=True)"
   ]
  },
  {
   "cell_type": "code",
   "execution_count": 101,
   "id": "f32f2e75",
   "metadata": {},
   "outputs": [],
   "source": [
    "attacks['time'] = attacks['time'].astype('str')"
   ]
  },
  {
   "cell_type": "code",
   "execution_count": 102,
   "id": "55047c30",
   "metadata": {},
   "outputs": [],
   "source": [
    "#Se crean dos funciones para dividir el día en cuatro partes y aplicarlo según las horas de 00 a 23.\n",
    "\n",
    "attacks.time=attacks.time.apply(cf.horas)"
   ]
  },
  {
   "cell_type": "code",
   "execution_count": 103,
   "id": "e3d87871",
   "metadata": {},
   "outputs": [],
   "source": [
    "attacks.time=attacks.time.apply(cf.limpiar_time)"
   ]
  },
  {
   "cell_type": "code",
   "execution_count": 104,
   "id": "b2f6b02e",
   "metadata": {},
   "outputs": [
    {
     "data": {
      "text/plain": [
       "array(['Afrternoon', 'Morning', 'unknown', 'Evening', 'Nigth'],\n",
       "      dtype=object)"
      ]
     },
     "execution_count": 104,
     "metadata": {},
     "output_type": "execute_result"
    }
   ],
   "source": [
    "attacks.time.unique()"
   ]
  },
  {
   "cell_type": "code",
   "execution_count": 105,
   "id": "b47d84c9",
   "metadata": {},
   "outputs": [
    {
     "data": {
      "text/html": [
       "<div>\n",
       "<style scoped>\n",
       "    .dataframe tbody tr th:only-of-type {\n",
       "        vertical-align: middle;\n",
       "    }\n",
       "\n",
       "    .dataframe tbody tr th {\n",
       "        vertical-align: top;\n",
       "    }\n",
       "\n",
       "    .dataframe thead th {\n",
       "        text-align: right;\n",
       "    }\n",
       "</style>\n",
       "<table border=\"1\" class=\"dataframe\">\n",
       "  <thead>\n",
       "    <tr style=\"text-align: right;\">\n",
       "      <th></th>\n",
       "      <th>case_number</th>\n",
       "      <th>year</th>\n",
       "      <th>type_attack</th>\n",
       "      <th>country</th>\n",
       "      <th>area</th>\n",
       "      <th>location</th>\n",
       "      <th>activity</th>\n",
       "      <th>name</th>\n",
       "      <th>sex_</th>\n",
       "      <th>age</th>\n",
       "      <th>injury</th>\n",
       "      <th>Fatal</th>\n",
       "      <th>time</th>\n",
       "      <th>species_</th>\n",
       "      <th>investigator_or_source</th>\n",
       "      <th>pdf</th>\n",
       "      <th>href_formula</th>\n",
       "      <th>original_order</th>\n",
       "    </tr>\n",
       "  </thead>\n",
       "  <tbody>\n",
       "    <tr>\n",
       "      <th>0</th>\n",
       "      <td>2018.06.25</td>\n",
       "      <td>2018</td>\n",
       "      <td>Boating</td>\n",
       "      <td>USA</td>\n",
       "      <td>California</td>\n",
       "      <td>Oceanside, San Diego County</td>\n",
       "      <td>Paddling</td>\n",
       "      <td>Julie Wolfe</td>\n",
       "      <td>F</td>\n",
       "      <td>57.0</td>\n",
       "      <td>No injury to occupant, outrigger canoe and pad...</td>\n",
       "      <td>N</td>\n",
       "      <td>Afrternoon</td>\n",
       "      <td>White shark</td>\n",
       "      <td>R. Collier, GSAF</td>\n",
       "      <td>2018.06.25-Wolfe.pdf</td>\n",
       "      <td>http://sharkattackfile.net/spreadsheets/pdf_di...</td>\n",
       "      <td>6303.0</td>\n",
       "    </tr>\n",
       "    <tr>\n",
       "      <th>1</th>\n",
       "      <td>2018.06.18</td>\n",
       "      <td>2018</td>\n",
       "      <td>Unprovoked</td>\n",
       "      <td>USA</td>\n",
       "      <td>Georgia</td>\n",
       "      <td>St. Simon Island, Glynn County</td>\n",
       "      <td>Standing in water</td>\n",
       "      <td>Adyson McNeely</td>\n",
       "      <td>F</td>\n",
       "      <td>11.0</td>\n",
       "      <td>Minor injury to left thigh</td>\n",
       "      <td>N</td>\n",
       "      <td>Afrternoon</td>\n",
       "      <td>NaN</td>\n",
       "      <td>K.McMurray, TrackingSharks.com</td>\n",
       "      <td>2018.06.18-McNeely.pdf</td>\n",
       "      <td>http://sharkattackfile.net/spreadsheets/pdf_di...</td>\n",
       "      <td>6302.0</td>\n",
       "    </tr>\n",
       "    <tr>\n",
       "      <th>2</th>\n",
       "      <td>2018.06.09</td>\n",
       "      <td>2018</td>\n",
       "      <td>Invalid</td>\n",
       "      <td>USA</td>\n",
       "      <td>Hawaii</td>\n",
       "      <td>Habush, Oahu</td>\n",
       "      <td>other</td>\n",
       "      <td>John Denges</td>\n",
       "      <td>M</td>\n",
       "      <td>48.0</td>\n",
       "      <td>Injury to left lower leg from surfboard skeg</td>\n",
       "      <td>N</td>\n",
       "      <td>Morning</td>\n",
       "      <td>NaN</td>\n",
       "      <td>K.McMurray, TrackingSharks.com</td>\n",
       "      <td>2018.06.09-Denges.pdf</td>\n",
       "      <td>http://sharkattackfile.net/spreadsheets/pdf_di...</td>\n",
       "      <td>6301.0</td>\n",
       "    </tr>\n",
       "    <tr>\n",
       "      <th>3</th>\n",
       "      <td>2018.06.08</td>\n",
       "      <td>2018</td>\n",
       "      <td>Unprovoked</td>\n",
       "      <td>AUSTRALIA</td>\n",
       "      <td>New South Wales</td>\n",
       "      <td>Arrawarra Headland</td>\n",
       "      <td>other</td>\n",
       "      <td>unknown</td>\n",
       "      <td>M</td>\n",
       "      <td>unknown</td>\n",
       "      <td>Minor injury to lower leg</td>\n",
       "      <td>N</td>\n",
       "      <td>unknown</td>\n",
       "      <td>2 m shark</td>\n",
       "      <td>B. Myatt, GSAF</td>\n",
       "      <td>2018.06.08-Arrawarra.pdf</td>\n",
       "      <td>http://sharkattackfile.net/spreadsheets/pdf_di...</td>\n",
       "      <td>6300.0</td>\n",
       "    </tr>\n",
       "    <tr>\n",
       "      <th>4</th>\n",
       "      <td>2018.06.04</td>\n",
       "      <td>2018</td>\n",
       "      <td>Provoked</td>\n",
       "      <td>MEXICO</td>\n",
       "      <td>Colima</td>\n",
       "      <td>La Ticla</td>\n",
       "      <td>Diving</td>\n",
       "      <td>Gustavo Ramos</td>\n",
       "      <td>M</td>\n",
       "      <td>unknown</td>\n",
       "      <td>Lacerations to leg &amp; hand shark PROVOKED INCIDENT</td>\n",
       "      <td>N</td>\n",
       "      <td>unknown</td>\n",
       "      <td>Tiger shark, 3m</td>\n",
       "      <td>A .Kipper</td>\n",
       "      <td>2018.06.04-Ramos.pdf</td>\n",
       "      <td>http://sharkattackfile.net/spreadsheets/pdf_di...</td>\n",
       "      <td>6299.0</td>\n",
       "    </tr>\n",
       "  </tbody>\n",
       "</table>\n",
       "</div>"
      ],
      "text/plain": [
       "  case_number  year type_attack    country             area  \\\n",
       "0  2018.06.25  2018     Boating        USA       California   \n",
       "1  2018.06.18  2018  Unprovoked        USA          Georgia   \n",
       "2  2018.06.09  2018     Invalid        USA           Hawaii   \n",
       "3  2018.06.08  2018  Unprovoked  AUSTRALIA  New South Wales   \n",
       "4  2018.06.04  2018    Provoked     MEXICO           Colima   \n",
       "\n",
       "                         location           activity             name sex_  \\\n",
       "0     Oceanside, San Diego County           Paddling      Julie Wolfe    F   \n",
       "1  St. Simon Island, Glynn County  Standing in water  Adyson McNeely     F   \n",
       "2                    Habush, Oahu              other      John Denges    M   \n",
       "3              Arrawarra Headland              other          unknown    M   \n",
       "4                        La Ticla             Diving   Gustavo Ramos     M   \n",
       "\n",
       "       age                                             injury Fatal  \\\n",
       "0     57.0  No injury to occupant, outrigger canoe and pad...     N   \n",
       "1     11.0                         Minor injury to left thigh     N   \n",
       "2     48.0       Injury to left lower leg from surfboard skeg     N   \n",
       "3  unknown                          Minor injury to lower leg     N   \n",
       "4  unknown  Lacerations to leg & hand shark PROVOKED INCIDENT     N   \n",
       "\n",
       "         time         species_          investigator_or_source  \\\n",
       "0  Afrternoon      White shark                R. Collier, GSAF   \n",
       "1  Afrternoon              NaN  K.McMurray, TrackingSharks.com   \n",
       "2     Morning              NaN  K.McMurray, TrackingSharks.com   \n",
       "3     unknown        2 m shark                  B. Myatt, GSAF   \n",
       "4     unknown  Tiger shark, 3m                       A .Kipper   \n",
       "\n",
       "                        pdf  \\\n",
       "0      2018.06.25-Wolfe.pdf   \n",
       "1    2018.06.18-McNeely.pdf   \n",
       "2     2018.06.09-Denges.pdf   \n",
       "3  2018.06.08-Arrawarra.pdf   \n",
       "4      2018.06.04-Ramos.pdf   \n",
       "\n",
       "                                        href_formula  original_order  \n",
       "0  http://sharkattackfile.net/spreadsheets/pdf_di...          6303.0  \n",
       "1  http://sharkattackfile.net/spreadsheets/pdf_di...          6302.0  \n",
       "2  http://sharkattackfile.net/spreadsheets/pdf_di...          6301.0  \n",
       "3  http://sharkattackfile.net/spreadsheets/pdf_di...          6300.0  \n",
       "4  http://sharkattackfile.net/spreadsheets/pdf_di...          6299.0  "
      ]
     },
     "execution_count": 105,
     "metadata": {},
     "output_type": "execute_result"
    }
   ],
   "source": [
    "attacks.head()"
   ]
  },
  {
   "cell_type": "markdown",
   "id": "7f7e77f4",
   "metadata": {},
   "source": [
    "### 13. Columna species_."
   ]
  },
  {
   "cell_type": "code",
   "execution_count": 106,
   "id": "b2143dbe",
   "metadata": {},
   "outputs": [
    {
     "data": {
      "text/plain": [
       "1550"
      ]
     },
     "execution_count": 106,
     "metadata": {},
     "output_type": "execute_result"
    }
   ],
   "source": [
    "#Se verifica cuantos datos únicos hay.\n",
    "\n",
    "len(attacks.species_.unique())"
   ]
  },
  {
   "cell_type": "code",
   "execution_count": 107,
   "id": "75c01163",
   "metadata": {},
   "outputs": [],
   "source": [
    "#Se crea una función con regex para unificar el tipo de especies.\n",
    "\n",
    "attacks.species_=attacks.species_.apply(cf.limpiar_species)"
   ]
  },
  {
   "cell_type": "code",
   "execution_count": 108,
   "id": "857a7569",
   "metadata": {},
   "outputs": [
    {
     "data": {
      "text/plain": [
       "36"
      ]
     },
     "execution_count": 108,
     "metadata": {},
     "output_type": "execute_result"
    }
   ],
   "source": [
    "len(attacks.species_.unique())"
   ]
  },
  {
   "cell_type": "markdown",
   "id": "d81c8625",
   "metadata": {},
   "source": [
    "### 14. Columna href_formula."
   ]
  },
  {
   "cell_type": "code",
   "execution_count": 109,
   "id": "5ab8bf49",
   "metadata": {},
   "outputs": [],
   "source": [
    "#Se rellenan valores nulos con 'unknown'.\n",
    "\n",
    "\n",
    "attacks.href_formula.fillna(value='unknown', inplace=True)"
   ]
  },
  {
   "cell_type": "code",
   "execution_count": 110,
   "id": "90856eba",
   "metadata": {},
   "outputs": [],
   "source": [
    "malas_dirweb=attacks['href_formula'].tolist()"
   ]
  },
  {
   "cell_type": "markdown",
   "id": "1bd939e1",
   "metadata": {},
   "source": [
    "Se localizan de la siguiente manera que hay algunas celdas que no siguen el mismo patrón:"
   ]
  },
  {
   "cell_type": "code",
   "execution_count": 111,
   "id": "04aaf558",
   "metadata": {},
   "outputs": [
    {
     "name": "stdout",
     "output_type": "stream",
     "text": [
      "6298\n"
     ]
    }
   ],
   "source": [
    "webs=[]\n",
    "\n",
    "\n",
    "for e in malas_dirweb:\n",
    "    \n",
    "    if e[0:7]=='http://':\n",
    "        \n",
    "        webs.append(e)\n",
    "\n",
    "print(len(webs))"
   ]
  },
  {
   "cell_type": "code",
   "execution_count": 112,
   "id": "3805f6fb",
   "metadata": {},
   "outputs": [
    {
     "name": "stdout",
     "output_type": "stream",
     "text": [
      "['pdf-directory/2013.05.27.b-Ena.pdf', 'unknown', '#VALUE!', 'Q93http://sharkattackfile.net/spreadsheets/pdf_directory/ND-0100-CDDollar.pdf']\n"
     ]
    }
   ],
   "source": [
    "malaswebs=[]\n",
    "\n",
    "for e in malas_dirweb:\n",
    "    \n",
    "    if e[0:7]!='http://':\n",
    "        \n",
    "        malaswebs.append(e)\n",
    "\n",
    "print(malaswebs)"
   ]
  },
  {
   "cell_type": "code",
   "execution_count": 113,
   "id": "005e632b",
   "metadata": {},
   "outputs": [],
   "source": [
    "#Se crea una fórmula para los pocos valores que no siguen el patrón y no dejan acceder a ninguna dirección web se establezcan como desconocidos.\n",
    "\n",
    "attacks.href_formula=attacks.href_formula.apply(cf.liampiar_web)"
   ]
  },
  {
   "cell_type": "code",
   "execution_count": 114,
   "id": "c39265a7",
   "metadata": {},
   "outputs": [
    {
     "data": {
      "text/plain": [
       "6291"
      ]
     },
     "execution_count": 114,
     "metadata": {},
     "output_type": "execute_result"
    }
   ],
   "source": [
    "len(attacks.pdf.unique())"
   ]
  },
  {
   "cell_type": "markdown",
   "id": "42dd797a",
   "metadata": {},
   "source": [
    "### 15. Columna investigator_or_source."
   ]
  },
  {
   "cell_type": "code",
   "execution_count": 115,
   "id": "7f98906c",
   "metadata": {},
   "outputs": [],
   "source": [
    "#Se rellenan valores nulos con 'unknown'.\n",
    "\n",
    "\n",
    "attacks.investigator_or_source.fillna(value='unknown', inplace=True)"
   ]
  },
  {
   "cell_type": "markdown",
   "id": "a71e04ab",
   "metadata": {},
   "source": [
    "##### Tras limpiar una a una las columnas problemáticas se comprueba si hay alguna fila duplicada."
   ]
  },
  {
   "cell_type": "code",
   "execution_count": 116,
   "id": "6a2c121d",
   "metadata": {},
   "outputs": [
    {
     "data": {
      "text/plain": [
       "False"
      ]
     },
     "execution_count": 116,
     "metadata": {},
     "output_type": "execute_result"
    }
   ],
   "source": [
    "attacks.duplicated().any()"
   ]
  },
  {
   "cell_type": "markdown",
   "id": "8982e027",
   "metadata": {},
   "source": [
    "Ahora que los datos están 'limpios' y se conoce las columans que se quedan se procede a renombrarlas:"
   ]
  },
  {
   "cell_type": "code",
   "execution_count": 117,
   "id": "435bb0cb",
   "metadata": {},
   "outputs": [
    {
     "data": {
      "text/plain": [
       "Index(['case_number', 'year', 'type_attack', 'country', 'area', 'location',\n",
       "       'activity', 'name', 'sex_', 'age', 'injury', 'Fatal', 'time',\n",
       "       'species_', 'investigator_or_source', 'pdf', 'href_formula',\n",
       "       'original_order'],\n",
       "      dtype='object')"
      ]
     },
     "execution_count": 117,
     "metadata": {},
     "output_type": "execute_result"
    }
   ],
   "source": [
    "attacks.columns"
   ]
  },
  {
   "cell_type": "code",
   "execution_count": 118,
   "id": "1caef860",
   "metadata": {},
   "outputs": [],
   "source": [
    "attacks.rename(columns={'case_number':'Case_number', 'year':'Year', 'type_attack':'Type_Attack', 'country':'Country_Zone', 'area':'Area', \n",
    "                        'location':'Location','activity':'Activity', 'name':'Name', 'sex_':'Sex', 'age':'Age', 'injury':'Injury', 'Fatal':'Fatal', \n",
    "                        'time':'Time','species_':'Species', 'investigator_or_source':'Investigator_or_Source', 'pdf':'PDF', 'href_formula':'Href_formula',\n",
    "                        'original_order':'Original_Order'}, inplace=True)"
   ]
  },
  {
   "cell_type": "code",
   "execution_count": 119,
   "id": "3d38f774",
   "metadata": {},
   "outputs": [
    {
     "data": {
      "text/html": [
       "<div>\n",
       "<style scoped>\n",
       "    .dataframe tbody tr th:only-of-type {\n",
       "        vertical-align: middle;\n",
       "    }\n",
       "\n",
       "    .dataframe tbody tr th {\n",
       "        vertical-align: top;\n",
       "    }\n",
       "\n",
       "    .dataframe thead th {\n",
       "        text-align: right;\n",
       "    }\n",
       "</style>\n",
       "<table border=\"1\" class=\"dataframe\">\n",
       "  <thead>\n",
       "    <tr style=\"text-align: right;\">\n",
       "      <th></th>\n",
       "      <th>Case_number</th>\n",
       "      <th>Year</th>\n",
       "      <th>Type_Attack</th>\n",
       "      <th>Country_Zone</th>\n",
       "      <th>Area</th>\n",
       "      <th>Location</th>\n",
       "      <th>Activity</th>\n",
       "      <th>Name</th>\n",
       "      <th>Sex</th>\n",
       "      <th>Age</th>\n",
       "      <th>Injury</th>\n",
       "      <th>Fatal</th>\n",
       "      <th>Time</th>\n",
       "      <th>Species</th>\n",
       "      <th>Investigator_or_Source</th>\n",
       "      <th>PDF</th>\n",
       "      <th>Href_formula</th>\n",
       "      <th>Original_Order</th>\n",
       "    </tr>\n",
       "  </thead>\n",
       "  <tbody>\n",
       "    <tr>\n",
       "      <th>0</th>\n",
       "      <td>2018.06.25</td>\n",
       "      <td>2018</td>\n",
       "      <td>Boating</td>\n",
       "      <td>USA</td>\n",
       "      <td>California</td>\n",
       "      <td>Oceanside, San Diego County</td>\n",
       "      <td>Paddling</td>\n",
       "      <td>Julie Wolfe</td>\n",
       "      <td>F</td>\n",
       "      <td>57.0</td>\n",
       "      <td>No injury to occupant, outrigger canoe and pad...</td>\n",
       "      <td>N</td>\n",
       "      <td>Afrternoon</td>\n",
       "      <td>White shark</td>\n",
       "      <td>R. Collier, GSAF</td>\n",
       "      <td>2018.06.25-Wolfe.pdf</td>\n",
       "      <td>http://sharkattackfile.net/spreadsheets/pdf_di...</td>\n",
       "      <td>6303.0</td>\n",
       "    </tr>\n",
       "    <tr>\n",
       "      <th>1</th>\n",
       "      <td>2018.06.18</td>\n",
       "      <td>2018</td>\n",
       "      <td>Unprovoked</td>\n",
       "      <td>USA</td>\n",
       "      <td>Georgia</td>\n",
       "      <td>St. Simon Island, Glynn County</td>\n",
       "      <td>Standing in water</td>\n",
       "      <td>Adyson McNeely</td>\n",
       "      <td>F</td>\n",
       "      <td>11.0</td>\n",
       "      <td>Minor injury to left thigh</td>\n",
       "      <td>N</td>\n",
       "      <td>Afrternoon</td>\n",
       "      <td>other_specie</td>\n",
       "      <td>K.McMurray, TrackingSharks.com</td>\n",
       "      <td>2018.06.18-McNeely.pdf</td>\n",
       "      <td>http://sharkattackfile.net/spreadsheets/pdf_di...</td>\n",
       "      <td>6302.0</td>\n",
       "    </tr>\n",
       "    <tr>\n",
       "      <th>2</th>\n",
       "      <td>2018.06.09</td>\n",
       "      <td>2018</td>\n",
       "      <td>Invalid</td>\n",
       "      <td>USA</td>\n",
       "      <td>Hawaii</td>\n",
       "      <td>Habush, Oahu</td>\n",
       "      <td>other</td>\n",
       "      <td>John Denges</td>\n",
       "      <td>M</td>\n",
       "      <td>48.0</td>\n",
       "      <td>Injury to left lower leg from surfboard skeg</td>\n",
       "      <td>N</td>\n",
       "      <td>Morning</td>\n",
       "      <td>other_specie</td>\n",
       "      <td>K.McMurray, TrackingSharks.com</td>\n",
       "      <td>2018.06.09-Denges.pdf</td>\n",
       "      <td>http://sharkattackfile.net/spreadsheets/pdf_di...</td>\n",
       "      <td>6301.0</td>\n",
       "    </tr>\n",
       "    <tr>\n",
       "      <th>3</th>\n",
       "      <td>2018.06.08</td>\n",
       "      <td>2018</td>\n",
       "      <td>Unprovoked</td>\n",
       "      <td>AUSTRALIA</td>\n",
       "      <td>New South Wales</td>\n",
       "      <td>Arrawarra Headland</td>\n",
       "      <td>other</td>\n",
       "      <td>unknown</td>\n",
       "      <td>M</td>\n",
       "      <td>unknown</td>\n",
       "      <td>Minor injury to lower leg</td>\n",
       "      <td>N</td>\n",
       "      <td>unknown</td>\n",
       "      <td>other_specie</td>\n",
       "      <td>B. Myatt, GSAF</td>\n",
       "      <td>2018.06.08-Arrawarra.pdf</td>\n",
       "      <td>http://sharkattackfile.net/spreadsheets/pdf_di...</td>\n",
       "      <td>6300.0</td>\n",
       "    </tr>\n",
       "    <tr>\n",
       "      <th>4</th>\n",
       "      <td>2018.06.04</td>\n",
       "      <td>2018</td>\n",
       "      <td>Provoked</td>\n",
       "      <td>MEXICO</td>\n",
       "      <td>Colima</td>\n",
       "      <td>La Ticla</td>\n",
       "      <td>Diving</td>\n",
       "      <td>Gustavo Ramos</td>\n",
       "      <td>M</td>\n",
       "      <td>unknown</td>\n",
       "      <td>Lacerations to leg &amp; hand shark PROVOKED INCIDENT</td>\n",
       "      <td>N</td>\n",
       "      <td>unknown</td>\n",
       "      <td>Tiger shark</td>\n",
       "      <td>A .Kipper</td>\n",
       "      <td>2018.06.04-Ramos.pdf</td>\n",
       "      <td>http://sharkattackfile.net/spreadsheets/pdf_di...</td>\n",
       "      <td>6299.0</td>\n",
       "    </tr>\n",
       "  </tbody>\n",
       "</table>\n",
       "</div>"
      ],
      "text/plain": [
       "  Case_number  Year Type_Attack Country_Zone             Area  \\\n",
       "0  2018.06.25  2018     Boating          USA       California   \n",
       "1  2018.06.18  2018  Unprovoked          USA          Georgia   \n",
       "2  2018.06.09  2018     Invalid          USA           Hawaii   \n",
       "3  2018.06.08  2018  Unprovoked    AUSTRALIA  New South Wales   \n",
       "4  2018.06.04  2018    Provoked       MEXICO           Colima   \n",
       "\n",
       "                         Location           Activity             Name Sex  \\\n",
       "0     Oceanside, San Diego County           Paddling      Julie Wolfe   F   \n",
       "1  St. Simon Island, Glynn County  Standing in water  Adyson McNeely    F   \n",
       "2                    Habush, Oahu              other      John Denges   M   \n",
       "3              Arrawarra Headland              other          unknown   M   \n",
       "4                        La Ticla             Diving   Gustavo Ramos    M   \n",
       "\n",
       "       Age                                             Injury Fatal  \\\n",
       "0     57.0  No injury to occupant, outrigger canoe and pad...     N   \n",
       "1     11.0                         Minor injury to left thigh     N   \n",
       "2     48.0       Injury to left lower leg from surfboard skeg     N   \n",
       "3  unknown                          Minor injury to lower leg     N   \n",
       "4  unknown  Lacerations to leg & hand shark PROVOKED INCIDENT     N   \n",
       "\n",
       "         Time       Species          Investigator_or_Source  \\\n",
       "0  Afrternoon   White shark                R. Collier, GSAF   \n",
       "1  Afrternoon  other_specie  K.McMurray, TrackingSharks.com   \n",
       "2     Morning  other_specie  K.McMurray, TrackingSharks.com   \n",
       "3     unknown  other_specie                  B. Myatt, GSAF   \n",
       "4     unknown   Tiger shark                       A .Kipper   \n",
       "\n",
       "                        PDF  \\\n",
       "0      2018.06.25-Wolfe.pdf   \n",
       "1    2018.06.18-McNeely.pdf   \n",
       "2     2018.06.09-Denges.pdf   \n",
       "3  2018.06.08-Arrawarra.pdf   \n",
       "4      2018.06.04-Ramos.pdf   \n",
       "\n",
       "                                        Href_formula  Original_Order  \n",
       "0  http://sharkattackfile.net/spreadsheets/pdf_di...          6303.0  \n",
       "1  http://sharkattackfile.net/spreadsheets/pdf_di...          6302.0  \n",
       "2  http://sharkattackfile.net/spreadsheets/pdf_di...          6301.0  \n",
       "3  http://sharkattackfile.net/spreadsheets/pdf_di...          6300.0  \n",
       "4  http://sharkattackfile.net/spreadsheets/pdf_di...          6299.0  "
      ]
     },
     "execution_count": 119,
     "metadata": {},
     "output_type": "execute_result"
    }
   ],
   "source": [
    "attacks.head()"
   ]
  },
  {
   "cell_type": "code",
   "execution_count": 120,
   "id": "f0064bf7",
   "metadata": {},
   "outputs": [],
   "source": [
    "attacks_limpio=attacks.copy()"
   ]
  },
  {
   "cell_type": "code",
   "execution_count": 121,
   "id": "c536341d",
   "metadata": {},
   "outputs": [],
   "source": [
    "attacks_limpio.to_csv('attacks_limpio.csv', index=False) "
   ]
  },
  {
   "cell_type": "markdown",
   "id": "7538ad79",
   "metadata": {},
   "source": [
    "## Se procede a hacer la visulaización de los datos para el estudio de la hipótesis establecida al principio."
   ]
  },
  {
   "cell_type": "code",
   "execution_count": 122,
   "id": "25cb995d",
   "metadata": {},
   "outputs": [],
   "source": [
    "cols=['Country_Zone','Activity','Sex','Age']"
   ]
  },
  {
   "cell_type": "code",
   "execution_count": 123,
   "id": "a3eea69e",
   "metadata": {},
   "outputs": [],
   "source": [
    "sharks=attacks_limpio[cols]"
   ]
  },
  {
   "cell_type": "code",
   "execution_count": 124,
   "id": "624aee70",
   "metadata": {},
   "outputs": [
    {
     "data": {
      "text/html": [
       "<div>\n",
       "<style scoped>\n",
       "    .dataframe tbody tr th:only-of-type {\n",
       "        vertical-align: middle;\n",
       "    }\n",
       "\n",
       "    .dataframe tbody tr th {\n",
       "        vertical-align: top;\n",
       "    }\n",
       "\n",
       "    .dataframe thead th {\n",
       "        text-align: right;\n",
       "    }\n",
       "</style>\n",
       "<table border=\"1\" class=\"dataframe\">\n",
       "  <thead>\n",
       "    <tr style=\"text-align: right;\">\n",
       "      <th></th>\n",
       "      <th>Country_Zone</th>\n",
       "      <th>Activity</th>\n",
       "      <th>Sex</th>\n",
       "      <th>Age</th>\n",
       "    </tr>\n",
       "  </thead>\n",
       "  <tbody>\n",
       "    <tr>\n",
       "      <th>0</th>\n",
       "      <td>USA</td>\n",
       "      <td>Paddling</td>\n",
       "      <td>F</td>\n",
       "      <td>57.0</td>\n",
       "    </tr>\n",
       "    <tr>\n",
       "      <th>1</th>\n",
       "      <td>USA</td>\n",
       "      <td>Standing in water</td>\n",
       "      <td>F</td>\n",
       "      <td>11.0</td>\n",
       "    </tr>\n",
       "    <tr>\n",
       "      <th>2</th>\n",
       "      <td>USA</td>\n",
       "      <td>other</td>\n",
       "      <td>M</td>\n",
       "      <td>48.0</td>\n",
       "    </tr>\n",
       "    <tr>\n",
       "      <th>3</th>\n",
       "      <td>AUSTRALIA</td>\n",
       "      <td>other</td>\n",
       "      <td>M</td>\n",
       "      <td>unknown</td>\n",
       "    </tr>\n",
       "    <tr>\n",
       "      <th>4</th>\n",
       "      <td>MEXICO</td>\n",
       "      <td>Diving</td>\n",
       "      <td>M</td>\n",
       "      <td>unknown</td>\n",
       "    </tr>\n",
       "  </tbody>\n",
       "</table>\n",
       "</div>"
      ],
      "text/plain": [
       "  Country_Zone           Activity Sex      Age\n",
       "0          USA           Paddling   F     57.0\n",
       "1          USA  Standing in water   F     11.0\n",
       "2          USA              other   M     48.0\n",
       "3    AUSTRALIA              other   M  unknown\n",
       "4       MEXICO             Diving   M  unknown"
      ]
     },
     "execution_count": 124,
     "metadata": {},
     "output_type": "execute_result"
    }
   ],
   "source": [
    "sharks.head()"
   ]
  },
  {
   "cell_type": "markdown",
   "id": "e64ee574",
   "metadata": {},
   "source": [
    "Hipótesis 1: Comprobar en que país se dan más ataques."
   ]
  },
  {
   "cell_type": "code",
   "execution_count": 125,
   "id": "251b9025",
   "metadata": {},
   "outputs": [
    {
     "data": {
      "text/html": [
       "<div>\n",
       "<style scoped>\n",
       "    .dataframe tbody tr th:only-of-type {\n",
       "        vertical-align: middle;\n",
       "    }\n",
       "\n",
       "    .dataframe tbody tr th {\n",
       "        vertical-align: top;\n",
       "    }\n",
       "\n",
       "    .dataframe thead th {\n",
       "        text-align: right;\n",
       "    }\n",
       "</style>\n",
       "<table border=\"1\" class=\"dataframe\">\n",
       "  <thead>\n",
       "    <tr style=\"text-align: right;\">\n",
       "      <th></th>\n",
       "      <th>Country_Zone</th>\n",
       "      <th>Activity</th>\n",
       "      <th>Sex</th>\n",
       "      <th>Age</th>\n",
       "    </tr>\n",
       "  </thead>\n",
       "  <tbody>\n",
       "    <tr>\n",
       "      <th>0</th>\n",
       "      <td>USA</td>\n",
       "      <td>Paddling</td>\n",
       "      <td>F</td>\n",
       "      <td>57.0</td>\n",
       "    </tr>\n",
       "    <tr>\n",
       "      <th>1</th>\n",
       "      <td>USA</td>\n",
       "      <td>Standing in water</td>\n",
       "      <td>F</td>\n",
       "      <td>11.0</td>\n",
       "    </tr>\n",
       "    <tr>\n",
       "      <th>2</th>\n",
       "      <td>USA</td>\n",
       "      <td>other</td>\n",
       "      <td>M</td>\n",
       "      <td>48.0</td>\n",
       "    </tr>\n",
       "    <tr>\n",
       "      <th>3</th>\n",
       "      <td>AUSTRALIA</td>\n",
       "      <td>other</td>\n",
       "      <td>M</td>\n",
       "      <td>unknown</td>\n",
       "    </tr>\n",
       "    <tr>\n",
       "      <th>4</th>\n",
       "      <td>MEXICO</td>\n",
       "      <td>Diving</td>\n",
       "      <td>M</td>\n",
       "      <td>unknown</td>\n",
       "    </tr>\n",
       "    <tr>\n",
       "      <th>...</th>\n",
       "      <td>...</td>\n",
       "      <td>...</td>\n",
       "      <td>...</td>\n",
       "      <td>...</td>\n",
       "    </tr>\n",
       "    <tr>\n",
       "      <th>6297</th>\n",
       "      <td>AUSTRALIA</td>\n",
       "      <td>Diving</td>\n",
       "      <td>M</td>\n",
       "      <td>unknown</td>\n",
       "    </tr>\n",
       "    <tr>\n",
       "      <th>6298</th>\n",
       "      <td>AUSTRALIA</td>\n",
       "      <td>Diving</td>\n",
       "      <td>M</td>\n",
       "      <td>unknown</td>\n",
       "    </tr>\n",
       "    <tr>\n",
       "      <th>6299</th>\n",
       "      <td>USA</td>\n",
       "      <td>Swimming</td>\n",
       "      <td>M</td>\n",
       "      <td>unknown</td>\n",
       "    </tr>\n",
       "    <tr>\n",
       "      <th>6300</th>\n",
       "      <td>PANAMA</td>\n",
       "      <td>other</td>\n",
       "      <td>M</td>\n",
       "      <td>unknown</td>\n",
       "    </tr>\n",
       "    <tr>\n",
       "      <th>6301</th>\n",
       "      <td>CEYLON SRI LANKA</td>\n",
       "      <td>Swimming</td>\n",
       "      <td>M</td>\n",
       "      <td>15.0</td>\n",
       "    </tr>\n",
       "  </tbody>\n",
       "</table>\n",
       "<p>6302 rows × 4 columns</p>\n",
       "</div>"
      ],
      "text/plain": [
       "          Country_Zone           Activity Sex      Age\n",
       "0                  USA           Paddling   F     57.0\n",
       "1                  USA  Standing in water   F     11.0\n",
       "2                  USA              other   M     48.0\n",
       "3            AUSTRALIA              other   M  unknown\n",
       "4               MEXICO             Diving   M  unknown\n",
       "...                ...                ...  ..      ...\n",
       "6297         AUSTRALIA             Diving   M  unknown\n",
       "6298         AUSTRALIA             Diving   M  unknown\n",
       "6299               USA           Swimming   M  unknown\n",
       "6300            PANAMA              other   M  unknown\n",
       "6301  CEYLON SRI LANKA           Swimming   M     15.0\n",
       "\n",
       "[6302 rows x 4 columns]"
      ]
     },
     "execution_count": 125,
     "metadata": {},
     "output_type": "execute_result"
    }
   ],
   "source": [
    "sharks_country = sharks[(sharks['Country_Zone'] != 'unknown')] \n",
    "sharks_country"
   ]
  },
  {
   "cell_type": "code",
   "execution_count": 126,
   "id": "4d9d8749",
   "metadata": {},
   "outputs": [
    {
     "name": "stdout",
     "output_type": "stream",
     "text": [
      "Requirement already satisfied: ipython in /Users/anachaparrohernandez/opt/anaconda3/lib/python3.9/site-packages (8.2.0)\n",
      "Requirement already satisfied: pexpect>4.3 in /Users/anachaparrohernandez/opt/anaconda3/lib/python3.9/site-packages (from ipython) (4.8.0)\n",
      "Requirement already satisfied: setuptools>=18.5 in /Users/anachaparrohernandez/opt/anaconda3/lib/python3.9/site-packages (from ipython) (61.2.0)\n",
      "Requirement already satisfied: stack-data in /Users/anachaparrohernandez/opt/anaconda3/lib/python3.9/site-packages (from ipython) (0.2.0)\n",
      "Requirement already satisfied: matplotlib-inline in /Users/anachaparrohernandez/opt/anaconda3/lib/python3.9/site-packages (from ipython) (0.1.2)\n",
      "Requirement already satisfied: pygments>=2.4.0 in /Users/anachaparrohernandez/opt/anaconda3/lib/python3.9/site-packages (from ipython) (2.11.2)\n",
      "Requirement already satisfied: jedi>=0.16 in /Users/anachaparrohernandez/opt/anaconda3/lib/python3.9/site-packages (from ipython) (0.18.1)\n",
      "Requirement already satisfied: traitlets>=5 in /Users/anachaparrohernandez/opt/anaconda3/lib/python3.9/site-packages (from ipython) (5.1.1)\n",
      "Requirement already satisfied: appnope in /Users/anachaparrohernandez/opt/anaconda3/lib/python3.9/site-packages (from ipython) (0.1.2)\n",
      "Requirement already satisfied: pickleshare in /Users/anachaparrohernandez/opt/anaconda3/lib/python3.9/site-packages (from ipython) (0.7.5)\n",
      "Requirement already satisfied: decorator in /Users/anachaparrohernandez/opt/anaconda3/lib/python3.9/site-packages (from ipython) (5.1.1)\n",
      "Requirement already satisfied: backcall in /Users/anachaparrohernandez/opt/anaconda3/lib/python3.9/site-packages (from ipython) (0.2.0)\n",
      "Requirement already satisfied: prompt-toolkit!=3.0.0,!=3.0.1,<3.1.0,>=2.0.0 in /Users/anachaparrohernandez/opt/anaconda3/lib/python3.9/site-packages (from ipython) (3.0.20)\n",
      "Requirement already satisfied: parso<0.9.0,>=0.8.0 in /Users/anachaparrohernandez/opt/anaconda3/lib/python3.9/site-packages (from jedi>=0.16->ipython) (0.8.3)\n",
      "Requirement already satisfied: ptyprocess>=0.5 in /Users/anachaparrohernandez/opt/anaconda3/lib/python3.9/site-packages (from pexpect>4.3->ipython) (0.7.0)\n",
      "Requirement already satisfied: wcwidth in /Users/anachaparrohernandez/opt/anaconda3/lib/python3.9/site-packages (from prompt-toolkit!=3.0.0,!=3.0.1,<3.1.0,>=2.0.0->ipython) (0.2.5)\n",
      "Requirement already satisfied: asttokens in /Users/anachaparrohernandez/opt/anaconda3/lib/python3.9/site-packages (from stack-data->ipython) (2.0.5)\n",
      "Requirement already satisfied: pure-eval in /Users/anachaparrohernandez/opt/anaconda3/lib/python3.9/site-packages (from stack-data->ipython) (0.2.2)\n",
      "Requirement already satisfied: executing in /Users/anachaparrohernandez/opt/anaconda3/lib/python3.9/site-packages (from stack-data->ipython) (0.8.3)\n",
      "Requirement already satisfied: six in /Users/anachaparrohernandez/opt/anaconda3/lib/python3.9/site-packages (from asttokens->stack-data->ipython) (1.16.0)\n",
      "Note: you may need to restart the kernel to use updated packages.\n",
      "Requirement already satisfied: seaborn in /Users/anachaparrohernandez/opt/anaconda3/lib/python3.9/site-packages (0.11.2)\n",
      "Requirement already satisfied: pandas>=0.23 in /Users/anachaparrohernandez/opt/anaconda3/lib/python3.9/site-packages (from seaborn) (1.4.2)\n",
      "Requirement already satisfied: matplotlib>=2.2 in /Users/anachaparrohernandez/opt/anaconda3/lib/python3.9/site-packages (from seaborn) (3.5.1)\n",
      "Requirement already satisfied: numpy>=1.15 in /Users/anachaparrohernandez/opt/anaconda3/lib/python3.9/site-packages (from seaborn) (1.21.5)\n",
      "Requirement already satisfied: scipy>=1.0 in /Users/anachaparrohernandez/opt/anaconda3/lib/python3.9/site-packages (from seaborn) (1.7.3)\n",
      "Requirement already satisfied: pillow>=6.2.0 in /Users/anachaparrohernandez/opt/anaconda3/lib/python3.9/site-packages (from matplotlib>=2.2->seaborn) (9.0.1)\n",
      "Requirement already satisfied: packaging>=20.0 in /Users/anachaparrohernandez/opt/anaconda3/lib/python3.9/site-packages (from matplotlib>=2.2->seaborn) (21.3)\n",
      "Requirement already satisfied: cycler>=0.10 in /Users/anachaparrohernandez/opt/anaconda3/lib/python3.9/site-packages (from matplotlib>=2.2->seaborn) (0.11.0)\n",
      "Requirement already satisfied: fonttools>=4.22.0 in /Users/anachaparrohernandez/opt/anaconda3/lib/python3.9/site-packages (from matplotlib>=2.2->seaborn) (4.25.0)\n",
      "Requirement already satisfied: pyparsing>=2.2.1 in /Users/anachaparrohernandez/opt/anaconda3/lib/python3.9/site-packages (from matplotlib>=2.2->seaborn) (3.0.4)\n",
      "Requirement already satisfied: python-dateutil>=2.7 in /Users/anachaparrohernandez/opt/anaconda3/lib/python3.9/site-packages (from matplotlib>=2.2->seaborn) (2.8.2)\n",
      "Requirement already satisfied: kiwisolver>=1.0.1 in /Users/anachaparrohernandez/opt/anaconda3/lib/python3.9/site-packages (from matplotlib>=2.2->seaborn) (1.3.2)\n",
      "Requirement already satisfied: pytz>=2020.1 in /Users/anachaparrohernandez/opt/anaconda3/lib/python3.9/site-packages (from pandas>=0.23->seaborn) (2021.3)\n",
      "Requirement already satisfied: six>=1.5 in /Users/anachaparrohernandez/opt/anaconda3/lib/python3.9/site-packages (from python-dateutil>=2.7->matplotlib>=2.2->seaborn) (1.16.0)\n",
      "Note: you may need to restart the kernel to use updated packages.\n"
     ]
    }
   ],
   "source": [
    "%pip install ipython\n",
    "%pip install seaborn\n",
    "\n",
    "\n",
    "import pandas as pd\n",
    "pd.set_option('display.max_columns', None)\n",
    "\n",
    "import numpy as np\n",
    "\n",
    "import warnings\n",
    "warnings.filterwarnings('ignore')\n",
    "\n",
    "\n",
    "# para pintar\n",
    "import pylab as plt\n",
    "import seaborn as sns\n",
    "\n",
    "#para que salga el grafico\n",
    "%matplotlib inline"
   ]
  },
  {
   "cell_type": "markdown",
   "id": "d54553f6",
   "metadata": {},
   "source": [
    "## 1º Hipótesis.\n",
    "\n",
    "#### Se quiere verificar en que país se han producido mayor número de ataques de tiburones, verificando que dicho país se trata de USA."
   ]
  },
  {
   "cell_type": "code",
   "execution_count": 127,
   "id": "4f653902",
   "metadata": {},
   "outputs": [
    {
     "data": {
      "image/png": "[encoded data removed]",
      "text/plain": [
       "<Figure size 1584x720 with 1 Axes>"
      ]
     },
     "metadata": {
      "needs_background": "light"
     },
     "output_type": "display_data"
    }
   ],
   "source": [
    "plt.figure(figsize=(22,10))\n",
    "sharks.Country_Zone.value_counts()[:20].plot.bar();"
   ]
  },
  {
   "cell_type": "markdown",
   "id": "922b0bb0",
   "metadata": {},
   "source": [
    "## 2º Hipótesis.\n",
    "\n",
    "#### Se quiere localizar en que tipo de actividad o practicando qué desporte acuático se han producido mayor número de ataques de tiburones. En primer lugar se observa descartando los valores desconocidos, se verifica que pescando ha sido cuando se han producido el mayot número de ataques."
   ]
  },
  {
   "cell_type": "code",
   "execution_count": 128,
   "id": "739af3f1",
   "metadata": {},
   "outputs": [
    {
     "data": {
      "image/png": "[encoded data removed]",
      "text/plain": [
       "<Figure size 1584x720 with 1 Axes>"
      ]
     },
     "metadata": {
      "needs_background": "light"
     },
     "output_type": "display_data"
    }
   ],
   "source": [
    "plt.figure(figsize=(22,10))\n",
    "sharks.Activity.value_counts()[:20].plot.bar();"
   ]
  },
  {
   "cell_type": "markdown",
   "id": "39720f21",
   "metadata": {},
   "source": [
    "## 3º Hipótesis.\n",
    "\n",
    "#### Se quiere verificar por rango de edad y sexo, quienes han recibido mayor número de ataques. Estos gráficos arrojan valores más altos en hombres que en mujeres en un rango de edad de unos 48 años."
   ]
  },
  {
   "cell_type": "code",
   "execution_count": 129,
   "id": "6c037933",
   "metadata": {},
   "outputs": [
    {
     "data": {
      "image/png": "[encoded data removed]",
      "text/plain": [
       "<Figure size 2880x1440 with 1 Axes>"
      ]
     },
     "metadata": {
      "needs_background": "light"
     },
     "output_type": "display_data"
    }
   ],
   "source": [
    "plt.figure(figsize=(40,20))\n",
    "\n",
    "\n",
    "sns.countplot(x='Age', hue='Sex', data = sharks, palette=\"rocket_r\")\n",
    "plt.xticks(rotation=45);\n"
   ]
  },
  {
   "cell_type": "code",
   "execution_count": 130,
   "id": "8fca47fb",
   "metadata": {},
   "outputs": [
    {
     "data": {
      "image/png": "[encoded data removed]",
      "text/plain": [
       "<Figure size 1584x720 with 1 Axes>"
      ]
     },
     "metadata": {
      "needs_background": "light"
     },
     "output_type": "display_data"
    }
   ],
   "source": [
    "plt.figure(figsize=(22,10))\n",
    "sharks.Sex.value_counts()[:20].plot.bar();"
   ]
  }
 ],
 "metadata": {
  "kernelspec": {
   "display_name": "Python 3 (ipykernel)",
   "language": "python",
   "name": "python3"
  },
  "language_info": {
   "codemirror_mode": {
    "name": "ipython",
    "version": 3
   },
   "file_extension": ".py",
   "mimetype": "text/x-python",
   "name": "python",
   "nbconvert_exporter": "python",
   "pygments_lexer": "ipython3",
   "version": "3.9.12"
  }
 },
 "nbformat": 4,
 "nbformat_minor": 5
}
