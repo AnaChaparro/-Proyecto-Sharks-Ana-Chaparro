{
 "cells": [
  {
   "cell_type": "code",
   "execution_count": 22,
   "id": "714352c6",
   "metadata": {},
   "outputs": [],
   "source": [
    "def DNA_strand(dna):\n",
    "    \n",
    "    TransDNA = ''\n",
    "    \n",
    "    for d in dna:\n",
    "        \n",
    "        if d == 'A':\n",
    "            TransDNA += 'T'\n",
    "        \n",
    "        elif d == 'T':\n",
    "            TransDNA += 'A'\n",
    "        \n",
    "        elif d == 'G':\n",
    "            TransDNA += 'C'\n",
    "        \n",
    "        elif d == 'C':\n",
    "            TransDNA += 'G'\n",
    "    \n",
    "    return TransDNA\n",
    "    "
   ]
  },
  {
   "cell_type": "code",
   "execution_count": 24,
   "id": "1d028d53",
   "metadata": {},
   "outputs": [
    {
     "data": {
      "text/plain": [
       "'CATA'"
      ]
     },
     "execution_count": 24,
     "metadata": {},
     "output_type": "execute_result"
    }
   ],
   "source": [
    "DNA_strand('GTAT')\n"
   ]
  },
  {
   "cell_type": "code",
   "execution_count": null,
   "id": "9ca4f6e3",
   "metadata": {},
   "outputs": [],
   "source": [
    "pairs = {'A':'T','T':'A','C':'G','G':'C'}\n",
    "def DNA_strand1(dna):\n",
    "    return ''.join([pairs[x] for x in dna])"
   ]
  },
  {
   "cell_type": "code",
   "execution_count": null,
   "id": "6baf2bf2",
   "metadata": {},
   "outputs": [],
   "source": [
    "def DNA_strand2(dna):\n",
    "    reference = { \"A\":\"T\",\n",
    "                  \"T\":\"A\",\n",
    "                  \"C\":\"G\",\n",
    "                  \"G\":\"C\"\n",
    "                  }\n",
    "    return \"\".join([reference[x] for x in dna])"
   ]
  },
  {
   "cell_type": "code",
   "execution_count": null,
   "id": "7295dba6",
   "metadata": {},
   "outputs": [],
   "source": [
    "def DNA_strand3(dna):\n",
    "    # code here\n",
    "    dnaComplement=\"\"\n",
    "    for string in dna:\n",
    "        if string==\"A\":\n",
    "            dnaComplement+=\"T\"\n",
    "        elif string ==\"T\":\n",
    "            dnaComplement+=\"A\"\n",
    "        elif string ==\"G\":\n",
    "            dnaComplement+=\"C\"\n",
    "        elif string == \"C\":\n",
    "            dnaComplement+=\"G\"\n",
    "    return dnaComplement\n",
    "\n"
   ]
  },
  {
   "cell_type": "code",
   "execution_count": 75,
   "id": "81539b16",
   "metadata": {},
   "outputs": [],
   "source": [
    "def vowel_indices(word):\n",
    "    \n",
    "    \n",
    "    lista=[]\n",
    "\n",
    "    for letra in word:\n",
    "        \n",
    "        if len(letra) in \"aeiouAEIOU\":\n",
    "            \n",
    "            lista.append([letra])\n",
    "        \n",
    "    return lista\n",
    "        \n",
    "\n",
    "            \n",
    "        \n",
    "    \n",
    "    \n",
    "    "
   ]
  },
  {
   "cell_type": "code",
   "execution_count": 76,
   "id": "aa18b4d9",
   "metadata": {},
   "outputs": [
    {
     "ename": "TypeError",
     "evalue": "'in <string>' requires string as left operand, not int",
     "output_type": "error",
     "traceback": [
      "\u001b[0;31m---------------------------------------------------------------------------\u001b[0m",
      "\u001b[0;31mTypeError\u001b[0m                                 Traceback (most recent call last)",
      "Input \u001b[0;32mIn [76]\u001b[0m, in \u001b[0;36m<cell line: 1>\u001b[0;34m()\u001b[0m\n\u001b[0;32m----> 1\u001b[0m \u001b[43mvowel_indices\u001b[49m\u001b[43m(\u001b[49m\u001b[38;5;124;43m'\u001b[39;49m\u001b[38;5;124;43mSuper\u001b[39;49m\u001b[38;5;124;43m'\u001b[39;49m\u001b[43m)\u001b[49m\n",
      "Input \u001b[0;32mIn [75]\u001b[0m, in \u001b[0;36mvowel_indices\u001b[0;34m(word)\u001b[0m\n\u001b[1;32m      4\u001b[0m lista\u001b[38;5;241m=\u001b[39m[]\n\u001b[1;32m      6\u001b[0m \u001b[38;5;28;01mfor\u001b[39;00m letra \u001b[38;5;129;01min\u001b[39;00m word:\n\u001b[0;32m----> 8\u001b[0m     \u001b[38;5;28;01mif\u001b[39;00m \u001b[38;5;28;43mlen\u001b[39;49m\u001b[43m(\u001b[49m\u001b[43mletra\u001b[49m\u001b[43m)\u001b[49m\u001b[43m \u001b[49m\u001b[38;5;129;43;01min\u001b[39;49;00m\u001b[43m \u001b[49m\u001b[38;5;124;43m\"\u001b[39;49m\u001b[38;5;124;43maeiouAEIOU\u001b[39;49m\u001b[38;5;124;43m\"\u001b[39;49m:\n\u001b[1;32m     10\u001b[0m         lista\u001b[38;5;241m.\u001b[39mappend([letra])\n\u001b[1;32m     12\u001b[0m \u001b[38;5;28;01mreturn\u001b[39;00m lista\n",
      "\u001b[0;31mTypeError\u001b[0m: 'in <string>' requires string as left operand, not int"
     ]
    }
   ],
   "source": [
    "vowel_indices('Super')"
   ]
  },
  {
   "cell_type": "code",
   "execution_count": 107,
   "id": "48a290e3",
   "metadata": {},
   "outputs": [],
   "source": [
    "def vowel_indices1(word):\n",
    "    \n",
    "    vowels = ['a', 'e', 'i', 'o', 'u','A', 'E', 'I', 'O', 'U' ]\n",
    "    \n",
    "    vowels_count = []\n",
    "\n",
    "    \n",
    "    for index, letter in enumerate(word):\n",
    "        \n",
    "        if letter in vowels or letter in [x for x in vowels]:\n",
    "           \n",
    "            vowels_count.append(index + 1)\n",
    "    \n",
    "    return   vowels_count\n",
    "        \n",
    "        \n",
    "    "
   ]
  },
  {
   "cell_type": "code",
   "execution_count": 109,
   "id": "f9f5084d",
   "metadata": {},
   "outputs": [
    {
     "data": {
      "text/plain": [
       "[2, 3]"
      ]
     },
     "execution_count": 109,
     "metadata": {},
     "output_type": "execute_result"
    }
   ],
   "source": [
    "vowel_indices1('bialy')"
   ]
  },
  {
   "cell_type": "code",
   "execution_count": 112,
   "id": "e30ace75",
   "metadata": {},
   "outputs": [],
   "source": [
    "def vowel_indices1(word):\n",
    "    \n",
    "    res = []\n",
    "    \n",
    "    vowel = ['a', 'e', 'i', 'o', 'u']\n",
    "    \n",
    "    lst = list(word.lower())\n",
    "    \n",
    "    print(lst)\n",
    "    \n",
    "    for index, i in enumerate(lst):\n",
    "        \n",
    "        if i in vowel:\n",
    "            \n",
    "            res.append(index+1)\n",
    "    \n",
    "    return res"
   ]
  },
  {
   "cell_type": "code",
   "execution_count": 113,
   "id": "9eb43531",
   "metadata": {},
   "outputs": [
    {
     "name": "stdout",
     "output_type": "stream",
     "text": [
      "['b', 'i', 'a', 'l', 'y']\n"
     ]
    },
    {
     "data": {
      "text/plain": [
       "[2, 3, 5]"
      ]
     },
     "execution_count": 113,
     "metadata": {},
     "output_type": "execute_result"
    }
   ],
   "source": [
    "vowel_indices1('bialy')"
   ]
  },
  {
   "cell_type": "code",
   "execution_count": null,
   "id": "38433b83",
   "metadata": {},
   "outputs": [],
   "source": []
  }
 ],
 "metadata": {
  "kernelspec": {
   "display_name": "Python 3 (ipykernel)",
   "language": "python",
   "name": "python3"
  },
  "language_info": {
   "codemirror_mode": {
    "name": "ipython",
    "version": 3
   },
   "file_extension": ".py",
   "mimetype": "text/x-python",
   "name": "python",
   "nbconvert_exporter": "python",
   "pygments_lexer": "ipython3",
   "version": "3.9.12"
  }
 },
 "nbformat": 4,
 "nbformat_minor": 5
}
